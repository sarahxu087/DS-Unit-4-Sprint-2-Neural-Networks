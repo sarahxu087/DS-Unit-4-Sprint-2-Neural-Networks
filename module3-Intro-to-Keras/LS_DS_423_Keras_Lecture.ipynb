{
 "cells": [
  {
   "cell_type": "markdown",
   "metadata": {
    "colab_type": "text",
    "id": "HJzTIkYAsLxw"
   },
   "source": [
    "Lambda School Data Science\n",
    "\n",
    "*Unit 4, Sprint 2, Module 3*\n",
    "\n",
    "---"
   ]
  },
  {
   "cell_type": "markdown",
   "metadata": {
    "colab_type": "text",
    "id": "HJzTIkYAsLxw"
   },
   "source": [
    "# Neural Network Frameworks (Prepare)"
   ]
  },
  {
   "cell_type": "markdown",
   "metadata": {
    "colab_type": "text",
    "id": "HJzTIkYAsLxw"
   },
   "source": [
    "## Learning Objectives\n",
    "* <a href=\"#p1\">Part 1</a>: Introduce the Keras Sequential Model API\n",
    "* <a href=\"#p2\">Part 2</a>: Learn How to Select Model Architecture \n",
    "* <a href=\"#p3\">Part 3</a>: Discuss the trade-off between various activation functions\n",
    "\n",
    "## Lets Use Libraries!\n",
    "\n",
    "The objective of the last two days has been to familiarize you with the fundamentals of neural networks: terminology, structure of networks, forward propagation, error/cost functions, backpropagation, epochs, and gradient descent. We have tried to reinforce these topics by requiring to you code some of the simplest neural networks by hand including Perceptrons (single node neural networks) and Multi-Layer Perceptrons also known as Feed-Forward Neural Networks. Continuing to do things by hand would not be the best use of our limited time. You're ready to graduate from doing things by hand and start using some powerful libraries to build cutting-edge predictive models. "
   ]
  },
  {
   "cell_type": "markdown",
   "metadata": {},
   "source": [
    "# Keras Sequential API (Learn)"
   ]
  },
  {
   "cell_type": "markdown",
   "metadata": {
    "toc-hr-collapsed": true
   },
   "source": [
    "## Overview\n",
    "\n",
    "> \"Keras is a high-level neural networks API, written in Python and capable of running on top of TensorFlow, CNTK, or Theano. It was developed with a focus on enabling fast experimentation. Being able to go from idea to result with the least possible delay is key to doing good research. Use Keras if you need a deep learning library that:\n",
    "\n",
    "> Allows for easy and fast prototyping (through user friendliness, modularity, and extensibility).\n",
    "Supports both convolutional networks and recurrent networks, as well as combinations of the two.\n",
    "Runs seamlessly on CPU and GPU.\" "
   ]
  },
  {
   "cell_type": "markdown",
   "metadata": {
    "colab_type": "text",
    "id": "AIJoRBxHy27n"
   },
   "source": [
    "### Keras Perceptron Sample"
   ]
  },
  {
   "cell_type": "code",
   "execution_count": 1,
   "metadata": {},
   "outputs": [],
   "source": [
    "import pandas as pd\n",
    "\n",
    "data = { 'x1': [0,1,0,1],\n",
    "         'x2': [0,0,1,1],\n",
    "         'y':  [1,1,1,0]\n",
    "       }\n",
    "\n",
    "df = pd.DataFrame.from_dict(data).astype('int')\n",
    "X = df[['x1', 'x2']].values\n",
    "y = df['y'].values"
   ]
  },
  {
   "cell_type": "code",
   "execution_count": 6,
   "metadata": {
    "colab": {
     "base_uri": "https://localhost:8080/",
     "height": 5216
    },
    "colab_type": "code",
    "id": "TQxyONqKvFxB",
    "outputId": "12966e66-2297-4f82-85b3-c275a9c38563"
   },
   "outputs": [
    {
     "name": "stdout",
     "output_type": "stream",
     "text": [
      "Train on 4 samples\n",
      "Epoch 1/5\n",
      "4/4 [==============================] - 0s 69ms/sample - loss: 0.6399 - accuracy: 0.7500\n",
      "Epoch 2/5\n",
      "4/4 [==============================] - 0s 554us/sample - loss: 0.6396 - accuracy: 0.7500\n",
      "Epoch 3/5\n",
      "4/4 [==============================] - 0s 482us/sample - loss: 0.6392 - accuracy: 0.7500\n",
      "Epoch 4/5\n",
      "4/4 [==============================] - 0s 423us/sample - loss: 0.6389 - accuracy: 0.7500\n",
      "Epoch 5/5\n",
      "4/4 [==============================] - 0s 492us/sample - loss: 0.6385 - accuracy: 0.7500\n"
     ]
    },
    {
     "data": {
      "text/plain": [
       "<tensorflow.python.keras.callbacks.History at 0x7fe9e8a0b8d0>"
      ]
     },
     "execution_count": 6,
     "metadata": {},
     "output_type": "execute_result"
    }
   ],
   "source": [
    "from tensorflow.keras.models import Sequential\n",
    "from tensorflow.keras.layers import Dense\n",
    "\n",
    "# This is our perceptron from Monday's by-hand: \n",
    "model = Sequential()\n",
    "model.add(Dense(1,input_dim=2, activation='sigmoid'))\n",
    "model.add(Dense(1,activation='sigmoid'))\n",
    "model.compile(loss='binary_crossentropy', optimizer='adam', metrics=['accuracy'])\n",
    "model.fit(X,y, epochs=5)"
   ]
  },
  {
   "cell_type": "code",
   "execution_count": 7,
   "metadata": {
    "colab": {
     "base_uri": "https://localhost:8080/",
     "height": 69
    },
    "colab_type": "code",
    "id": "Z1wfKUxszPKa",
    "outputId": "0cdacd1d-6e5a-4bbe-fabb-568cd94724be"
   },
   "outputs": [
    {
     "name": "stdout",
     "output_type": "stream",
     "text": [
      "4/4 [==============================] - 0s 19ms/sample - loss: 0.6382 - accuracy: 0.7500\n",
      "accuracy: 75.0\n"
     ]
    }
   ],
   "source": [
    "# evaluate the model\n",
    "scores = model.evaluate(X, y)\n",
    "print(f\"{model.metrics_names[1]}: {scores[1]*100}\")"
   ]
  },
  {
   "cell_type": "markdown",
   "metadata": {
    "toc-hr-collapsed": true
   },
   "source": [
    "## Follow Along\n",
    "\n",
    "In the `Sequential` api model, you specify a model architecture by 'sequentially specifying layers. This type of specification works well for feed forward neural networks in which the data flows in one direction (forward propagation) and the error flows in the opposite direction (backwards propagation). The Keras `Sequential` API follows a standardarized worklow to estimate a 'net: \n",
    "\n",
    "1. Load Data\n",
    "2. Define Model\n",
    "3. Compile Model\n",
    "4. Fit Model\n",
    "5. Evaluate Model\n",
    "\n",
    "You saw these steps in our Keras Perceptron Sample, but let's walk thru each step in detail."
   ]
  },
  {
   "cell_type": "markdown",
   "metadata": {
    "colab_type": "text",
    "id": "Md5D67XwqVAf",
    "toc-hr-collapsed": false
   },
   "source": [
    "### Load Data\n",
    "\n",
    "Our life is going to be easier if our data is already cleaned up and numeric, so lets use this dataset from Jason Brownlee that is already numeric and has no column headers so we'll need to slice off the last column of data to act as our y values."
   ]
  },
  {
   "cell_type": "code",
   "execution_count": 8,
   "metadata": {
    "colab": {
     "base_uri": "https://localhost:8080/",
     "height": 109,
     "resources": {
      "http://localhost:8080/nbextensions/google.colab/files.js": {
       "data": "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",
       "headers": [
        [
         "content-type",
         "application/javascript"
        ]
       ],
       "ok": true,
       "status": 200,
       "status_text": ""
      }
     }
    },
    "colab_type": "code",
    "id": "bn09phMBpY1J",
    "outputId": "1c45fb6a-e3cb-4ec1-fb85-de52b3c60bae"
   },
   "outputs": [],
   "source": [
    "import pandas as pd\n",
    "\n",
    "url =\"https://raw.githubusercontent.com/jbrownlee/Datasets/master/pima-indians-diabetes.data.csv\"\n",
    "\n",
    "dataset = pd.read_csv(url, header=None)"
   ]
  },
  {
   "cell_type": "code",
   "execution_count": 9,
   "metadata": {},
   "outputs": [
    {
     "data": {
      "text/html": [
       "<div>\n",
       "<style scoped>\n",
       "    .dataframe tbody tr th:only-of-type {\n",
       "        vertical-align: middle;\n",
       "    }\n",
       "\n",
       "    .dataframe tbody tr th {\n",
       "        vertical-align: top;\n",
       "    }\n",
       "\n",
       "    .dataframe thead th {\n",
       "        text-align: right;\n",
       "    }\n",
       "</style>\n",
       "<table border=\"1\" class=\"dataframe\">\n",
       "  <thead>\n",
       "    <tr style=\"text-align: right;\">\n",
       "      <th></th>\n",
       "      <th>0</th>\n",
       "      <th>1</th>\n",
       "      <th>2</th>\n",
       "      <th>3</th>\n",
       "      <th>4</th>\n",
       "      <th>5</th>\n",
       "      <th>6</th>\n",
       "      <th>7</th>\n",
       "      <th>8</th>\n",
       "    </tr>\n",
       "  </thead>\n",
       "  <tbody>\n",
       "    <tr>\n",
       "      <th>0</th>\n",
       "      <td>6</td>\n",
       "      <td>148</td>\n",
       "      <td>72</td>\n",
       "      <td>35</td>\n",
       "      <td>0</td>\n",
       "      <td>33.6</td>\n",
       "      <td>0.627</td>\n",
       "      <td>50</td>\n",
       "      <td>1</td>\n",
       "    </tr>\n",
       "    <tr>\n",
       "      <th>1</th>\n",
       "      <td>1</td>\n",
       "      <td>85</td>\n",
       "      <td>66</td>\n",
       "      <td>29</td>\n",
       "      <td>0</td>\n",
       "      <td>26.6</td>\n",
       "      <td>0.351</td>\n",
       "      <td>31</td>\n",
       "      <td>0</td>\n",
       "    </tr>\n",
       "    <tr>\n",
       "      <th>2</th>\n",
       "      <td>8</td>\n",
       "      <td>183</td>\n",
       "      <td>64</td>\n",
       "      <td>0</td>\n",
       "      <td>0</td>\n",
       "      <td>23.3</td>\n",
       "      <td>0.672</td>\n",
       "      <td>32</td>\n",
       "      <td>1</td>\n",
       "    </tr>\n",
       "    <tr>\n",
       "      <th>3</th>\n",
       "      <td>1</td>\n",
       "      <td>89</td>\n",
       "      <td>66</td>\n",
       "      <td>23</td>\n",
       "      <td>94</td>\n",
       "      <td>28.1</td>\n",
       "      <td>0.167</td>\n",
       "      <td>21</td>\n",
       "      <td>0</td>\n",
       "    </tr>\n",
       "    <tr>\n",
       "      <th>4</th>\n",
       "      <td>0</td>\n",
       "      <td>137</td>\n",
       "      <td>40</td>\n",
       "      <td>35</td>\n",
       "      <td>168</td>\n",
       "      <td>43.1</td>\n",
       "      <td>2.288</td>\n",
       "      <td>33</td>\n",
       "      <td>1</td>\n",
       "    </tr>\n",
       "  </tbody>\n",
       "</table>\n",
       "</div>"
      ],
      "text/plain": [
       "   0    1   2   3    4     5      6   7  8\n",
       "0  6  148  72  35    0  33.6  0.627  50  1\n",
       "1  1   85  66  29    0  26.6  0.351  31  0\n",
       "2  8  183  64   0    0  23.3  0.672  32  1\n",
       "3  1   89  66  23   94  28.1  0.167  21  0\n",
       "4  0  137  40  35  168  43.1  2.288  33  1"
      ]
     },
     "execution_count": 9,
     "metadata": {},
     "output_type": "execute_result"
    }
   ],
   "source": [
    "dataset.head()"
   ]
  },
  {
   "cell_type": "code",
   "execution_count": 10,
   "metadata": {
    "colab": {
     "base_uri": "https://localhost:8080/",
     "height": 725
    },
    "colab_type": "code",
    "id": "FKuofD3Pogil",
    "outputId": "16c2f4fa-93c8-491d-b339-9f35f7918621"
   },
   "outputs": [
    {
     "name": "stdout",
     "output_type": "stream",
     "text": [
      "(768, 8)\n",
      "[[  6.    148.     72.    ...  33.6     0.627  50.   ]\n",
      " [  1.     85.     66.    ...  26.6     0.351  31.   ]\n",
      " [  8.    183.     64.    ...  23.3     0.672  32.   ]\n",
      " ...\n",
      " [  5.    121.     72.    ...  26.2     0.245  30.   ]\n",
      " [  1.    126.     60.    ...  30.1     0.349  47.   ]\n",
      " [  1.     93.     70.    ...  30.4     0.315  23.   ]]\n"
     ]
    }
   ],
   "source": [
    "X = dataset.values[:,0:8]\n",
    "print(X.shape)\n",
    "print(X)"
   ]
  },
  {
   "cell_type": "code",
   "execution_count": 11,
   "metadata": {},
   "outputs": [
    {
     "name": "stdout",
     "output_type": "stream",
     "text": [
      "(768,)\n",
      "[1. 0. 1. 0. 1. 0. 1. 0. 1. 1. 0. 1. 0. 1. 1. 1. 1. 1. 0. 1. 0. 0. 1. 1.\n",
      " 1. 1. 1. 0. 0. 0. 0. 1. 0. 0. 0. 0. 0. 1. 1. 1. 0. 0. 0. 1. 0. 1. 0. 0.\n",
      " 1. 0. 0. 0. 0. 1. 0. 0. 1. 0. 0. 0. 0. 1. 0. 0. 1. 0. 1. 0. 0. 0. 1. 0.\n",
      " 1. 0. 0. 0. 0. 0. 1. 0. 0. 0. 0. 0. 1. 0. 0. 0. 1. 0. 0. 0. 0. 1. 0. 0.\n",
      " 0. 0. 0. 1. 1. 0. 0. 0. 0. 0. 0. 0. 0. 1. 1. 1. 0. 0. 1. 1. 1. 0. 0. 0.\n",
      " 1. 0. 0. 0. 1. 1. 0. 0. 1. 1. 1. 1. 1. 0. 0. 0. 0. 0. 0. 0. 0. 0. 0. 1.\n",
      " 0. 0. 0. 0. 0. 0. 0. 0. 1. 0. 1. 1. 0. 0. 0. 1. 0. 0. 0. 0. 1. 1. 0. 0.\n",
      " 0. 0. 1. 1. 0. 0. 0. 1. 0. 1. 0. 1. 0. 0. 0. 0. 0. 1. 1. 1. 1. 1. 0. 0.\n",
      " 1. 1. 0. 1. 0. 1. 1. 1. 0. 0. 0. 0. 0. 0. 1. 1. 0. 1. 0. 0. 0. 1. 1. 1.\n",
      " 1. 0. 1. 1. 1. 1. 0. 0. 0. 0. 0. 1. 0. 0. 1. 1. 0. 0. 0. 1. 1. 1. 1. 0.\n",
      " 0. 0. 1. 1. 0. 1. 0. 0. 0. 0. 0. 0. 0. 0. 1. 1. 0. 0. 0. 1. 0. 1. 0. 0.\n",
      " 1. 0. 1. 0. 0. 1. 1. 0. 0. 0. 0. 0. 1. 0. 0. 0. 1. 0. 0. 1. 1. 0. 0. 1.\n",
      " 0. 0. 0. 1. 1. 1. 0. 0. 1. 0. 1. 0. 1. 1. 0. 1. 0. 0. 1. 0. 1. 1. 0. 0.\n",
      " 1. 0. 1. 0. 0. 1. 0. 1. 0. 1. 1. 1. 0. 0. 1. 0. 1. 0. 0. 0. 1. 0. 0. 0.\n",
      " 0. 1. 1. 1. 0. 0. 0. 0. 0. 0. 0. 0. 0. 1. 0. 0. 0. 0. 0. 1. 1. 1. 0. 1.\n",
      " 1. 0. 0. 1. 0. 0. 1. 0. 0. 1. 1. 0. 0. 0. 0. 1. 0. 0. 1. 0. 0. 0. 0. 0.\n",
      " 0. 0. 1. 1. 1. 0. 0. 1. 0. 0. 1. 0. 0. 1. 0. 1. 1. 0. 1. 0. 1. 0. 1. 0.\n",
      " 1. 1. 0. 0. 0. 0. 1. 1. 0. 1. 0. 1. 0. 0. 0. 0. 1. 1. 0. 1. 0. 1. 0. 0.\n",
      " 0. 0. 0. 1. 0. 0. 0. 0. 1. 0. 0. 1. 1. 1. 0. 0. 1. 0. 0. 1. 0. 0. 0. 1.\n",
      " 0. 0. 1. 0. 0. 0. 0. 0. 0. 0. 0. 0. 1. 0. 0. 0. 0. 0. 0. 0. 1. 0. 0. 0.\n",
      " 1. 0. 0. 0. 1. 1. 0. 0. 0. 0. 0. 0. 0. 1. 0. 0. 0. 0. 1. 0. 0. 0. 1. 0.\n",
      " 0. 0. 1. 0. 0. 0. 1. 0. 0. 0. 0. 1. 1. 0. 0. 0. 0. 0. 0. 1. 0. 0. 0. 0.\n",
      " 0. 0. 0. 0. 0. 0. 0. 1. 0. 0. 0. 1. 1. 1. 1. 0. 0. 1. 1. 0. 0. 0. 0. 0.\n",
      " 0. 0. 0. 0. 0. 0. 0. 0. 1. 1. 0. 0. 0. 0. 0. 0. 0. 1. 0. 0. 0. 0. 0. 0.\n",
      " 0. 1. 0. 1. 1. 0. 0. 0. 1. 0. 1. 0. 1. 0. 1. 0. 1. 0. 0. 1. 0. 0. 1. 0.\n",
      " 0. 0. 0. 1. 1. 0. 1. 0. 0. 0. 0. 1. 1. 0. 1. 0. 0. 0. 1. 1. 0. 0. 0. 0.\n",
      " 0. 0. 0. 0. 0. 0. 1. 0. 0. 0. 0. 1. 0. 0. 1. 0. 0. 0. 1. 0. 0. 0. 1. 1.\n",
      " 1. 0. 0. 0. 0. 0. 0. 1. 0. 0. 0. 1. 0. 1. 1. 1. 1. 0. 1. 1. 0. 0. 0. 0.\n",
      " 0. 0. 0. 1. 1. 0. 1. 0. 0. 1. 0. 1. 0. 0. 0. 0. 0. 1. 0. 1. 0. 1. 0. 1.\n",
      " 1. 0. 0. 0. 0. 1. 1. 0. 0. 0. 1. 0. 1. 1. 0. 0. 1. 0. 0. 1. 1. 0. 0. 1.\n",
      " 0. 0. 1. 0. 0. 0. 0. 0. 0. 0. 1. 1. 1. 0. 0. 0. 0. 0. 0. 1. 1. 0. 0. 1.\n",
      " 0. 0. 1. 0. 1. 1. 1. 0. 0. 1. 1. 1. 0. 1. 0. 1. 0. 1. 0. 0. 0. 0. 1. 0.]\n"
     ]
    }
   ],
   "source": [
    "y = dataset.values[:,-1]\n",
    "print(y.shape)\n",
    "print(y)"
   ]
  },
  {
   "cell_type": "markdown",
   "metadata": {
    "colab_type": "text",
    "id": "o0xMqOyTs5xt"
   },
   "source": [
    "### Define Model"
   ]
  },
  {
   "cell_type": "code",
   "execution_count": 12,
   "metadata": {
    "colab": {},
    "colab_type": "code",
    "id": "Bp9USczrfu6M"
   },
   "outputs": [],
   "source": [
    "from tensorflow.keras.models import Sequential\n",
    "from tensorflow.keras.layers import Dense\n",
    "\n",
    "import numpy as np\n",
    "\n",
    "np.random.seed(812)"
   ]
  },
  {
   "cell_type": "markdown",
   "metadata": {
    "colab_type": "text",
    "id": "wAzHLg27thoN"
   },
   "source": [
    "I'll instantiate my model as a \"sequential\" model. This just means that I'm going to tell Keras what my model's architecture should be one layer at a time."
   ]
  },
  {
   "cell_type": "code",
   "execution_count": 13,
   "metadata": {
    "colab": {},
    "colab_type": "code",
    "id": "DSNsL49Xp6KI"
   },
   "outputs": [],
   "source": [
    "# https://keras.io/getting-started/sequential-model-guide/\n",
    "model = Sequential()"
   ]
  },
  {
   "cell_type": "markdown",
   "metadata": {
    "colab_type": "text",
    "id": "ZCYX6QzJtvpG"
   },
   "source": [
    "Adding a \"Dense\" layer to our model is how we add \"vanilla\" perceptron-based layers to our neural network. These are also called \"fully-connected\" or \"densely-connected\" layers. They're used as a layer type in lots of other Neural Net Architectures but they're not referred to as perceptrons or multi-layer perceptrons very often in those situations even though that's what they are.\n",
    "\n",
    " > [\"Just your regular densely-connected NN layer.\"](https://keras.io/layers/core/)\n",
    " \n",
    " The first argument is how many neurons we want to have in that layer. To create a perceptron model we will just set it to 1. We will tell it that there will be 8 inputs coming into this layer from our dataset and set it to use the sigmoid activation function."
   ]
  },
  {
   "cell_type": "code",
   "execution_count": 14,
   "metadata": {
    "colab": {
     "base_uri": "https://localhost:8080/",
     "height": 89
    },
    "colab_type": "code",
    "id": "GNzOLidxtvFa",
    "outputId": "35b1457d-0189-49f1-aa6d-3ef15b29bd6e"
   },
   "outputs": [],
   "source": [
    "model.add(Dense(1, input_dim=8, activation=\"sigmoid\")) #Relu is valid option. "
   ]
  },
  {
   "cell_type": "markdown",
   "metadata": {
    "colab_type": "text",
    "id": "EnI3jwKMtBL2",
    "toc-hr-collapsed": false
   },
   "source": [
    "### Compile Model\n",
    "Using binary_crossentropy as the loss function here is just telling keras that I'm doing binary classification so that it can use the appropriate loss function accordingly. If we were predicting non-binary categories we might assign something like `categorical_crossentropy`. We're also telling keras that we want it to report model accuracy as our main error metric for each epoch. We will also be able to see the overall accuracy once the model has finished training.\n",
    "\n",
    "#### Adam Optimizer\n",
    "Check out this links for more background on the Adam optimizer and Stohastic Gradient Descent\n",
    "* [Adam Optimization Algorithm](https://machinelearningmastery.com/adam-optimization-algorithm-for-deep-learning/)\n",
    "* [Adam Optimizer - original paper](https://arxiv.org/abs/1412.6980)"
   ]
  },
  {
   "cell_type": "code",
   "execution_count": 16,
   "metadata": {
    "colab": {},
    "colab_type": "code",
    "id": "qp6xwYaqurRO"
   },
   "outputs": [],
   "source": [
    "model.compile(loss='binary_crossentropy', optimizer='adam', metrics=['accuracy'])"
   ]
  },
  {
   "cell_type": "markdown",
   "metadata": {
    "colab_type": "text",
    "id": "5dW8SZ2Ls9SX",
    "toc-hr-collapsed": false
   },
   "source": [
    "### Fit Model\n",
    "\n",
    "Lets train it up! `model.fit()` has a `batch_size` parameter that we can use if we want to do mini-batch epochs, but since this tabular dataset is pretty small we're just going to delete that parameter. Keras' default `batch_size` is `None` so omiting it will tell Keras to do batch epochs."
   ]
  },
  {
   "cell_type": "code",
   "execution_count": 17,
   "metadata": {},
   "outputs": [
    {
     "name": "stdout",
     "output_type": "stream",
     "text": [
      "Train on 768 samples\n",
      "Epoch 1/150\n",
      "768/768 [==============================] - 0s 306us/sample - loss: 12.8530 - accuracy: 0.5182\n",
      "Epoch 2/150\n",
      "768/768 [==============================] - 0s 39us/sample - loss: 11.2592 - accuracy: 0.5312\n",
      "Epoch 3/150\n",
      "768/768 [==============================] - 0s 40us/sample - loss: 10.0626 - accuracy: 0.5547\n",
      "Epoch 4/150\n",
      "768/768 [==============================] - 0s 36us/sample - loss: 9.1365 - accuracy: 0.5820\n",
      "Epoch 5/150\n",
      "768/768 [==============================] - 0s 41us/sample - loss: 8.3575 - accuracy: 0.5938\n",
      "Epoch 6/150\n",
      "768/768 [==============================] - 0s 40us/sample - loss: 7.6587 - accuracy: 0.6003\n",
      "Epoch 7/150\n",
      "768/768 [==============================] - 0s 40us/sample - loss: 6.9286 - accuracy: 0.6055\n",
      "Epoch 8/150\n",
      "768/768 [==============================] - 0s 39us/sample - loss: 6.2249 - accuracy: 0.6055\n",
      "Epoch 9/150\n",
      "768/768 [==============================] - 0s 36us/sample - loss: 5.5310 - accuracy: 0.6055\n",
      "Epoch 10/150\n",
      "768/768 [==============================] - 0s 35us/sample - loss: 4.8875 - accuracy: 0.6107\n",
      "Epoch 11/150\n",
      "768/768 [==============================] - 0s 40us/sample - loss: 4.2664 - accuracy: 0.6133\n",
      "Epoch 12/150\n",
      "768/768 [==============================] - 0s 38us/sample - loss: 3.6935 - accuracy: 0.6172\n",
      "Epoch 13/150\n",
      "768/768 [==============================] - 0s 39us/sample - loss: 3.1782 - accuracy: 0.6263\n",
      "Epoch 14/150\n",
      "768/768 [==============================] - 0s 41us/sample - loss: 2.7634 - accuracy: 0.6315\n",
      "Epoch 15/150\n",
      "768/768 [==============================] - 0s 38us/sample - loss: 2.4316 - accuracy: 0.6380\n",
      "Epoch 16/150\n",
      "768/768 [==============================] - 0s 36us/sample - loss: 2.1707 - accuracy: 0.6419\n",
      "Epoch 17/150\n",
      "768/768 [==============================] - 0s 37us/sample - loss: 1.9852 - accuracy: 0.6458\n",
      "Epoch 18/150\n",
      "768/768 [==============================] - 0s 42us/sample - loss: 1.8828 - accuracy: 0.6458\n",
      "Epoch 19/150\n",
      "768/768 [==============================] - 0s 41us/sample - loss: 1.7816 - accuracy: 0.6276\n",
      "Epoch 20/150\n",
      "768/768 [==============================] - 0s 43us/sample - loss: 1.7270 - accuracy: 0.6367\n",
      "Epoch 21/150\n",
      "768/768 [==============================] - 0s 40us/sample - loss: 1.6823 - accuracy: 0.6237\n",
      "Epoch 22/150\n",
      "768/768 [==============================] - 0s 42us/sample - loss: 1.6389 - accuracy: 0.6393\n",
      "Epoch 23/150\n",
      "768/768 [==============================] - 0s 38us/sample - loss: 1.6097 - accuracy: 0.6289\n",
      "Epoch 24/150\n",
      "768/768 [==============================] - 0s 39us/sample - loss: 1.5622 - accuracy: 0.6263\n",
      "Epoch 25/150\n",
      "768/768 [==============================] - 0s 39us/sample - loss: 1.5254 - accuracy: 0.6432\n",
      "Epoch 26/150\n",
      "768/768 [==============================] - 0s 38us/sample - loss: 1.4913 - accuracy: 0.6393\n",
      "Epoch 27/150\n",
      "768/768 [==============================] - 0s 39us/sample - loss: 1.4633 - accuracy: 0.6471\n",
      "Epoch 28/150\n",
      "768/768 [==============================] - 0s 41us/sample - loss: 1.4260 - accuracy: 0.6380\n",
      "Epoch 29/150\n",
      "768/768 [==============================] - 0s 36us/sample - loss: 1.3921 - accuracy: 0.6458\n",
      "Epoch 30/150\n",
      "768/768 [==============================] - 0s 36us/sample - loss: 1.3639 - accuracy: 0.6380\n",
      "Epoch 31/150\n",
      "768/768 [==============================] - 0s 39us/sample - loss: 1.3511 - accuracy: 0.6471\n",
      "Epoch 32/150\n",
      "768/768 [==============================] - 0s 40us/sample - loss: 1.3070 - accuracy: 0.6523\n",
      "Epoch 33/150\n",
      "768/768 [==============================] - 0s 40us/sample - loss: 1.2861 - accuracy: 0.6328\n",
      "Epoch 34/150\n",
      "768/768 [==============================] - 0s 41us/sample - loss: 1.2765 - accuracy: 0.6445\n",
      "Epoch 35/150\n",
      "768/768 [==============================] - 0s 41us/sample - loss: 1.2375 - accuracy: 0.6445\n",
      "Epoch 36/150\n",
      "768/768 [==============================] - 0s 41us/sample - loss: 1.2193 - accuracy: 0.6562\n",
      "Epoch 37/150\n",
      "768/768 [==============================] - 0s 44us/sample - loss: 1.2023 - accuracy: 0.6536\n",
      "Epoch 38/150\n",
      "768/768 [==============================] - 0s 38us/sample - loss: 1.1754 - accuracy: 0.6497\n",
      "Epoch 39/150\n",
      "768/768 [==============================] - 0s 36us/sample - loss: 1.1552 - accuracy: 0.6458\n",
      "Epoch 40/150\n",
      "768/768 [==============================] - 0s 39us/sample - loss: 1.1643 - accuracy: 0.6576\n",
      "Epoch 41/150\n",
      "768/768 [==============================] - 0s 40us/sample - loss: 1.1290 - accuracy: 0.6602\n",
      "Epoch 42/150\n",
      "768/768 [==============================] - 0s 40us/sample - loss: 1.1032 - accuracy: 0.6458\n",
      "Epoch 43/150\n",
      "768/768 [==============================] - 0s 33us/sample - loss: 1.0827 - accuracy: 0.6471\n",
      "Epoch 44/150\n",
      "768/768 [==============================] - 0s 38us/sample - loss: 1.0769 - accuracy: 0.6693\n",
      "Epoch 45/150\n",
      "768/768 [==============================] - 0s 39us/sample - loss: 1.0628 - accuracy: 0.6523\n",
      "Epoch 46/150\n",
      "768/768 [==============================] - 0s 40us/sample - loss: 1.0381 - accuracy: 0.6576\n",
      "Epoch 47/150\n",
      "768/768 [==============================] - 0s 38us/sample - loss: 1.0211 - accuracy: 0.6510\n",
      "Epoch 48/150\n",
      "768/768 [==============================] - 0s 39us/sample - loss: 1.0110 - accuracy: 0.6576\n",
      "Epoch 49/150\n",
      "768/768 [==============================] - 0s 43us/sample - loss: 0.9862 - accuracy: 0.6641\n",
      "Epoch 50/150\n",
      "768/768 [==============================] - 0s 41us/sample - loss: 0.9773 - accuracy: 0.6641\n",
      "Epoch 51/150\n",
      "768/768 [==============================] - 0s 43us/sample - loss: 0.9695 - accuracy: 0.6667\n",
      "Epoch 52/150\n",
      "768/768 [==============================] - 0s 38us/sample - loss: 0.9578 - accuracy: 0.6641\n",
      "Epoch 53/150\n",
      "768/768 [==============================] - 0s 41us/sample - loss: 0.9424 - accuracy: 0.6576\n",
      "Epoch 54/150\n",
      "768/768 [==============================] - 0s 40us/sample - loss: 0.9183 - accuracy: 0.6706\n",
      "Epoch 55/150\n",
      "768/768 [==============================] - 0s 40us/sample - loss: 0.9055 - accuracy: 0.6693\n",
      "Epoch 56/150\n",
      "768/768 [==============================] - 0s 44us/sample - loss: 0.8865 - accuracy: 0.6771\n",
      "Epoch 57/150\n",
      "768/768 [==============================] - 0s 38us/sample - loss: 0.8930 - accuracy: 0.6641\n",
      "Epoch 58/150\n",
      "768/768 [==============================] - 0s 40us/sample - loss: 0.8836 - accuracy: 0.6615\n",
      "Epoch 59/150\n",
      "768/768 [==============================] - 0s 38us/sample - loss: 0.8617 - accuracy: 0.6641\n",
      "Epoch 60/150\n",
      "768/768 [==============================] - 0s 39us/sample - loss: 0.8462 - accuracy: 0.6628\n",
      "Epoch 61/150\n",
      "768/768 [==============================] - 0s 38us/sample - loss: 0.8583 - accuracy: 0.6667\n",
      "Epoch 62/150\n",
      "768/768 [==============================] - 0s 35us/sample - loss: 0.8444 - accuracy: 0.6719\n",
      "Epoch 63/150\n",
      "768/768 [==============================] - 0s 44us/sample - loss: 0.8131 - accuracy: 0.6784\n",
      "Epoch 64/150\n",
      "768/768 [==============================] - 0s 40us/sample - loss: 0.8105 - accuracy: 0.6693\n",
      "Epoch 65/150\n",
      "768/768 [==============================] - 0s 42us/sample - loss: 0.7940 - accuracy: 0.6745\n",
      "Epoch 66/150\n",
      "768/768 [==============================] - 0s 38us/sample - loss: 0.7823 - accuracy: 0.6745\n",
      "Epoch 67/150\n",
      "768/768 [==============================] - 0s 40us/sample - loss: 0.7692 - accuracy: 0.6784\n",
      "Epoch 68/150\n",
      "768/768 [==============================] - 0s 38us/sample - loss: 0.7750 - accuracy: 0.6771\n",
      "Epoch 69/150\n",
      "768/768 [==============================] - 0s 41us/sample - loss: 0.7667 - accuracy: 0.6823\n",
      "Epoch 70/150\n",
      "768/768 [==============================] - 0s 39us/sample - loss: 0.7564 - accuracy: 0.6901\n",
      "Epoch 71/150\n",
      "768/768 [==============================] - 0s 40us/sample - loss: 0.7502 - accuracy: 0.6693\n",
      "Epoch 72/150\n",
      "768/768 [==============================] - 0s 39us/sample - loss: 0.7436 - accuracy: 0.6823\n",
      "Epoch 73/150\n",
      "768/768 [==============================] - 0s 40us/sample - loss: 0.7291 - accuracy: 0.6901\n",
      "Epoch 74/150\n",
      "768/768 [==============================] - 0s 42us/sample - loss: 0.7187 - accuracy: 0.6888\n",
      "Epoch 75/150\n",
      "768/768 [==============================] - 0s 45us/sample - loss: 0.7297 - accuracy: 0.6875\n",
      "Epoch 76/150\n",
      "768/768 [==============================] - 0s 39us/sample - loss: 0.7114 - accuracy: 0.6654\n",
      "Epoch 77/150\n",
      "768/768 [==============================] - 0s 41us/sample - loss: 0.6981 - accuracy: 0.6836\n",
      "Epoch 78/150\n",
      "768/768 [==============================] - 0s 39us/sample - loss: 0.6901 - accuracy: 0.6901\n",
      "Epoch 79/150\n",
      "768/768 [==============================] - 0s 40us/sample - loss: 0.6840 - accuracy: 0.6914\n",
      "Epoch 80/150\n",
      "768/768 [==============================] - 0s 41us/sample - loss: 0.6787 - accuracy: 0.7031\n",
      "Epoch 81/150\n",
      "768/768 [==============================] - 0s 41us/sample - loss: 0.6757 - accuracy: 0.6849\n",
      "Epoch 82/150\n",
      "768/768 [==============================] - 0s 39us/sample - loss: 0.6697 - accuracy: 0.6940\n",
      "Epoch 83/150\n",
      "768/768 [==============================] - 0s 38us/sample - loss: 0.6647 - accuracy: 0.7005\n",
      "Epoch 84/150\n",
      "768/768 [==============================] - 0s 39us/sample - loss: 0.6600 - accuracy: 0.6940\n",
      "Epoch 85/150\n",
      "768/768 [==============================] - 0s 41us/sample - loss: 0.6548 - accuracy: 0.6966\n",
      "Epoch 86/150\n",
      "768/768 [==============================] - 0s 38us/sample - loss: 0.6457 - accuracy: 0.7057\n",
      "Epoch 87/150\n",
      "768/768 [==============================] - 0s 41us/sample - loss: 0.6462 - accuracy: 0.7018\n",
      "Epoch 88/150\n",
      "768/768 [==============================] - 0s 37us/sample - loss: 0.6368 - accuracy: 0.7070\n",
      "Epoch 89/150\n",
      "768/768 [==============================] - 0s 42us/sample - loss: 0.6361 - accuracy: 0.7018\n",
      "Epoch 90/150\n",
      "768/768 [==============================] - 0s 37us/sample - loss: 0.6333 - accuracy: 0.7096\n",
      "Epoch 91/150\n",
      "768/768 [==============================] - 0s 38us/sample - loss: 0.6288 - accuracy: 0.7109\n",
      "Epoch 92/150\n",
      "768/768 [==============================] - 0s 39us/sample - loss: 0.6321 - accuracy: 0.7018\n",
      "Epoch 93/150\n",
      "768/768 [==============================] - 0s 39us/sample - loss: 0.6238 - accuracy: 0.7096\n",
      "Epoch 94/150\n",
      "768/768 [==============================] - 0s 39us/sample - loss: 0.6272 - accuracy: 0.7096\n",
      "Epoch 95/150\n",
      "768/768 [==============================] - 0s 40us/sample - loss: 0.6219 - accuracy: 0.7005\n",
      "Epoch 96/150\n",
      "768/768 [==============================] - 0s 38us/sample - loss: 0.6222 - accuracy: 0.7031\n",
      "Epoch 97/150\n",
      "768/768 [==============================] - 0s 37us/sample - loss: 0.6153 - accuracy: 0.7096\n",
      "Epoch 98/150\n",
      "768/768 [==============================] - 0s 39us/sample - loss: 0.6101 - accuracy: 0.7109\n",
      "Epoch 99/150\n",
      "768/768 [==============================] - 0s 37us/sample - loss: 0.6085 - accuracy: 0.7044\n",
      "Epoch 100/150\n",
      "768/768 [==============================] - 0s 53us/sample - loss: 0.6116 - accuracy: 0.7018\n",
      "Epoch 101/150\n",
      "768/768 [==============================] - 0s 39us/sample - loss: 0.6083 - accuracy: 0.7044\n",
      "Epoch 102/150\n",
      "768/768 [==============================] - 0s 41us/sample - loss: 0.6002 - accuracy: 0.7005\n",
      "Epoch 103/150\n",
      "768/768 [==============================] - 0s 40us/sample - loss: 0.6053 - accuracy: 0.7005\n",
      "Epoch 104/150\n",
      "768/768 [==============================] - 0s 39us/sample - loss: 0.6005 - accuracy: 0.7148\n",
      "Epoch 105/150\n",
      "768/768 [==============================] - 0s 39us/sample - loss: 0.5966 - accuracy: 0.7096\n",
      "Epoch 106/150\n",
      "768/768 [==============================] - 0s 40us/sample - loss: 0.5962 - accuracy: 0.7083\n",
      "Epoch 107/150\n",
      "768/768 [==============================] - 0s 35us/sample - loss: 0.5972 - accuracy: 0.7005\n",
      "Epoch 108/150\n",
      "768/768 [==============================] - 0s 37us/sample - loss: 0.5937 - accuracy: 0.7044\n",
      "Epoch 109/150\n",
      "768/768 [==============================] - 0s 37us/sample - loss: 0.6027 - accuracy: 0.7109\n",
      "Epoch 110/150\n",
      "768/768 [==============================] - 0s 34us/sample - loss: 0.5941 - accuracy: 0.7031\n",
      "Epoch 111/150\n",
      "768/768 [==============================] - 0s 40us/sample - loss: 0.5981 - accuracy: 0.7070\n",
      "Epoch 112/150\n",
      "768/768 [==============================] - 0s 39us/sample - loss: 0.6012 - accuracy: 0.7083\n",
      "Epoch 113/150\n",
      "768/768 [==============================] - 0s 38us/sample - loss: 0.5887 - accuracy: 0.7109\n",
      "Epoch 114/150\n",
      "768/768 [==============================] - 0s 40us/sample - loss: 0.5896 - accuracy: 0.7005\n",
      "Epoch 115/150\n",
      "768/768 [==============================] - 0s 40us/sample - loss: 0.5898 - accuracy: 0.7188\n",
      "Epoch 116/150\n",
      "768/768 [==============================] - 0s 41us/sample - loss: 0.5865 - accuracy: 0.7174\n",
      "Epoch 117/150\n",
      "768/768 [==============================] - 0s 37us/sample - loss: 0.5888 - accuracy: 0.7044\n",
      "Epoch 118/150\n",
      "768/768 [==============================] - 0s 40us/sample - loss: 0.5872 - accuracy: 0.6953\n",
      "Epoch 119/150\n",
      "768/768 [==============================] - 0s 40us/sample - loss: 0.5852 - accuracy: 0.7201\n",
      "Epoch 120/150\n",
      "768/768 [==============================] - 0s 37us/sample - loss: 0.5837 - accuracy: 0.7109\n",
      "Epoch 121/150\n",
      "768/768 [==============================] - 0s 37us/sample - loss: 0.5834 - accuracy: 0.7070\n",
      "Epoch 122/150\n",
      "768/768 [==============================] - 0s 39us/sample - loss: 0.5830 - accuracy: 0.7096\n",
      "Epoch 123/150\n",
      "768/768 [==============================] - 0s 36us/sample - loss: 0.5834 - accuracy: 0.7057\n",
      "Epoch 124/150\n",
      "768/768 [==============================] - 0s 40us/sample - loss: 0.5843 - accuracy: 0.7188\n",
      "Epoch 125/150\n",
      "768/768 [==============================] - 0s 40us/sample - loss: 0.5875 - accuracy: 0.7109\n",
      "Epoch 126/150\n",
      "768/768 [==============================] - 0s 35us/sample - loss: 0.5833 - accuracy: 0.7122\n",
      "Epoch 127/150\n",
      "768/768 [==============================] - 0s 40us/sample - loss: 0.5841 - accuracy: 0.7044\n",
      "Epoch 128/150\n",
      "768/768 [==============================] - 0s 38us/sample - loss: 0.5815 - accuracy: 0.7135\n",
      "Epoch 129/150\n",
      "768/768 [==============================] - 0s 38us/sample - loss: 0.5839 - accuracy: 0.7201\n",
      "Epoch 130/150\n",
      "768/768 [==============================] - 0s 41us/sample - loss: 0.5854 - accuracy: 0.7188\n",
      "Epoch 131/150\n",
      "768/768 [==============================] - 0s 39us/sample - loss: 0.5793 - accuracy: 0.7083\n",
      "Epoch 132/150\n",
      "768/768 [==============================] - 0s 40us/sample - loss: 0.5796 - accuracy: 0.7148\n",
      "Epoch 133/150\n",
      "768/768 [==============================] - 0s 38us/sample - loss: 0.5810 - accuracy: 0.7148\n",
      "Epoch 134/150\n",
      "768/768 [==============================] - 0s 37us/sample - loss: 0.5803 - accuracy: 0.7083\n",
      "Epoch 135/150\n",
      "768/768 [==============================] - 0s 38us/sample - loss: 0.5795 - accuracy: 0.7044\n",
      "Epoch 136/150\n",
      "768/768 [==============================] - 0s 38us/sample - loss: 0.5767 - accuracy: 0.7148\n",
      "Epoch 137/150\n",
      "768/768 [==============================] - 0s 40us/sample - loss: 0.5829 - accuracy: 0.7122\n",
      "Epoch 138/150\n",
      "768/768 [==============================] - 0s 40us/sample - loss: 0.5804 - accuracy: 0.7070\n",
      "Epoch 139/150\n",
      "768/768 [==============================] - 0s 41us/sample - loss: 0.5771 - accuracy: 0.7083\n",
      "Epoch 140/150\n",
      "768/768 [==============================] - 0s 40us/sample - loss: 0.5766 - accuracy: 0.7214\n",
      "Epoch 141/150\n",
      "768/768 [==============================] - 0s 40us/sample - loss: 0.5779 - accuracy: 0.7214\n",
      "Epoch 142/150\n",
      "768/768 [==============================] - 0s 36us/sample - loss: 0.5775 - accuracy: 0.7161\n",
      "Epoch 143/150\n",
      "768/768 [==============================] - 0s 38us/sample - loss: 0.5756 - accuracy: 0.7148\n",
      "Epoch 144/150\n",
      "768/768 [==============================] - 0s 40us/sample - loss: 0.5746 - accuracy: 0.7188\n",
      "Epoch 145/150\n",
      "768/768 [==============================] - 0s 39us/sample - loss: 0.5755 - accuracy: 0.7148\n",
      "Epoch 146/150\n",
      "768/768 [==============================] - 0s 38us/sample - loss: 0.5817 - accuracy: 0.6992\n",
      "Epoch 147/150\n",
      "768/768 [==============================] - 0s 36us/sample - loss: 0.5792 - accuracy: 0.7135\n",
      "Epoch 148/150\n",
      "768/768 [==============================] - 0s 39us/sample - loss: 0.5865 - accuracy: 0.7005\n",
      "Epoch 149/150\n",
      "768/768 [==============================] - 0s 39us/sample - loss: 0.5739 - accuracy: 0.7253\n",
      "Epoch 150/150\n",
      "768/768 [==============================] - 0s 41us/sample - loss: 0.5749 - accuracy: 0.7057\n"
     ]
    },
    {
     "data": {
      "text/plain": [
       "<tensorflow.python.keras.callbacks.History at 0x7fe9e8b073d0>"
      ]
     },
     "execution_count": 17,
     "metadata": {},
     "output_type": "execute_result"
    }
   ],
   "source": [
    "model.fit(X, y, epochs=150)"
   ]
  },
  {
   "cell_type": "code",
   "execution_count": 13,
   "metadata": {},
   "outputs": [
    {
     "data": {
      "text/plain": [
       "(768,)"
      ]
     },
     "execution_count": 13,
     "metadata": {},
     "output_type": "execute_result"
    }
   ],
   "source": [
    "y.shape"
   ]
  },
  {
   "cell_type": "markdown",
   "metadata": {},
   "source": [
    "### Evaluate Model"
   ]
  },
  {
   "cell_type": "code",
   "execution_count": 18,
   "metadata": {},
   "outputs": [
    {
     "data": {
      "text/plain": [
       "array([1., 0., 1., 0., 1., 0., 1., 0., 1., 1., 0., 1., 0., 1., 1., 1., 1.,\n",
       "       1., 0., 1., 0., 0., 1., 1., 1., 1., 1., 0., 0., 0., 0., 1., 0., 0.,\n",
       "       0., 0., 0., 1., 1., 1., 0., 0., 0., 1., 0., 1., 0., 0., 1., 0.])"
      ]
     },
     "execution_count": 18,
     "metadata": {},
     "output_type": "execute_result"
    }
   ],
   "source": [
    "y[:50]"
   ]
  },
  {
   "cell_type": "code",
   "execution_count": 20,
   "metadata": {},
   "outputs": [
    {
     "data": {
      "text/plain": [
       "0.3489583333333333"
      ]
     },
     "execution_count": 20,
     "metadata": {},
     "output_type": "execute_result"
    }
   ],
   "source": [
    "# Predicting never diabetes\n",
    "sum(y) / len(y) "
   ]
  },
  {
   "cell_type": "code",
   "execution_count": 21,
   "metadata": {},
   "outputs": [
    {
     "name": "stdout",
     "output_type": "stream",
     "text": [
      "768/768 [==============================] - 0s 105us/sample - loss: 0.5780 - accuracy: 0.7266\n",
      "accuracy: 72.65625\n"
     ]
    }
   ],
   "source": [
    "scores = model.evaluate(X,y)\n",
    "print(f\"{model.metrics_names[1]}: {scores[1]*100}\")"
   ]
  },
  {
   "cell_type": "markdown",
   "metadata": {
    "colab_type": "text",
    "id": "zHYB7k9q3O8T"
   },
   "source": [
    "### Unstable Results\n",
    "\n",
    "You'll notice that if we rerun the results might differ from the origin run. This can be explain by a bunch of factors. Check out some of them in this article: \n",
    "\n",
    "<https://machinelearningmastery.com/randomness-in-machine-learning/>"
   ]
  },
  {
   "cell_type": "markdown",
   "metadata": {},
   "source": [
    "## Challenge\n",
    "\n",
    "You will be expected to leverage the Keras `Sequential`api to estimate a feed forward neural networks on a dataset."
   ]
  },
  {
   "cell_type": "markdown",
   "metadata": {
    "colab_type": "text",
    "id": "ueDVpctAzvy8"
   },
   "source": [
    "# Choosing Architecture (Learn)"
   ]
  },
  {
   "cell_type": "markdown",
   "metadata": {},
   "source": [
    "## Overview\n",
    "\n",
    "Choosing an architecture for a neural network is almost more an art than a science. Let's do a few experiments:"
   ]
  },
  {
   "cell_type": "markdown",
   "metadata": {},
   "source": [
    "## Follow Along"
   ]
  },
  {
   "cell_type": "code",
   "execution_count": 23,
   "metadata": {
    "colab": {},
    "colab_type": "code",
    "id": "6W2Sc7-LzQo_"
   },
   "outputs": [
    {
     "name": "stdout",
     "output_type": "stream",
     "text": [
      "Model: \"3LayerJunk\"\n",
      "_________________________________________________________________\n",
      "Layer (type)                 Output Shape              Param #   \n",
      "=================================================================\n",
      "FirstHidden (Dense)          (None, 4)                 36        \n",
      "_________________________________________________________________\n",
      "dense_8 (Dense)              (None, 3)                 15        \n",
      "_________________________________________________________________\n",
      "dense_9 (Dense)              (None, 1)                 4         \n",
      "=================================================================\n",
      "Total params: 55\n",
      "Trainable params: 55\n",
      "Non-trainable params: 0\n",
      "_________________________________________________________________\n"
     ]
    }
   ],
   "source": [
    "# Tell me your ideas\n",
    "\n",
    "model_improved = Sequential(name=\"3LayerJunk\")\n",
    "\n",
    "model_improved.add(Dense(4, input_dim=8, activation='relu', name=\"FirstHidden\"))\n",
    "model_improved.add(Dense(3, activation='sigmoid'))\n",
    "model_improved.add(Dense(1, activation='sigmoid'))\n",
    "\n",
    "model_improved.compile(loss='binary_crossentropy', optimizer='adam',\n",
    "              metrics=['accuracy'])\n",
    "\n",
    "# Let's inspect our new architecture\n",
    "model_improved.summary()"
   ]
  },
  {
   "cell_type": "code",
   "execution_count": 26,
   "metadata": {},
   "outputs": [
    {
     "data": {
      "text/plain": [
       "<tensorflow.python.keras.callbacks.History at 0x7fe9a8d9ced0>"
      ]
     },
     "execution_count": 26,
     "metadata": {},
     "output_type": "execute_result"
    }
   ],
   "source": [
    "model_improved.fit(X, y, epochs=150, verbose=False) # What parameters can I specify here?"
   ]
  },
  {
   "cell_type": "code",
   "execution_count": 27,
   "metadata": {},
   "outputs": [
    {
     "name": "stdout",
     "output_type": "stream",
     "text": [
      "768/768 [==============================] - 0s 130us/sample - loss: 0.5529 - accuracy: 0.6875\n",
      "accuracy: 68.75\n"
     ]
    }
   ],
   "source": [
    "scores = model_improved.evaluate(X,y)\n",
    "print(f\"{model_improved.metrics_names[1]}: {scores[1]*100}\")"
   ]
  },
  {
   "cell_type": "markdown",
   "metadata": {},
   "source": [
    "### Experiment with 1 Additional Layer & Change Activation F(x)s"
   ]
  },
  {
   "cell_type": "code",
   "execution_count": 28,
   "metadata": {},
   "outputs": [
    {
     "name": "stdout",
     "output_type": "stream",
     "text": [
      "Model: \"4LayerJunk\"\n",
      "_________________________________________________________________\n",
      "Layer (type)                 Output Shape              Param #   \n",
      "=================================================================\n",
      "Dense1 (Dense)               (None, 4)                 36        \n",
      "_________________________________________________________________\n",
      "dense_10 (Dense)             (None, 3)                 15        \n",
      "_________________________________________________________________\n",
      "dense_11 (Dense)             (None, 3)                 12        \n",
      "_________________________________________________________________\n",
      "dense_12 (Dense)             (None, 1)                 4         \n",
      "=================================================================\n",
      "Total params: 67\n",
      "Trainable params: 67\n",
      "Non-trainable params: 0\n",
      "_________________________________________________________________\n"
     ]
    }
   ],
   "source": [
    "# Tell me your ideas\n",
    "\n",
    "model_improved = Sequential(name=\"4LayerJunk\")\n",
    "\n",
    "model_improved.add(Dense(4, input_dim=8, activation='relu', name=\"Dense1\"))\n",
    "model_improved.add(Dense(3, activation='relu'))\n",
    "model_improved.add(Dense(3, activation='relu'))\n",
    "model_improved.add(Dense(1, activation='sigmoid'))\n",
    "\n",
    "model_improved.compile(loss='binary_crossentropy', optimizer='adam',\n",
    "              metrics=['accuracy'])\n",
    "\n",
    "# Let's inspect our new architecture\n",
    "model_improved.summary()"
   ]
  },
  {
   "cell_type": "code",
   "execution_count": 29,
   "metadata": {},
   "outputs": [
    {
     "data": {
      "text/plain": [
       "<tensorflow.python.keras.callbacks.History at 0x7fe9994a7c50>"
      ]
     },
     "execution_count": 29,
     "metadata": {},
     "output_type": "execute_result"
    }
   ],
   "source": [
    "model_improved.fit(X,y, epochs=250, verbose=False)"
   ]
  },
  {
   "cell_type": "code",
   "execution_count": 30,
   "metadata": {},
   "outputs": [
    {
     "name": "stdout",
     "output_type": "stream",
     "text": [
      "768/768 [==============================] - 0s 119us/sample - loss: 0.5162 - accuracy: 0.7526\n"
     ]
    },
    {
     "data": {
      "text/plain": [
       "[0.5162322049339613, 0.7526042]"
      ]
     },
     "execution_count": 30,
     "metadata": {},
     "output_type": "execute_result"
    }
   ],
   "source": [
    "model_improved.evaluate(X,y)\n",
    "#print(f\"{model_improved.metrics_names[1]}: {scores[1]*100}\")"
   ]
  },
  {
   "cell_type": "markdown",
   "metadata": {},
   "source": [
    "### New Experiment with Identical Neuron Numbers"
   ]
  },
  {
   "cell_type": "code",
   "execution_count": 31,
   "metadata": {},
   "outputs": [
    {
     "name": "stdout",
     "output_type": "stream",
     "text": [
      "Model: \"EvenNuerons4LayerJunk\"\n",
      "_________________________________________________________________\n",
      "Layer (type)                 Output Shape              Param #   \n",
      "=================================================================\n",
      "Dense1 (Dense)               (None, 8)                 72        \n",
      "_________________________________________________________________\n",
      "dense_13 (Dense)             (None, 8)                 72        \n",
      "_________________________________________________________________\n",
      "dense_14 (Dense)             (None, 8)                 72        \n",
      "_________________________________________________________________\n",
      "dense_15 (Dense)             (None, 1)                 9         \n",
      "=================================================================\n",
      "Total params: 225\n",
      "Trainable params: 225\n",
      "Non-trainable params: 0\n",
      "_________________________________________________________________\n"
     ]
    }
   ],
   "source": [
    "# Tell me your ideas\n",
    "\n",
    "model_improved = Sequential(name=\"EvenNuerons4LayerJunk\")\n",
    "\n",
    "model_improved.add(Dense(8, input_dim=8, activation='relu', name=\"Dense1\"))\n",
    "model_improved.add(Dense(8, activation='relu'))\n",
    "model_improved.add(Dense(8, activation='relu'))\n",
    "model_improved.add(Dense(1, activation='sigmoid'))\n",
    "\n",
    "model_improved.compile(loss='binary_crossentropy', optimizer='adam',\n",
    "              metrics=['accuracy'])\n",
    "\n",
    "# Let's inspect our new architecture\n",
    "model_improved.summary()"
   ]
  },
  {
   "cell_type": "code",
   "execution_count": 32,
   "metadata": {},
   "outputs": [
    {
     "name": "stdout",
     "output_type": "stream",
     "text": [
      "Train on 691 samples, validate on 77 samples\n",
      "Epoch 1/250\n",
      "691/691 [==============================] - 0s 597us/sample - loss: 3.7330 - accuracy: 0.6512 - val_loss: 2.6386 - val_accuracy: 0.5844\n",
      "Epoch 2/250\n",
      "691/691 [==============================] - 0s 46us/sample - loss: 1.8140 - accuracy: 0.5760 - val_loss: 1.3283 - val_accuracy: 0.5455\n",
      "Epoch 3/250\n",
      "691/691 [==============================] - 0s 49us/sample - loss: 1.1592 - accuracy: 0.5398 - val_loss: 0.9311 - val_accuracy: 0.5584\n",
      "Epoch 4/250\n",
      "691/691 [==============================] - 0s 54us/sample - loss: 0.8746 - accuracy: 0.5181 - val_loss: 0.8232 - val_accuracy: 0.5844\n",
      "Epoch 5/250\n",
      "691/691 [==============================] - 0s 60us/sample - loss: 0.7705 - accuracy: 0.5861 - val_loss: 0.7906 - val_accuracy: 0.5325\n",
      "Epoch 6/250\n",
      "691/691 [==============================] - 0s 55us/sample - loss: 0.7218 - accuracy: 0.6078 - val_loss: 0.7785 - val_accuracy: 0.5325\n",
      "Epoch 7/250\n",
      "691/691 [==============================] - 0s 55us/sample - loss: 0.7050 - accuracy: 0.6078 - val_loss: 0.7764 - val_accuracy: 0.5455\n",
      "Epoch 8/250\n",
      "691/691 [==============================] - 0s 54us/sample - loss: 0.6902 - accuracy: 0.6368 - val_loss: 0.7814 - val_accuracy: 0.5325\n",
      "Epoch 9/250\n",
      "691/691 [==============================] - 0s 53us/sample - loss: 0.6817 - accuracy: 0.6223 - val_loss: 0.7720 - val_accuracy: 0.5455\n",
      "Epoch 10/250\n",
      "691/691 [==============================] - 0s 56us/sample - loss: 0.6679 - accuracy: 0.6527 - val_loss: 0.7671 - val_accuracy: 0.5584\n",
      "Epoch 11/250\n",
      "691/691 [==============================] - 0s 56us/sample - loss: 0.6559 - accuracy: 0.6599 - val_loss: 0.7578 - val_accuracy: 0.5584\n",
      "Epoch 12/250\n",
      "691/691 [==============================] - 0s 53us/sample - loss: 0.6413 - accuracy: 0.6512 - val_loss: 0.7521 - val_accuracy: 0.5714\n",
      "Epoch 13/250\n",
      "691/691 [==============================] - 0s 55us/sample - loss: 0.6354 - accuracy: 0.6628 - val_loss: 0.7431 - val_accuracy: 0.5714\n",
      "Epoch 14/250\n",
      "691/691 [==============================] - 0s 59us/sample - loss: 0.6289 - accuracy: 0.6715 - val_loss: 0.7396 - val_accuracy: 0.5584\n",
      "Epoch 15/250\n",
      "691/691 [==============================] - 0s 55us/sample - loss: 0.6251 - accuracy: 0.6729 - val_loss: 0.7352 - val_accuracy: 0.5844\n",
      "Epoch 16/250\n",
      "691/691 [==============================] - 0s 57us/sample - loss: 0.6219 - accuracy: 0.6541 - val_loss: 0.7327 - val_accuracy: 0.5584\n",
      "Epoch 17/250\n",
      "691/691 [==============================] - 0s 57us/sample - loss: 0.6172 - accuracy: 0.6700 - val_loss: 0.7269 - val_accuracy: 0.5974\n",
      "Epoch 18/250\n",
      "691/691 [==============================] - 0s 56us/sample - loss: 0.6142 - accuracy: 0.6744 - val_loss: 0.7248 - val_accuracy: 0.5844\n",
      "Epoch 19/250\n",
      "691/691 [==============================] - 0s 67us/sample - loss: 0.6147 - accuracy: 0.6715 - val_loss: 0.7207 - val_accuracy: 0.5844\n",
      "Epoch 20/250\n",
      "691/691 [==============================] - 0s 61us/sample - loss: 0.6109 - accuracy: 0.6758 - val_loss: 0.7144 - val_accuracy: 0.6104\n",
      "Epoch 21/250\n",
      "691/691 [==============================] - 0s 56us/sample - loss: 0.6135 - accuracy: 0.6729 - val_loss: 0.7125 - val_accuracy: 0.5844\n",
      "Epoch 22/250\n",
      "691/691 [==============================] - 0s 59us/sample - loss: 0.6082 - accuracy: 0.6831 - val_loss: 0.7160 - val_accuracy: 0.5974\n",
      "Epoch 23/250\n",
      "691/691 [==============================] - 0s 54us/sample - loss: 0.6064 - accuracy: 0.6744 - val_loss: 0.7140 - val_accuracy: 0.5844\n",
      "Epoch 24/250\n",
      "691/691 [==============================] - 0s 52us/sample - loss: 0.6071 - accuracy: 0.6758 - val_loss: 0.7096 - val_accuracy: 0.5844\n",
      "Epoch 25/250\n",
      "691/691 [==============================] - 0s 56us/sample - loss: 0.6030 - accuracy: 0.6773 - val_loss: 0.7079 - val_accuracy: 0.5974\n",
      "Epoch 26/250\n",
      "691/691 [==============================] - 0s 59us/sample - loss: 0.6026 - accuracy: 0.6773 - val_loss: 0.7089 - val_accuracy: 0.5844\n",
      "Epoch 27/250\n",
      "691/691 [==============================] - 0s 60us/sample - loss: 0.6030 - accuracy: 0.6773 - val_loss: 0.7045 - val_accuracy: 0.5844\n",
      "Epoch 28/250\n",
      "691/691 [==============================] - 0s 62us/sample - loss: 0.6054 - accuracy: 0.6816 - val_loss: 0.7101 - val_accuracy: 0.5844\n",
      "Epoch 29/250\n",
      "691/691 [==============================] - 0s 62us/sample - loss: 0.6018 - accuracy: 0.6816 - val_loss: 0.7076 - val_accuracy: 0.5974\n",
      "Epoch 30/250\n",
      "691/691 [==============================] - 0s 64us/sample - loss: 0.5992 - accuracy: 0.6845 - val_loss: 0.7044 - val_accuracy: 0.5844\n",
      "Epoch 31/250\n",
      "691/691 [==============================] - 0s 58us/sample - loss: 0.6005 - accuracy: 0.6802 - val_loss: 0.7014 - val_accuracy: 0.5844\n",
      "Epoch 32/250\n",
      "691/691 [==============================] - 0s 58us/sample - loss: 0.5983 - accuracy: 0.6831 - val_loss: 0.7014 - val_accuracy: 0.5844\n",
      "Epoch 33/250\n",
      "691/691 [==============================] - 0s 59us/sample - loss: 0.5986 - accuracy: 0.6831 - val_loss: 0.7023 - val_accuracy: 0.5844\n",
      "Epoch 34/250\n",
      "691/691 [==============================] - 0s 58us/sample - loss: 0.5996 - accuracy: 0.6831 - val_loss: 0.7047 - val_accuracy: 0.5844\n",
      "Epoch 35/250\n",
      "691/691 [==============================] - 0s 56us/sample - loss: 0.5977 - accuracy: 0.6816 - val_loss: 0.7022 - val_accuracy: 0.5844\n",
      "Epoch 36/250\n",
      "691/691 [==============================] - 0s 54us/sample - loss: 0.5953 - accuracy: 0.6758 - val_loss: 0.7034 - val_accuracy: 0.5844\n",
      "Epoch 37/250\n",
      "691/691 [==============================] - 0s 50us/sample - loss: 0.6002 - accuracy: 0.6845 - val_loss: 0.6936 - val_accuracy: 0.5844\n",
      "Epoch 38/250\n",
      "691/691 [==============================] - 0s 57us/sample - loss: 0.5944 - accuracy: 0.6831 - val_loss: 0.6976 - val_accuracy: 0.5844\n",
      "Epoch 39/250\n",
      "691/691 [==============================] - 0s 56us/sample - loss: 0.5934 - accuracy: 0.6860 - val_loss: 0.7001 - val_accuracy: 0.5844\n",
      "Epoch 40/250\n",
      "691/691 [==============================] - 0s 55us/sample - loss: 0.5950 - accuracy: 0.6831 - val_loss: 0.7006 - val_accuracy: 0.5974\n",
      "Epoch 41/250\n",
      "691/691 [==============================] - 0s 54us/sample - loss: 0.5960 - accuracy: 0.6831 - val_loss: 0.6997 - val_accuracy: 0.5844\n",
      "Epoch 42/250\n",
      "691/691 [==============================] - 0s 54us/sample - loss: 0.5925 - accuracy: 0.6860 - val_loss: 0.7013 - val_accuracy: 0.5844\n",
      "Epoch 43/250\n",
      "691/691 [==============================] - 0s 60us/sample - loss: 0.5945 - accuracy: 0.6744 - val_loss: 0.6993 - val_accuracy: 0.5844\n",
      "Epoch 44/250\n",
      "691/691 [==============================] - 0s 64us/sample - loss: 0.6002 - accuracy: 0.6845 - val_loss: 0.7062 - val_accuracy: 0.5844\n",
      "Epoch 45/250\n",
      "691/691 [==============================] - 0s 62us/sample - loss: 0.5980 - accuracy: 0.6903 - val_loss: 0.6956 - val_accuracy: 0.5844\n",
      "Epoch 46/250\n",
      "691/691 [==============================] - 0s 60us/sample - loss: 0.5930 - accuracy: 0.6889 - val_loss: 0.6980 - val_accuracy: 0.5844\n",
      "Epoch 47/250\n",
      "691/691 [==============================] - 0s 60us/sample - loss: 0.5907 - accuracy: 0.6860 - val_loss: 0.7007 - val_accuracy: 0.5844\n",
      "Epoch 48/250\n",
      "691/691 [==============================] - 0s 60us/sample - loss: 0.5910 - accuracy: 0.6816 - val_loss: 0.6998 - val_accuracy: 0.5714\n",
      "Epoch 49/250\n",
      "691/691 [==============================] - 0s 59us/sample - loss: 0.5885 - accuracy: 0.6918 - val_loss: 0.6997 - val_accuracy: 0.5844\n",
      "Epoch 50/250\n",
      "691/691 [==============================] - 0s 53us/sample - loss: 0.5916 - accuracy: 0.6918 - val_loss: 0.7020 - val_accuracy: 0.5714\n",
      "Epoch 51/250\n",
      "691/691 [==============================] - 0s 56us/sample - loss: 0.5942 - accuracy: 0.6816 - val_loss: 0.7032 - val_accuracy: 0.5714\n",
      "Epoch 52/250\n",
      "691/691 [==============================] - 0s 55us/sample - loss: 0.5917 - accuracy: 0.6860 - val_loss: 0.7031 - val_accuracy: 0.5844\n",
      "Epoch 53/250\n",
      "691/691 [==============================] - 0s 52us/sample - loss: 0.5894 - accuracy: 0.6918 - val_loss: 0.6993 - val_accuracy: 0.5844\n",
      "Epoch 54/250\n",
      "691/691 [==============================] - 0s 62us/sample - loss: 0.5846 - accuracy: 0.6961 - val_loss: 0.7024 - val_accuracy: 0.5714\n",
      "Epoch 55/250\n",
      "691/691 [==============================] - 0s 62us/sample - loss: 0.5869 - accuracy: 0.6932 - val_loss: 0.7053 - val_accuracy: 0.5714\n",
      "Epoch 56/250\n",
      "691/691 [==============================] - 0s 65us/sample - loss: 0.5839 - accuracy: 0.6946 - val_loss: 0.7011 - val_accuracy: 0.5844\n",
      "Epoch 57/250\n",
      "691/691 [==============================] - 0s 63us/sample - loss: 0.5846 - accuracy: 0.6889 - val_loss: 0.7004 - val_accuracy: 0.5714\n",
      "Epoch 58/250\n",
      "691/691 [==============================] - 0s 60us/sample - loss: 0.5861 - accuracy: 0.6946 - val_loss: 0.7027 - val_accuracy: 0.5714\n",
      "Epoch 59/250\n",
      "691/691 [==============================] - 0s 55us/sample - loss: 0.5850 - accuracy: 0.6918 - val_loss: 0.6994 - val_accuracy: 0.5714\n",
      "Epoch 60/250\n",
      "691/691 [==============================] - 0s 55us/sample - loss: 0.5833 - accuracy: 0.6932 - val_loss: 0.7061 - val_accuracy: 0.5714\n",
      "Epoch 61/250\n",
      "691/691 [==============================] - 0s 55us/sample - loss: 0.5878 - accuracy: 0.6946 - val_loss: 0.7069 - val_accuracy: 0.5714\n",
      "Epoch 62/250\n",
      "691/691 [==============================] - 0s 53us/sample - loss: 0.5854 - accuracy: 0.6831 - val_loss: 0.7066 - val_accuracy: 0.5714\n",
      "Epoch 63/250\n",
      "691/691 [==============================] - 0s 54us/sample - loss: 0.5823 - accuracy: 0.6975 - val_loss: 0.7066 - val_accuracy: 0.5844\n",
      "Epoch 64/250\n",
      "691/691 [==============================] - 0s 57us/sample - loss: 0.5830 - accuracy: 0.6874 - val_loss: 0.7048 - val_accuracy: 0.5714\n",
      "Epoch 65/250\n",
      "691/691 [==============================] - 0s 55us/sample - loss: 0.5807 - accuracy: 0.6946 - val_loss: 0.7069 - val_accuracy: 0.5714\n",
      "Epoch 66/250\n",
      "691/691 [==============================] - 0s 61us/sample - loss: 0.5823 - accuracy: 0.6961 - val_loss: 0.6997 - val_accuracy: 0.5584\n",
      "Epoch 67/250\n",
      "691/691 [==============================] - 0s 62us/sample - loss: 0.5830 - accuracy: 0.6932 - val_loss: 0.7043 - val_accuracy: 0.5714\n",
      "Epoch 68/250\n",
      "691/691 [==============================] - 0s 60us/sample - loss: 0.5784 - accuracy: 0.7004 - val_loss: 0.7051 - val_accuracy: 0.5714\n",
      "Epoch 69/250\n",
      "691/691 [==============================] - 0s 65us/sample - loss: 0.5797 - accuracy: 0.6918 - val_loss: 0.7020 - val_accuracy: 0.5714\n",
      "Epoch 70/250\n",
      "691/691 [==============================] - 0s 65us/sample - loss: 0.5795 - accuracy: 0.6975 - val_loss: 0.7090 - val_accuracy: 0.5584\n",
      "Epoch 71/250\n",
      "691/691 [==============================] - 0s 63us/sample - loss: 0.5780 - accuracy: 0.6990 - val_loss: 0.7069 - val_accuracy: 0.5844\n",
      "Epoch 72/250\n",
      "691/691 [==============================] - 0s 72us/sample - loss: 0.5778 - accuracy: 0.6932 - val_loss: 0.7065 - val_accuracy: 0.5584\n",
      "Epoch 73/250\n",
      "691/691 [==============================] - 0s 71us/sample - loss: 0.5811 - accuracy: 0.6918 - val_loss: 0.7029 - val_accuracy: 0.5714\n",
      "Epoch 74/250\n",
      "691/691 [==============================] - 0s 64us/sample - loss: 0.5759 - accuracy: 0.6961 - val_loss: 0.7022 - val_accuracy: 0.5714\n",
      "Epoch 75/250\n",
      "691/691 [==============================] - 0s 57us/sample - loss: 0.5760 - accuracy: 0.7019 - val_loss: 0.7079 - val_accuracy: 0.5714\n",
      "Epoch 76/250\n",
      "691/691 [==============================] - 0s 58us/sample - loss: 0.5735 - accuracy: 0.6946 - val_loss: 0.7079 - val_accuracy: 0.5584\n",
      "Epoch 77/250\n",
      "691/691 [==============================] - 0s 61us/sample - loss: 0.5759 - accuracy: 0.7004 - val_loss: 0.7019 - val_accuracy: 0.5714\n",
      "Epoch 78/250\n",
      "691/691 [==============================] - 0s 62us/sample - loss: 0.5725 - accuracy: 0.7004 - val_loss: 0.6993 - val_accuracy: 0.5974\n",
      "Epoch 79/250\n",
      "691/691 [==============================] - 0s 60us/sample - loss: 0.5769 - accuracy: 0.6903 - val_loss: 0.7042 - val_accuracy: 0.5844\n",
      "Epoch 80/250\n",
      "691/691 [==============================] - 0s 58us/sample - loss: 0.5789 - accuracy: 0.6990 - val_loss: 0.7078 - val_accuracy: 0.5844\n",
      "Epoch 81/250\n",
      "691/691 [==============================] - 0s 60us/sample - loss: 0.5750 - accuracy: 0.6946 - val_loss: 0.7029 - val_accuracy: 0.5714\n",
      "Epoch 82/250\n",
      "691/691 [==============================] - 0s 57us/sample - loss: 0.5701 - accuracy: 0.7004 - val_loss: 0.7015 - val_accuracy: 0.5584\n",
      "Epoch 83/250\n",
      "691/691 [==============================] - 0s 61us/sample - loss: 0.5748 - accuracy: 0.7077 - val_loss: 0.7141 - val_accuracy: 0.5584\n",
      "Epoch 84/250\n",
      "691/691 [==============================] - 0s 63us/sample - loss: 0.5730 - accuracy: 0.7019 - val_loss: 0.7081 - val_accuracy: 0.5584\n",
      "Epoch 85/250\n",
      "691/691 [==============================] - 0s 60us/sample - loss: 0.5760 - accuracy: 0.7004 - val_loss: 0.7032 - val_accuracy: 0.5844\n",
      "Epoch 86/250\n",
      "691/691 [==============================] - 0s 55us/sample - loss: 0.5768 - accuracy: 0.6975 - val_loss: 0.7055 - val_accuracy: 0.5455\n",
      "Epoch 87/250\n",
      "691/691 [==============================] - 0s 58us/sample - loss: 0.5676 - accuracy: 0.7077 - val_loss: 0.7098 - val_accuracy: 0.5584\n",
      "Epoch 88/250\n",
      "691/691 [==============================] - 0s 58us/sample - loss: 0.5687 - accuracy: 0.6990 - val_loss: 0.7086 - val_accuracy: 0.5584\n",
      "Epoch 89/250\n",
      "691/691 [==============================] - 0s 59us/sample - loss: 0.5690 - accuracy: 0.7091 - val_loss: 0.7038 - val_accuracy: 0.5584\n",
      "Epoch 90/250\n",
      "691/691 [==============================] - 0s 57us/sample - loss: 0.5701 - accuracy: 0.7004 - val_loss: 0.7101 - val_accuracy: 0.5584\n",
      "Epoch 91/250\n",
      "691/691 [==============================] - 0s 57us/sample - loss: 0.5682 - accuracy: 0.7019 - val_loss: 0.7105 - val_accuracy: 0.5714\n",
      "Epoch 92/250\n",
      "691/691 [==============================] - 0s 54us/sample - loss: 0.5650 - accuracy: 0.7106 - val_loss: 0.7142 - val_accuracy: 0.5584\n",
      "Epoch 93/250\n",
      "691/691 [==============================] - 0s 58us/sample - loss: 0.5662 - accuracy: 0.7077 - val_loss: 0.7057 - val_accuracy: 0.5844\n",
      "Epoch 94/250\n",
      "691/691 [==============================] - 0s 58us/sample - loss: 0.5691 - accuracy: 0.7062 - val_loss: 0.7021 - val_accuracy: 0.5584\n",
      "Epoch 95/250\n",
      "691/691 [==============================] - 0s 68us/sample - loss: 0.5686 - accuracy: 0.7019 - val_loss: 0.7085 - val_accuracy: 0.5974\n",
      "Epoch 96/250\n",
      "691/691 [==============================] - 0s 53us/sample - loss: 0.5673 - accuracy: 0.7077 - val_loss: 0.7111 - val_accuracy: 0.5584\n",
      "Epoch 97/250\n",
      "691/691 [==============================] - 0s 55us/sample - loss: 0.5651 - accuracy: 0.7077 - val_loss: 0.7120 - val_accuracy: 0.5584\n",
      "Epoch 98/250\n",
      "691/691 [==============================] - 0s 56us/sample - loss: 0.5674 - accuracy: 0.7120 - val_loss: 0.7049 - val_accuracy: 0.5584\n",
      "Epoch 99/250\n",
      "691/691 [==============================] - 0s 58us/sample - loss: 0.5629 - accuracy: 0.7091 - val_loss: 0.7090 - val_accuracy: 0.5584\n",
      "Epoch 100/250\n",
      "691/691 [==============================] - 0s 57us/sample - loss: 0.5609 - accuracy: 0.7149 - val_loss: 0.7109 - val_accuracy: 0.5714\n",
      "Epoch 101/250\n",
      "691/691 [==============================] - 0s 63us/sample - loss: 0.5623 - accuracy: 0.7062 - val_loss: 0.7091 - val_accuracy: 0.5714\n",
      "Epoch 102/250\n",
      "691/691 [==============================] - 0s 61us/sample - loss: 0.5631 - accuracy: 0.7106 - val_loss: 0.7148 - val_accuracy: 0.5455\n",
      "Epoch 103/250\n",
      "691/691 [==============================] - 0s 55us/sample - loss: 0.5622 - accuracy: 0.7048 - val_loss: 0.7159 - val_accuracy: 0.5584\n",
      "Epoch 104/250\n",
      "691/691 [==============================] - 0s 62us/sample - loss: 0.5590 - accuracy: 0.7149 - val_loss: 0.7094 - val_accuracy: 0.5714\n",
      "Epoch 105/250\n",
      "691/691 [==============================] - 0s 56us/sample - loss: 0.5640 - accuracy: 0.7062 - val_loss: 0.7115 - val_accuracy: 0.5584\n",
      "Epoch 106/250\n",
      "691/691 [==============================] - 0s 59us/sample - loss: 0.5649 - accuracy: 0.7048 - val_loss: 0.7127 - val_accuracy: 0.5584\n",
      "Epoch 107/250\n",
      "691/691 [==============================] - 0s 57us/sample - loss: 0.5675 - accuracy: 0.6990 - val_loss: 0.7181 - val_accuracy: 0.5455\n",
      "Epoch 108/250\n",
      "691/691 [==============================] - 0s 67us/sample - loss: 0.5604 - accuracy: 0.7106 - val_loss: 0.7075 - val_accuracy: 0.5714\n",
      "Epoch 109/250\n",
      "691/691 [==============================] - 0s 59us/sample - loss: 0.5607 - accuracy: 0.7048 - val_loss: 0.7082 - val_accuracy: 0.5844\n",
      "Epoch 110/250\n",
      "691/691 [==============================] - 0s 59us/sample - loss: 0.5619 - accuracy: 0.7004 - val_loss: 0.7062 - val_accuracy: 0.5714\n",
      "Epoch 111/250\n",
      "691/691 [==============================] - 0s 62us/sample - loss: 0.5597 - accuracy: 0.7120 - val_loss: 0.7081 - val_accuracy: 0.5714\n",
      "Epoch 112/250\n",
      "691/691 [==============================] - 0s 60us/sample - loss: 0.5588 - accuracy: 0.7077 - val_loss: 0.7142 - val_accuracy: 0.5714\n",
      "Epoch 113/250\n",
      "691/691 [==============================] - 0s 58us/sample - loss: 0.5552 - accuracy: 0.7091 - val_loss: 0.7080 - val_accuracy: 0.5584\n",
      "Epoch 114/250\n",
      "691/691 [==============================] - 0s 63us/sample - loss: 0.5563 - accuracy: 0.7120 - val_loss: 0.7121 - val_accuracy: 0.5584\n",
      "Epoch 115/250\n",
      "691/691 [==============================] - 0s 55us/sample - loss: 0.5583 - accuracy: 0.7033 - val_loss: 0.7074 - val_accuracy: 0.5584\n",
      "Epoch 116/250\n",
      "691/691 [==============================] - 0s 60us/sample - loss: 0.5547 - accuracy: 0.7062 - val_loss: 0.7174 - val_accuracy: 0.5455\n",
      "Epoch 117/250\n",
      "691/691 [==============================] - 0s 59us/sample - loss: 0.5526 - accuracy: 0.7135 - val_loss: 0.7038 - val_accuracy: 0.5844\n",
      "Epoch 118/250\n",
      "691/691 [==============================] - 0s 63us/sample - loss: 0.5563 - accuracy: 0.7048 - val_loss: 0.7071 - val_accuracy: 0.5714\n",
      "Epoch 119/250\n",
      "691/691 [==============================] - 0s 60us/sample - loss: 0.5574 - accuracy: 0.7120 - val_loss: 0.7112 - val_accuracy: 0.5844\n",
      "Epoch 120/250\n",
      "691/691 [==============================] - 0s 57us/sample - loss: 0.5546 - accuracy: 0.7120 - val_loss: 0.7059 - val_accuracy: 0.5844\n",
      "Epoch 121/250\n",
      "691/691 [==============================] - 0s 58us/sample - loss: 0.5577 - accuracy: 0.7062 - val_loss: 0.7059 - val_accuracy: 0.5584\n",
      "Epoch 122/250\n",
      "691/691 [==============================] - 0s 58us/sample - loss: 0.5545 - accuracy: 0.7207 - val_loss: 0.7023 - val_accuracy: 0.5844\n",
      "Epoch 123/250\n",
      "691/691 [==============================] - 0s 55us/sample - loss: 0.5547 - accuracy: 0.7135 - val_loss: 0.7036 - val_accuracy: 0.5455\n",
      "Epoch 124/250\n",
      "691/691 [==============================] - 0s 80us/sample - loss: 0.5528 - accuracy: 0.7120 - val_loss: 0.7021 - val_accuracy: 0.5844\n",
      "Epoch 125/250\n",
      "691/691 [==============================] - 0s 52us/sample - loss: 0.5514 - accuracy: 0.7019 - val_loss: 0.7066 - val_accuracy: 0.5714\n",
      "Epoch 126/250\n",
      "691/691 [==============================] - 0s 48us/sample - loss: 0.5542 - accuracy: 0.7048 - val_loss: 0.7037 - val_accuracy: 0.5844\n",
      "Epoch 127/250\n",
      "691/691 [==============================] - 0s 52us/sample - loss: 0.5500 - accuracy: 0.7265 - val_loss: 0.6978 - val_accuracy: 0.5844\n",
      "Epoch 128/250\n",
      "691/691 [==============================] - 0s 58us/sample - loss: 0.5485 - accuracy: 0.7135 - val_loss: 0.7093 - val_accuracy: 0.5714\n",
      "Epoch 129/250\n",
      "691/691 [==============================] - 0s 58us/sample - loss: 0.5547 - accuracy: 0.7048 - val_loss: 0.6979 - val_accuracy: 0.5714\n",
      "Epoch 130/250\n",
      "691/691 [==============================] - 0s 57us/sample - loss: 0.5508 - accuracy: 0.7091 - val_loss: 0.7038 - val_accuracy: 0.5584\n",
      "Epoch 131/250\n",
      "691/691 [==============================] - 0s 62us/sample - loss: 0.5495 - accuracy: 0.7135 - val_loss: 0.7055 - val_accuracy: 0.5455\n",
      "Epoch 132/250\n",
      "691/691 [==============================] - 0s 54us/sample - loss: 0.5475 - accuracy: 0.7149 - val_loss: 0.7079 - val_accuracy: 0.5714\n",
      "Epoch 133/250\n",
      "691/691 [==============================] - 0s 59us/sample - loss: 0.5504 - accuracy: 0.7106 - val_loss: 0.7009 - val_accuracy: 0.5714\n",
      "Epoch 134/250\n",
      "691/691 [==============================] - 0s 60us/sample - loss: 0.5455 - accuracy: 0.7221 - val_loss: 0.6982 - val_accuracy: 0.5714\n",
      "Epoch 135/250\n",
      "691/691 [==============================] - 0s 54us/sample - loss: 0.5448 - accuracy: 0.7207 - val_loss: 0.7028 - val_accuracy: 0.5714\n",
      "Epoch 136/250\n",
      "691/691 [==============================] - 0s 56us/sample - loss: 0.5449 - accuracy: 0.7106 - val_loss: 0.6991 - val_accuracy: 0.5584\n",
      "Epoch 137/250\n",
      "691/691 [==============================] - 0s 60us/sample - loss: 0.5452 - accuracy: 0.7236 - val_loss: 0.7065 - val_accuracy: 0.5455\n",
      "Epoch 138/250\n",
      "691/691 [==============================] - 0s 58us/sample - loss: 0.5437 - accuracy: 0.7149 - val_loss: 0.6883 - val_accuracy: 0.5844\n",
      "Epoch 139/250\n",
      "691/691 [==============================] - 0s 60us/sample - loss: 0.5450 - accuracy: 0.7135 - val_loss: 0.7174 - val_accuracy: 0.5455\n",
      "Epoch 140/250\n",
      "691/691 [==============================] - 0s 59us/sample - loss: 0.5447 - accuracy: 0.7178 - val_loss: 0.6984 - val_accuracy: 0.5714\n",
      "Epoch 141/250\n",
      "691/691 [==============================] - 0s 58us/sample - loss: 0.5453 - accuracy: 0.7178 - val_loss: 0.7047 - val_accuracy: 0.5584\n",
      "Epoch 142/250\n",
      "691/691 [==============================] - 0s 62us/sample - loss: 0.5408 - accuracy: 0.7279 - val_loss: 0.6964 - val_accuracy: 0.5584\n",
      "Epoch 143/250\n",
      "691/691 [==============================] - 0s 59us/sample - loss: 0.5399 - accuracy: 0.7279 - val_loss: 0.7055 - val_accuracy: 0.5195\n",
      "Epoch 144/250\n",
      "691/691 [==============================] - 0s 58us/sample - loss: 0.5406 - accuracy: 0.7135 - val_loss: 0.6950 - val_accuracy: 0.5584\n",
      "Epoch 145/250\n",
      "691/691 [==============================] - 0s 58us/sample - loss: 0.5374 - accuracy: 0.7207 - val_loss: 0.6949 - val_accuracy: 0.5584\n",
      "Epoch 146/250\n",
      "691/691 [==============================] - 0s 55us/sample - loss: 0.5396 - accuracy: 0.7178 - val_loss: 0.6971 - val_accuracy: 0.5325\n",
      "Epoch 147/250\n",
      "691/691 [==============================] - 0s 57us/sample - loss: 0.5384 - accuracy: 0.7178 - val_loss: 0.6972 - val_accuracy: 0.5584\n",
      "Epoch 148/250\n",
      "691/691 [==============================] - 0s 57us/sample - loss: 0.5352 - accuracy: 0.7352 - val_loss: 0.6985 - val_accuracy: 0.5325\n",
      "Epoch 149/250\n",
      "691/691 [==============================] - 0s 59us/sample - loss: 0.5397 - accuracy: 0.7192 - val_loss: 0.6903 - val_accuracy: 0.5714\n",
      "Epoch 150/250\n",
      "691/691 [==============================] - 0s 58us/sample - loss: 0.5363 - accuracy: 0.7091 - val_loss: 0.6972 - val_accuracy: 0.5325\n",
      "Epoch 151/250\n",
      "691/691 [==============================] - 0s 58us/sample - loss: 0.5440 - accuracy: 0.7192 - val_loss: 0.6870 - val_accuracy: 0.6234\n",
      "Epoch 152/250\n",
      "691/691 [==============================] - 0s 62us/sample - loss: 0.5359 - accuracy: 0.7250 - val_loss: 0.6846 - val_accuracy: 0.5714\n",
      "Epoch 153/250\n",
      "691/691 [==============================] - 0s 58us/sample - loss: 0.5346 - accuracy: 0.7221 - val_loss: 0.6693 - val_accuracy: 0.5844\n",
      "Epoch 154/250\n",
      "691/691 [==============================] - 0s 57us/sample - loss: 0.5329 - accuracy: 0.7265 - val_loss: 0.6796 - val_accuracy: 0.5844\n",
      "Epoch 155/250\n",
      "691/691 [==============================] - 0s 55us/sample - loss: 0.5306 - accuracy: 0.7308 - val_loss: 0.6774 - val_accuracy: 0.5974\n",
      "Epoch 156/250\n",
      "691/691 [==============================] - 0s 55us/sample - loss: 0.5341 - accuracy: 0.7207 - val_loss: 0.6834 - val_accuracy: 0.5844\n",
      "Epoch 157/250\n",
      "691/691 [==============================] - 0s 54us/sample - loss: 0.5337 - accuracy: 0.7323 - val_loss: 0.6936 - val_accuracy: 0.5195\n",
      "Epoch 158/250\n",
      "691/691 [==============================] - 0s 61us/sample - loss: 0.5291 - accuracy: 0.7352 - val_loss: 0.6679 - val_accuracy: 0.6364\n",
      "Epoch 159/250\n",
      "691/691 [==============================] - 0s 58us/sample - loss: 0.5272 - accuracy: 0.7352 - val_loss: 0.6727 - val_accuracy: 0.5844\n",
      "Epoch 160/250\n",
      "691/691 [==============================] - 0s 59us/sample - loss: 0.5318 - accuracy: 0.7323 - val_loss: 0.6742 - val_accuracy: 0.6234\n",
      "Epoch 161/250\n",
      "691/691 [==============================] - 0s 63us/sample - loss: 0.5271 - accuracy: 0.7395 - val_loss: 0.6718 - val_accuracy: 0.5584\n",
      "Epoch 162/250\n",
      "691/691 [==============================] - 0s 58us/sample - loss: 0.5266 - accuracy: 0.7308 - val_loss: 0.6768 - val_accuracy: 0.5974\n",
      "Epoch 163/250\n",
      "691/691 [==============================] - 0s 54us/sample - loss: 0.5275 - accuracy: 0.7279 - val_loss: 0.6766 - val_accuracy: 0.6364\n",
      "Epoch 164/250\n",
      "691/691 [==============================] - 0s 56us/sample - loss: 0.5275 - accuracy: 0.7410 - val_loss: 0.6695 - val_accuracy: 0.5844\n",
      "Epoch 165/250\n",
      "691/691 [==============================] - 0s 55us/sample - loss: 0.5257 - accuracy: 0.7352 - val_loss: 0.6681 - val_accuracy: 0.6364\n",
      "Epoch 166/250\n",
      "691/691 [==============================] - 0s 56us/sample - loss: 0.5244 - accuracy: 0.7410 - val_loss: 0.6672 - val_accuracy: 0.6234\n",
      "Epoch 167/250\n",
      "691/691 [==============================] - 0s 57us/sample - loss: 0.5201 - accuracy: 0.7352 - val_loss: 0.6741 - val_accuracy: 0.6234\n",
      "Epoch 168/250\n",
      "691/691 [==============================] - 0s 53us/sample - loss: 0.5338 - accuracy: 0.7352 - val_loss: 0.6819 - val_accuracy: 0.5455\n",
      "Epoch 169/250\n",
      "691/691 [==============================] - 0s 55us/sample - loss: 0.5227 - accuracy: 0.7265 - val_loss: 0.6619 - val_accuracy: 0.6364\n",
      "Epoch 170/250\n",
      "691/691 [==============================] - 0s 58us/sample - loss: 0.5269 - accuracy: 0.7323 - val_loss: 0.6625 - val_accuracy: 0.6623\n",
      "Epoch 171/250\n",
      "691/691 [==============================] - 0s 66us/sample - loss: 0.5202 - accuracy: 0.7250 - val_loss: 0.6757 - val_accuracy: 0.5974\n",
      "Epoch 172/250\n",
      "691/691 [==============================] - 0s 57us/sample - loss: 0.5185 - accuracy: 0.7438 - val_loss: 0.6759 - val_accuracy: 0.5844\n",
      "Epoch 173/250\n",
      "691/691 [==============================] - 0s 51us/sample - loss: 0.5249 - accuracy: 0.7221 - val_loss: 0.6715 - val_accuracy: 0.5974\n",
      "Epoch 174/250\n",
      "691/691 [==============================] - 0s 52us/sample - loss: 0.5219 - accuracy: 0.7323 - val_loss: 0.6556 - val_accuracy: 0.6104\n",
      "Epoch 175/250\n",
      "691/691 [==============================] - 0s 51us/sample - loss: 0.5196 - accuracy: 0.7294 - val_loss: 0.6751 - val_accuracy: 0.6104\n",
      "Epoch 176/250\n",
      "691/691 [==============================] - 0s 56us/sample - loss: 0.5216 - accuracy: 0.7337 - val_loss: 0.6633 - val_accuracy: 0.6494\n",
      "Epoch 177/250\n",
      "691/691 [==============================] - 0s 47us/sample - loss: 0.5162 - accuracy: 0.7337 - val_loss: 0.6659 - val_accuracy: 0.5714\n",
      "Epoch 178/250\n",
      "691/691 [==============================] - 0s 47us/sample - loss: 0.5149 - accuracy: 0.7410 - val_loss: 0.6557 - val_accuracy: 0.6494\n",
      "Epoch 179/250\n",
      "691/691 [==============================] - 0s 52us/sample - loss: 0.5199 - accuracy: 0.7323 - val_loss: 0.6561 - val_accuracy: 0.6234\n",
      "Epoch 180/250\n",
      "691/691 [==============================] - 0s 55us/sample - loss: 0.5173 - accuracy: 0.7381 - val_loss: 0.6525 - val_accuracy: 0.6234\n",
      "Epoch 181/250\n",
      "691/691 [==============================] - 0s 52us/sample - loss: 0.5140 - accuracy: 0.7352 - val_loss: 0.6514 - val_accuracy: 0.6494\n",
      "Epoch 182/250\n",
      "691/691 [==============================] - 0s 50us/sample - loss: 0.5150 - accuracy: 0.7381 - val_loss: 0.6663 - val_accuracy: 0.6234\n",
      "Epoch 183/250\n",
      "691/691 [==============================] - 0s 54us/sample - loss: 0.5140 - accuracy: 0.7337 - val_loss: 0.6457 - val_accuracy: 0.6234\n",
      "Epoch 184/250\n",
      "691/691 [==============================] - 0s 59us/sample - loss: 0.5159 - accuracy: 0.7265 - val_loss: 0.6468 - val_accuracy: 0.6494\n",
      "Epoch 185/250\n",
      "691/691 [==============================] - 0s 58us/sample - loss: 0.5119 - accuracy: 0.7467 - val_loss: 0.6566 - val_accuracy: 0.6104\n",
      "Epoch 186/250\n",
      "691/691 [==============================] - 0s 53us/sample - loss: 0.5183 - accuracy: 0.7308 - val_loss: 0.6475 - val_accuracy: 0.6753\n",
      "Epoch 187/250\n",
      "691/691 [==============================] - 0s 52us/sample - loss: 0.5164 - accuracy: 0.7352 - val_loss: 0.6557 - val_accuracy: 0.6494\n",
      "Epoch 188/250\n",
      "691/691 [==============================] - 0s 50us/sample - loss: 0.5128 - accuracy: 0.7381 - val_loss: 0.6480 - val_accuracy: 0.6494\n",
      "Epoch 189/250\n",
      "691/691 [==============================] - 0s 53us/sample - loss: 0.5189 - accuracy: 0.7308 - val_loss: 0.6603 - val_accuracy: 0.5844\n",
      "Epoch 190/250\n",
      "691/691 [==============================] - 0s 58us/sample - loss: 0.5067 - accuracy: 0.7554 - val_loss: 0.6423 - val_accuracy: 0.6753\n",
      "Epoch 191/250\n",
      "691/691 [==============================] - 0s 53us/sample - loss: 0.5066 - accuracy: 0.7525 - val_loss: 0.6533 - val_accuracy: 0.6234\n",
      "Epoch 192/250\n",
      "691/691 [==============================] - 0s 53us/sample - loss: 0.5108 - accuracy: 0.7250 - val_loss: 0.6476 - val_accuracy: 0.6753\n",
      "Epoch 193/250\n",
      "691/691 [==============================] - 0s 54us/sample - loss: 0.5103 - accuracy: 0.7525 - val_loss: 0.6529 - val_accuracy: 0.6234\n",
      "Epoch 194/250\n",
      "691/691 [==============================] - 0s 54us/sample - loss: 0.5097 - accuracy: 0.7308 - val_loss: 0.6420 - val_accuracy: 0.7013\n",
      "Epoch 195/250\n",
      "691/691 [==============================] - 0s 54us/sample - loss: 0.5066 - accuracy: 0.7366 - val_loss: 0.6519 - val_accuracy: 0.6623\n",
      "Epoch 196/250\n",
      "691/691 [==============================] - 0s 54us/sample - loss: 0.5075 - accuracy: 0.7511 - val_loss: 0.6365 - val_accuracy: 0.7013\n",
      "Epoch 197/250\n",
      "691/691 [==============================] - 0s 54us/sample - loss: 0.5077 - accuracy: 0.7453 - val_loss: 0.6603 - val_accuracy: 0.6234\n",
      "Epoch 198/250\n",
      "691/691 [==============================] - 0s 56us/sample - loss: 0.5086 - accuracy: 0.7424 - val_loss: 0.6434 - val_accuracy: 0.6883\n",
      "Epoch 199/250\n",
      "691/691 [==============================] - 0s 54us/sample - loss: 0.5120 - accuracy: 0.7352 - val_loss: 0.6358 - val_accuracy: 0.6883\n",
      "Epoch 200/250\n",
      "691/691 [==============================] - 0s 51us/sample - loss: 0.5076 - accuracy: 0.7279 - val_loss: 0.6557 - val_accuracy: 0.6234\n",
      "Epoch 201/250\n",
      "691/691 [==============================] - 0s 59us/sample - loss: 0.5034 - accuracy: 0.7467 - val_loss: 0.6311 - val_accuracy: 0.6234\n",
      "Epoch 202/250\n",
      "691/691 [==============================] - 0s 58us/sample - loss: 0.5068 - accuracy: 0.7395 - val_loss: 0.6435 - val_accuracy: 0.6883\n",
      "Epoch 203/250\n",
      "691/691 [==============================] - 0s 55us/sample - loss: 0.5011 - accuracy: 0.7467 - val_loss: 0.6404 - val_accuracy: 0.6883\n",
      "Epoch 204/250\n",
      "691/691 [==============================] - 0s 53us/sample - loss: 0.5015 - accuracy: 0.7438 - val_loss: 0.6447 - val_accuracy: 0.6623\n",
      "Epoch 205/250\n",
      "691/691 [==============================] - 0s 61us/sample - loss: 0.5048 - accuracy: 0.7540 - val_loss: 0.6488 - val_accuracy: 0.6364\n",
      "Epoch 206/250\n",
      "691/691 [==============================] - 0s 59us/sample - loss: 0.5044 - accuracy: 0.7482 - val_loss: 0.6568 - val_accuracy: 0.6883\n",
      "Epoch 207/250\n",
      "691/691 [==============================] - 0s 57us/sample - loss: 0.5024 - accuracy: 0.7410 - val_loss: 0.6394 - val_accuracy: 0.6753\n",
      "Epoch 208/250\n",
      "691/691 [==============================] - 0s 57us/sample - loss: 0.5056 - accuracy: 0.7352 - val_loss: 0.6536 - val_accuracy: 0.6494\n",
      "Epoch 209/250\n",
      "691/691 [==============================] - 0s 54us/sample - loss: 0.4990 - accuracy: 0.7641 - val_loss: 0.6358 - val_accuracy: 0.6883\n",
      "Epoch 210/250\n",
      "691/691 [==============================] - 0s 61us/sample - loss: 0.5006 - accuracy: 0.7438 - val_loss: 0.6275 - val_accuracy: 0.6883\n",
      "Epoch 211/250\n",
      "691/691 [==============================] - 0s 58us/sample - loss: 0.5040 - accuracy: 0.7496 - val_loss: 0.6431 - val_accuracy: 0.6753\n",
      "Epoch 212/250\n",
      "691/691 [==============================] - 0s 61us/sample - loss: 0.4994 - accuracy: 0.7511 - val_loss: 0.6438 - val_accuracy: 0.6753\n",
      "Epoch 213/250\n",
      "691/691 [==============================] - 0s 53us/sample - loss: 0.4997 - accuracy: 0.7467 - val_loss: 0.6300 - val_accuracy: 0.6753\n",
      "Epoch 214/250\n",
      "691/691 [==============================] - 0s 55us/sample - loss: 0.4966 - accuracy: 0.7453 - val_loss: 0.6347 - val_accuracy: 0.6883\n",
      "Epoch 215/250\n",
      "691/691 [==============================] - 0s 55us/sample - loss: 0.4951 - accuracy: 0.7554 - val_loss: 0.6452 - val_accuracy: 0.6753\n",
      "Epoch 216/250\n",
      "691/691 [==============================] - 0s 61us/sample - loss: 0.5006 - accuracy: 0.7496 - val_loss: 0.6328 - val_accuracy: 0.6494\n",
      "Epoch 217/250\n",
      "691/691 [==============================] - 0s 59us/sample - loss: 0.4960 - accuracy: 0.7438 - val_loss: 0.6451 - val_accuracy: 0.6753\n",
      "Epoch 218/250\n",
      "691/691 [==============================] - 0s 59us/sample - loss: 0.4932 - accuracy: 0.7598 - val_loss: 0.6359 - val_accuracy: 0.7013\n",
      "Epoch 219/250\n",
      "691/691 [==============================] - 0s 52us/sample - loss: 0.4991 - accuracy: 0.7598 - val_loss: 0.6417 - val_accuracy: 0.6753\n",
      "Epoch 220/250\n",
      "691/691 [==============================] - 0s 54us/sample - loss: 0.4936 - accuracy: 0.7598 - val_loss: 0.6342 - val_accuracy: 0.7013\n",
      "Epoch 221/250\n",
      "691/691 [==============================] - 0s 56us/sample - loss: 0.4933 - accuracy: 0.7583 - val_loss: 0.6636 - val_accuracy: 0.6234\n",
      "Epoch 222/250\n",
      "691/691 [==============================] - 0s 56us/sample - loss: 0.4906 - accuracy: 0.7598 - val_loss: 0.6305 - val_accuracy: 0.6753\n",
      "Epoch 223/250\n",
      "691/691 [==============================] - 0s 58us/sample - loss: 0.4957 - accuracy: 0.7554 - val_loss: 0.6377 - val_accuracy: 0.6623\n",
      "Epoch 224/250\n",
      "691/691 [==============================] - 0s 59us/sample - loss: 0.4952 - accuracy: 0.7540 - val_loss: 0.6553 - val_accuracy: 0.6494\n",
      "Epoch 225/250\n",
      "691/691 [==============================] - 0s 60us/sample - loss: 0.5003 - accuracy: 0.7496 - val_loss: 0.6368 - val_accuracy: 0.6753\n",
      "Epoch 226/250\n",
      "691/691 [==============================] - 0s 52us/sample - loss: 0.4903 - accuracy: 0.7612 - val_loss: 0.6208 - val_accuracy: 0.6753\n",
      "Epoch 227/250\n",
      "691/691 [==============================] - 0s 61us/sample - loss: 0.4904 - accuracy: 0.7569 - val_loss: 0.6276 - val_accuracy: 0.6753\n",
      "Epoch 228/250\n",
      "691/691 [==============================] - 0s 62us/sample - loss: 0.4944 - accuracy: 0.7511 - val_loss: 0.6525 - val_accuracy: 0.6494\n",
      "Epoch 229/250\n",
      "691/691 [==============================] - 0s 57us/sample - loss: 0.4915 - accuracy: 0.7627 - val_loss: 0.6242 - val_accuracy: 0.6883\n",
      "Epoch 230/250\n",
      "691/691 [==============================] - 0s 59us/sample - loss: 0.4859 - accuracy: 0.7670 - val_loss: 0.6320 - val_accuracy: 0.6623\n",
      "Epoch 231/250\n",
      "691/691 [==============================] - 0s 55us/sample - loss: 0.4885 - accuracy: 0.7627 - val_loss: 0.6251 - val_accuracy: 0.6753\n",
      "Epoch 232/250\n",
      "691/691 [==============================] - 0s 58us/sample - loss: 0.4845 - accuracy: 0.7598 - val_loss: 0.6225 - val_accuracy: 0.6753\n",
      "Epoch 233/250\n",
      "691/691 [==============================] - 0s 57us/sample - loss: 0.4848 - accuracy: 0.7670 - val_loss: 0.6151 - val_accuracy: 0.6753\n",
      "Epoch 234/250\n",
      "691/691 [==============================] - 0s 56us/sample - loss: 0.4852 - accuracy: 0.7612 - val_loss: 0.6371 - val_accuracy: 0.6623\n",
      "Epoch 235/250\n",
      "691/691 [==============================] - 0s 56us/sample - loss: 0.4880 - accuracy: 0.7641 - val_loss: 0.6179 - val_accuracy: 0.6753\n",
      "Epoch 236/250\n",
      "691/691 [==============================] - 0s 59us/sample - loss: 0.4881 - accuracy: 0.7598 - val_loss: 0.6137 - val_accuracy: 0.6753\n",
      "Epoch 237/250\n",
      "691/691 [==============================] - 0s 55us/sample - loss: 0.4877 - accuracy: 0.7685 - val_loss: 0.6121 - val_accuracy: 0.6883\n",
      "Epoch 238/250\n",
      "691/691 [==============================] - 0s 60us/sample - loss: 0.4851 - accuracy: 0.7569 - val_loss: 0.6182 - val_accuracy: 0.6753\n",
      "Epoch 239/250\n",
      "691/691 [==============================] - 0s 55us/sample - loss: 0.4875 - accuracy: 0.7627 - val_loss: 0.6068 - val_accuracy: 0.7273\n",
      "Epoch 240/250\n",
      "691/691 [==============================] - 0s 60us/sample - loss: 0.4847 - accuracy: 0.7685 - val_loss: 0.6400 - val_accuracy: 0.6364\n",
      "Epoch 241/250\n",
      "691/691 [==============================] - 0s 55us/sample - loss: 0.4839 - accuracy: 0.7656 - val_loss: 0.6154 - val_accuracy: 0.6753\n",
      "Epoch 242/250\n",
      "691/691 [==============================] - 0s 58us/sample - loss: 0.4829 - accuracy: 0.7612 - val_loss: 0.6248 - val_accuracy: 0.6753\n",
      "Epoch 243/250\n",
      "691/691 [==============================] - 0s 55us/sample - loss: 0.4812 - accuracy: 0.7627 - val_loss: 0.6103 - val_accuracy: 0.6883\n",
      "Epoch 244/250\n",
      "691/691 [==============================] - 0s 57us/sample - loss: 0.4826 - accuracy: 0.7583 - val_loss: 0.6073 - val_accuracy: 0.6883\n",
      "Epoch 245/250\n",
      "691/691 [==============================] - 0s 61us/sample - loss: 0.4839 - accuracy: 0.7656 - val_loss: 0.6222 - val_accuracy: 0.6883\n",
      "Epoch 246/250\n",
      "691/691 [==============================] - 0s 57us/sample - loss: 0.4829 - accuracy: 0.7583 - val_loss: 0.6113 - val_accuracy: 0.6753\n",
      "Epoch 247/250\n",
      "691/691 [==============================] - 0s 56us/sample - loss: 0.4828 - accuracy: 0.7699 - val_loss: 0.6343 - val_accuracy: 0.6494\n",
      "Epoch 248/250\n",
      "691/691 [==============================] - 0s 60us/sample - loss: 0.4823 - accuracy: 0.7627 - val_loss: 0.6058 - val_accuracy: 0.6753\n",
      "Epoch 249/250\n",
      "691/691 [==============================] - 0s 55us/sample - loss: 0.4837 - accuracy: 0.7800 - val_loss: 0.6255 - val_accuracy: 0.6753\n",
      "Epoch 250/250\n",
      "691/691 [==============================] - 0s 54us/sample - loss: 0.4798 - accuracy: 0.7670 - val_loss: 0.6083 - val_accuracy: 0.6753\n"
     ]
    },
    {
     "data": {
      "text/plain": [
       "<tensorflow.python.keras.callbacks.History at 0x7fe9994d8b10>"
      ]
     },
     "execution_count": 32,
     "metadata": {},
     "output_type": "execute_result"
    }
   ],
   "source": [
    "model_improved.fit(X,y, epochs=250, validation_split=.10)"
   ]
  },
  {
   "cell_type": "code",
   "execution_count": 25,
   "metadata": {},
   "outputs": [
    {
     "name": "stdout",
     "output_type": "stream",
     "text": [
      "768/768 [==============================] - 0s 110us/sample - loss: 0.5091 - accuracy: 0.7565\n"
     ]
    },
    {
     "data": {
      "text/plain": [
       "[0.5091407957176367, 0.75651044]"
      ]
     },
     "execution_count": 25,
     "metadata": {},
     "output_type": "execute_result"
    }
   ],
   "source": [
    "model_improved.evaluate(X,y)\n",
    "#print(f\"{model_improved.metrics_names[1]}: {scores[1]*100}\")"
   ]
  },
  {
   "cell_type": "markdown",
   "metadata": {},
   "source": [
    "### Student Experiments\n",
    "\n",
    "Spend the next 10 Minutes researching the Keras API documentation or general neural network architectures.\n",
    "\n",
    "A couple starting ideas for you to look into:\n",
    "\n",
    "1. Optimizers\n",
    "2. Loss Metrics\n",
    "3. Activation Functions\n",
    "4. Parameters for any of the above\n",
    "5. No. of Layers / No. of Neurons\n",
    "\n",
    "Come back from the break with 1-2 suggestions to try in our network architecture. We'll see how it works on the diabetes dataset. "
   ]
  },
  {
   "cell_type": "markdown",
   "metadata": {},
   "source": [
    "#### Suggested Experiments\n",
    "1. Stochastic Gradient Descent\n",
    "2. Nadam\n",
    "3. Clipnorm and.or clipvalue\n",
    "4. Tanh for the activation f(x)\n",
    "5. Normalize the data?"
   ]
  },
  {
   "cell_type": "markdown",
   "metadata": {},
   "source": [
    "#### Stochastic Gradient Descent"
   ]
  },
  {
   "cell_type": "code",
   "execution_count": 33,
   "metadata": {},
   "outputs": [
    {
     "name": "stdout",
     "output_type": "stream",
     "text": [
      "Model: \"SGD\"\n",
      "_________________________________________________________________\n",
      "Layer (type)                 Output Shape              Param #   \n",
      "=================================================================\n",
      "dense_16 (Dense)             (None, 4)                 36        \n",
      "_________________________________________________________________\n",
      "dense_17 (Dense)             (None, 3)                 15        \n",
      "_________________________________________________________________\n",
      "dense_18 (Dense)             (None, 1)                 4         \n",
      "=================================================================\n",
      "Total params: 55\n",
      "Trainable params: 55\n",
      "Non-trainable params: 0\n",
      "_________________________________________________________________\n"
     ]
    }
   ],
   "source": [
    "model= Sequential(name=\"SGD\")\n",
    "\n",
    "model.add(Dense(4, input_dim=8, activation='relu'))\n",
    "model.add(Dense(3, activation='sigmoid'))\n",
    "model.add(Dense(1, activation='sigmoid'))\n",
    "\n",
    "model.compile(loss='binary_crossentropy', optimizer='sgd',\n",
    "              metrics=['accuracy'])\n",
    "\n",
    "# Let's inspect our new architecture\n",
    "model.summary()"
   ]
  },
  {
   "cell_type": "code",
   "execution_count": 35,
   "metadata": {},
   "outputs": [],
   "source": [
    "#model.fit(X,y, epochs=250)"
   ]
  },
  {
   "cell_type": "markdown",
   "metadata": {},
   "source": [
    "### Ndam & clipnorm Experiment\n",
    "\n"
   ]
  },
  {
   "cell_type": "code",
   "execution_count": 40,
   "metadata": {},
   "outputs": [
    {
     "name": "stdout",
     "output_type": "stream",
     "text": [
      "Model: \"NadamClipNorm\"\n",
      "_________________________________________________________________\n",
      "Layer (type)                 Output Shape              Param #   \n",
      "=================================================================\n",
      "dense_25 (Dense)             (None, 4)                 36        \n",
      "_________________________________________________________________\n",
      "dense_26 (Dense)             (None, 3)                 15        \n",
      "_________________________________________________________________\n",
      "dense_27 (Dense)             (None, 3)                 12        \n",
      "_________________________________________________________________\n",
      "dense_28 (Dense)             (None, 3)                 12        \n",
      "_________________________________________________________________\n",
      "dense_29 (Dense)             (None, 1)                 4         \n",
      "=================================================================\n",
      "Total params: 79\n",
      "Trainable params: 79\n",
      "Non-trainable params: 0\n",
      "_________________________________________________________________\n"
     ]
    }
   ],
   "source": [
    "from tensorflow.keras.optimizers import Nadam\n",
    "\n",
    "nadam = Nadam(clipnorm=.7)\n",
    "\n",
    "model= Sequential(name=\"NadamClipNorm\")\n",
    "\n",
    "model.add(Dense(4, input_dim=8, activation='relu'))\n",
    "model.add(Dense(3, activation='sigmoid'))\n",
    "model.add(Dense(3, activation='sigmoid'))\n",
    "model.add(Dense(3, activation='sigmoid'))\n",
    "model.add(Dense(1, activation='sigmoid'))\n",
    "\n",
    "model.compile(loss='binary_crossentropy', optimizer=nadam,\n",
    "              metrics=['accuracy'])\n",
    "\n",
    "# Let's inspect our new architecture\n",
    "model.summary()"
   ]
  },
  {
   "cell_type": "code",
   "execution_count": 41,
   "metadata": {},
   "outputs": [
    {
     "name": "stdout",
     "output_type": "stream",
     "text": [
      "Train on 768 samples\n",
      "Epoch 1/250\n",
      "768/768 [==============================] - 1s 997us/sample - loss: 0.8589 - accuracy: 0.3490\n",
      "Epoch 2/250\n",
      "768/768 [==============================] - 0s 58us/sample - loss: 0.8319 - accuracy: 0.3490\n",
      "Epoch 3/250\n",
      "768/768 [==============================] - 0s 59us/sample - loss: 0.8062 - accuracy: 0.3490\n",
      "Epoch 4/250\n",
      "768/768 [==============================] - 0s 79us/sample - loss: 0.7830 - accuracy: 0.3490\n",
      "Epoch 5/250\n",
      "768/768 [==============================] - 0s 63us/sample - loss: 0.7632 - accuracy: 0.3490\n",
      "Epoch 6/250\n",
      "768/768 [==============================] - 0s 55us/sample - loss: 0.7454 - accuracy: 0.3490\n",
      "Epoch 7/250\n",
      "768/768 [==============================] - 0s 58us/sample - loss: 0.7300 - accuracy: 0.3490\n",
      "Epoch 8/250\n",
      "768/768 [==============================] - 0s 57us/sample - loss: 0.7168 - accuracy: 0.3490\n",
      "Epoch 9/250\n",
      "768/768 [==============================] - 0s 56us/sample - loss: 0.7054 - accuracy: 0.3490\n",
      "Epoch 10/250\n",
      "768/768 [==============================] - 0s 55us/sample - loss: 0.6956 - accuracy: 0.3945\n",
      "Epoch 11/250\n",
      "768/768 [==============================] - 0s 54us/sample - loss: 0.6873 - accuracy: 0.6615\n",
      "Epoch 12/250\n",
      "768/768 [==============================] - 0s 54us/sample - loss: 0.6803 - accuracy: 0.6510\n",
      "Epoch 13/250\n",
      "768/768 [==============================] - 0s 56us/sample - loss: 0.6743 - accuracy: 0.6510\n",
      "Epoch 14/250\n",
      "768/768 [==============================] - 0s 58us/sample - loss: 0.6692 - accuracy: 0.6510\n",
      "Epoch 15/250\n",
      "768/768 [==============================] - 0s 55us/sample - loss: 0.6651 - accuracy: 0.6510\n",
      "Epoch 16/250\n",
      "768/768 [==============================] - 0s 57us/sample - loss: 0.6617 - accuracy: 0.6510\n",
      "Epoch 17/250\n",
      "768/768 [==============================] - 0s 61us/sample - loss: 0.6585 - accuracy: 0.6510\n",
      "Epoch 18/250\n",
      "768/768 [==============================] - 0s 55us/sample - loss: 0.6561 - accuracy: 0.6510\n",
      "Epoch 19/250\n",
      "768/768 [==============================] - 0s 56us/sample - loss: 0.6540 - accuracy: 0.6510\n",
      "Epoch 20/250\n",
      "768/768 [==============================] - 0s 54us/sample - loss: 0.6523 - accuracy: 0.6510\n",
      "Epoch 21/250\n",
      "768/768 [==============================] - 0s 58us/sample - loss: 0.6508 - accuracy: 0.6510\n",
      "Epoch 22/250\n",
      "768/768 [==============================] - 0s 53us/sample - loss: 0.6497 - accuracy: 0.6510\n",
      "Epoch 23/250\n",
      "768/768 [==============================] - 0s 56us/sample - loss: 0.6488 - accuracy: 0.6510\n",
      "Epoch 24/250\n",
      "768/768 [==============================] - 0s 55us/sample - loss: 0.6479 - accuracy: 0.6510\n",
      "Epoch 25/250\n",
      "768/768 [==============================] - 0s 55us/sample - loss: 0.6472 - accuracy: 0.6510\n",
      "Epoch 26/250\n",
      "768/768 [==============================] - 0s 56us/sample - loss: 0.6467 - accuracy: 0.6510\n",
      "Epoch 27/250\n",
      "768/768 [==============================] - 0s 56us/sample - loss: 0.6463 - accuracy: 0.6510\n",
      "Epoch 28/250\n",
      "768/768 [==============================] - 0s 55us/sample - loss: 0.6459 - accuracy: 0.6510\n",
      "Epoch 29/250\n",
      "768/768 [==============================] - 0s 55us/sample - loss: 0.6456 - accuracy: 0.6510\n",
      "Epoch 30/250\n",
      "768/768 [==============================] - 0s 54us/sample - loss: 0.6454 - accuracy: 0.6510\n",
      "Epoch 31/250\n",
      "768/768 [==============================] - 0s 56us/sample - loss: 0.6452 - accuracy: 0.6510\n",
      "Epoch 32/250\n",
      "768/768 [==============================] - 0s 61us/sample - loss: 0.6450 - accuracy: 0.6510\n",
      "Epoch 33/250\n",
      "768/768 [==============================] - 0s 56us/sample - loss: 0.6450 - accuracy: 0.6510\n",
      "Epoch 34/250\n",
      "768/768 [==============================] - 0s 54us/sample - loss: 0.6447 - accuracy: 0.6510\n",
      "Epoch 35/250\n",
      "768/768 [==============================] - 0s 56us/sample - loss: 0.6447 - accuracy: 0.6510\n",
      "Epoch 36/250\n",
      "768/768 [==============================] - 0s 53us/sample - loss: 0.6446 - accuracy: 0.6510\n",
      "Epoch 37/250\n",
      "768/768 [==============================] - 0s 59us/sample - loss: 0.6446 - accuracy: 0.6510\n",
      "Epoch 38/250\n",
      "768/768 [==============================] - 0s 55us/sample - loss: 0.6445 - accuracy: 0.6510\n",
      "Epoch 39/250\n",
      "768/768 [==============================] - 0s 57us/sample - loss: 0.6444 - accuracy: 0.6510\n",
      "Epoch 40/250\n",
      "768/768 [==============================] - 0s 54us/sample - loss: 0.6444 - accuracy: 0.6510\n",
      "Epoch 41/250\n",
      "768/768 [==============================] - 0s 57us/sample - loss: 0.6443 - accuracy: 0.6510\n",
      "Epoch 42/250\n",
      "768/768 [==============================] - 0s 55us/sample - loss: 0.6443 - accuracy: 0.6510\n",
      "Epoch 43/250\n",
      "768/768 [==============================] - 0s 62us/sample - loss: 0.6443 - accuracy: 0.6510\n",
      "Epoch 44/250\n",
      "768/768 [==============================] - 0s 62us/sample - loss: 0.6442 - accuracy: 0.6510\n",
      "Epoch 45/250\n",
      "768/768 [==============================] - 0s 56us/sample - loss: 0.6441 - accuracy: 0.6510\n",
      "Epoch 46/250\n",
      "768/768 [==============================] - 0s 57us/sample - loss: 0.6441 - accuracy: 0.6510\n",
      "Epoch 47/250\n",
      "768/768 [==============================] - 0s 54us/sample - loss: 0.6441 - accuracy: 0.6510\n",
      "Epoch 48/250\n",
      "768/768 [==============================] - 0s 53us/sample - loss: 0.6441 - accuracy: 0.6510\n",
      "Epoch 49/250\n",
      "768/768 [==============================] - 0s 52us/sample - loss: 0.6440 - accuracy: 0.6510\n",
      "Epoch 50/250\n",
      "768/768 [==============================] - 0s 55us/sample - loss: 0.6440 - accuracy: 0.6510\n",
      "Epoch 51/250\n",
      "768/768 [==============================] - 0s 53us/sample - loss: 0.6440 - accuracy: 0.6510\n",
      "Epoch 52/250\n",
      "768/768 [==============================] - 0s 46us/sample - loss: 0.6439 - accuracy: 0.6510\n",
      "Epoch 53/250\n",
      "768/768 [==============================] - 0s 56us/sample - loss: 0.6439 - accuracy: 0.6510\n",
      "Epoch 54/250\n",
      "768/768 [==============================] - 0s 58us/sample - loss: 0.6438 - accuracy: 0.6510\n",
      "Epoch 55/250\n",
      "768/768 [==============================] - 0s 57us/sample - loss: 0.6438 - accuracy: 0.6510\n",
      "Epoch 56/250\n",
      "768/768 [==============================] - 0s 56us/sample - loss: 0.6438 - accuracy: 0.6510\n",
      "Epoch 57/250\n",
      "768/768 [==============================] - 0s 56us/sample - loss: 0.6437 - accuracy: 0.6510\n",
      "Epoch 58/250\n",
      "768/768 [==============================] - 0s 55us/sample - loss: 0.6437 - accuracy: 0.6510\n",
      "Epoch 59/250\n",
      "768/768 [==============================] - 0s 56us/sample - loss: 0.6436 - accuracy: 0.6510\n",
      "Epoch 60/250\n",
      "768/768 [==============================] - 0s 56us/sample - loss: 0.6435 - accuracy: 0.6510\n",
      "Epoch 61/250\n",
      "768/768 [==============================] - 0s 57us/sample - loss: 0.6435 - accuracy: 0.6510\n",
      "Epoch 62/250\n",
      "768/768 [==============================] - 0s 59us/sample - loss: 0.6434 - accuracy: 0.6510\n",
      "Epoch 63/250\n",
      "768/768 [==============================] - 0s 60us/sample - loss: 0.6434 - accuracy: 0.6510\n",
      "Epoch 64/250\n",
      "768/768 [==============================] - 0s 55us/sample - loss: 0.6433 - accuracy: 0.6510\n",
      "Epoch 65/250\n",
      "768/768 [==============================] - 0s 54us/sample - loss: 0.6432 - accuracy: 0.6510\n",
      "Epoch 66/250\n",
      "768/768 [==============================] - 0s 57us/sample - loss: 0.6433 - accuracy: 0.6510\n",
      "Epoch 67/250\n",
      "768/768 [==============================] - 0s 51us/sample - loss: 0.6432 - accuracy: 0.6510\n",
      "Epoch 68/250\n",
      "768/768 [==============================] - 0s 54us/sample - loss: 0.6431 - accuracy: 0.6510\n",
      "Epoch 69/250\n",
      "768/768 [==============================] - 0s 56us/sample - loss: 0.6432 - accuracy: 0.6510\n",
      "Epoch 70/250\n",
      "768/768 [==============================] - 0s 56us/sample - loss: 0.6430 - accuracy: 0.6510\n",
      "Epoch 71/250\n",
      "768/768 [==============================] - 0s 53us/sample - loss: 0.6429 - accuracy: 0.6510\n",
      "Epoch 72/250\n",
      "768/768 [==============================] - 0s 53us/sample - loss: 0.6428 - accuracy: 0.6510\n",
      "Epoch 73/250\n",
      "768/768 [==============================] - 0s 54us/sample - loss: 0.6429 - accuracy: 0.6510\n",
      "Epoch 74/250\n",
      "768/768 [==============================] - 0s 57us/sample - loss: 0.6428 - accuracy: 0.6510\n",
      "Epoch 75/250\n",
      "768/768 [==============================] - 0s 59us/sample - loss: 0.6428 - accuracy: 0.6510\n",
      "Epoch 76/250\n",
      "768/768 [==============================] - 0s 57us/sample - loss: 0.6427 - accuracy: 0.6510\n",
      "Epoch 77/250\n",
      "768/768 [==============================] - 0s 59us/sample - loss: 0.6425 - accuracy: 0.6510\n",
      "Epoch 78/250\n",
      "768/768 [==============================] - 0s 61us/sample - loss: 0.6425 - accuracy: 0.6510\n",
      "Epoch 79/250\n",
      "768/768 [==============================] - 0s 54us/sample - loss: 0.6426 - accuracy: 0.6510\n",
      "Epoch 80/250\n",
      "768/768 [==============================] - 0s 53us/sample - loss: 0.6424 - accuracy: 0.6510\n",
      "Epoch 81/250\n",
      "768/768 [==============================] - 0s 55us/sample - loss: 0.6424 - accuracy: 0.6510\n",
      "Epoch 82/250\n",
      "768/768 [==============================] - 0s 53us/sample - loss: 0.6424 - accuracy: 0.6510\n",
      "Epoch 83/250\n",
      "768/768 [==============================] - 0s 59us/sample - loss: 0.6421 - accuracy: 0.6510\n",
      "Epoch 84/250\n",
      "768/768 [==============================] - 0s 60us/sample - loss: 0.6421 - accuracy: 0.6510\n",
      "Epoch 85/250\n",
      "768/768 [==============================] - 0s 51us/sample - loss: 0.6420 - accuracy: 0.6510\n",
      "Epoch 86/250\n",
      "768/768 [==============================] - 0s 57us/sample - loss: 0.6419 - accuracy: 0.6510\n",
      "Epoch 87/250\n",
      "768/768 [==============================] - 0s 55us/sample - loss: 0.6417 - accuracy: 0.6510\n",
      "Epoch 88/250\n",
      "768/768 [==============================] - 0s 53us/sample - loss: 0.6423 - accuracy: 0.6510\n",
      "Epoch 89/250\n",
      "768/768 [==============================] - 0s 55us/sample - loss: 0.6418 - accuracy: 0.6510\n",
      "Epoch 90/250\n",
      "768/768 [==============================] - 0s 54us/sample - loss: 0.6415 - accuracy: 0.6510\n",
      "Epoch 91/250\n",
      "768/768 [==============================] - 0s 55us/sample - loss: 0.6416 - accuracy: 0.6510\n",
      "Epoch 92/250\n",
      "768/768 [==============================] - 0s 58us/sample - loss: 0.6416 - accuracy: 0.6510\n",
      "Epoch 93/250\n",
      "768/768 [==============================] - 0s 58us/sample - loss: 0.6414 - accuracy: 0.6510\n",
      "Epoch 94/250\n",
      "768/768 [==============================] - 0s 55us/sample - loss: 0.6415 - accuracy: 0.6510\n",
      "Epoch 95/250\n",
      "768/768 [==============================] - 0s 55us/sample - loss: 0.6412 - accuracy: 0.6510\n",
      "Epoch 96/250\n",
      "768/768 [==============================] - 0s 53us/sample - loss: 0.6410 - accuracy: 0.6510\n",
      "Epoch 97/250\n",
      "768/768 [==============================] - 0s 53us/sample - loss: 0.6410 - accuracy: 0.6510\n",
      "Epoch 98/250\n",
      "768/768 [==============================] - 0s 54us/sample - loss: 0.6412 - accuracy: 0.6510\n",
      "Epoch 99/250\n",
      "768/768 [==============================] - 0s 54us/sample - loss: 0.6410 - accuracy: 0.6510\n",
      "Epoch 100/250\n",
      "768/768 [==============================] - 0s 52us/sample - loss: 0.6406 - accuracy: 0.6510\n",
      "Epoch 101/250\n",
      "768/768 [==============================] - 0s 53us/sample - loss: 0.6411 - accuracy: 0.6510\n",
      "Epoch 102/250\n",
      "768/768 [==============================] - 0s 56us/sample - loss: 0.6409 - accuracy: 0.6510\n",
      "Epoch 103/250\n",
      "768/768 [==============================] - 0s 51us/sample - loss: 0.6404 - accuracy: 0.6510\n",
      "Epoch 104/250\n",
      "768/768 [==============================] - 0s 56us/sample - loss: 0.6405 - accuracy: 0.6510\n",
      "Epoch 105/250\n",
      "768/768 [==============================] - 0s 52us/sample - loss: 0.6402 - accuracy: 0.6510\n",
      "Epoch 106/250\n",
      "768/768 [==============================] - 0s 55us/sample - loss: 0.6402 - accuracy: 0.6510\n",
      "Epoch 107/250\n",
      "768/768 [==============================] - 0s 53us/sample - loss: 0.6402 - accuracy: 0.6510\n",
      "Epoch 108/250\n",
      "768/768 [==============================] - 0s 48us/sample - loss: 0.6399 - accuracy: 0.6510\n",
      "Epoch 109/250\n",
      "768/768 [==============================] - 0s 52us/sample - loss: 0.6407 - accuracy: 0.6510\n",
      "Epoch 110/250\n",
      "768/768 [==============================] - 0s 56us/sample - loss: 0.6399 - accuracy: 0.6510\n",
      "Epoch 111/250\n",
      "768/768 [==============================] - 0s 54us/sample - loss: 0.6395 - accuracy: 0.6510\n",
      "Epoch 112/250\n",
      "768/768 [==============================] - 0s 57us/sample - loss: 0.6395 - accuracy: 0.6510\n",
      "Epoch 113/250\n",
      "768/768 [==============================] - 0s 57us/sample - loss: 0.6395 - accuracy: 0.6510\n",
      "Epoch 114/250\n",
      "768/768 [==============================] - 0s 54us/sample - loss: 0.6396 - accuracy: 0.6510\n",
      "Epoch 115/250\n",
      "768/768 [==============================] - 0s 56us/sample - loss: 0.6393 - accuracy: 0.6510\n",
      "Epoch 116/250\n",
      "768/768 [==============================] - 0s 52us/sample - loss: 0.6392 - accuracy: 0.6510\n",
      "Epoch 117/250\n",
      "768/768 [==============================] - 0s 55us/sample - loss: 0.6389 - accuracy: 0.6510\n",
      "Epoch 118/250\n",
      "768/768 [==============================] - 0s 57us/sample - loss: 0.6388 - accuracy: 0.6510\n",
      "Epoch 119/250\n",
      "768/768 [==============================] - 0s 58us/sample - loss: 0.6385 - accuracy: 0.6510\n",
      "Epoch 120/250\n",
      "768/768 [==============================] - 0s 57us/sample - loss: 0.6388 - accuracy: 0.6510\n",
      "Epoch 121/250\n",
      "768/768 [==============================] - 0s 56us/sample - loss: 0.6385 - accuracy: 0.6510\n",
      "Epoch 122/250\n",
      "768/768 [==============================] - 0s 57us/sample - loss: 0.6384 - accuracy: 0.6510\n",
      "Epoch 123/250\n",
      "768/768 [==============================] - 0s 60us/sample - loss: 0.6382 - accuracy: 0.6510\n",
      "Epoch 124/250\n",
      "768/768 [==============================] - 0s 56us/sample - loss: 0.6381 - accuracy: 0.6510\n",
      "Epoch 125/250\n",
      "768/768 [==============================] - 0s 54us/sample - loss: 0.6379 - accuracy: 0.6510\n",
      "Epoch 126/250\n",
      "768/768 [==============================] - 0s 56us/sample - loss: 0.6376 - accuracy: 0.6510\n",
      "Epoch 127/250\n",
      "768/768 [==============================] - 0s 57us/sample - loss: 0.6378 - accuracy: 0.6510\n",
      "Epoch 128/250\n",
      "768/768 [==============================] - 0s 55us/sample - loss: 0.6375 - accuracy: 0.6510\n",
      "Epoch 129/250\n",
      "768/768 [==============================] - 0s 59us/sample - loss: 0.6376 - accuracy: 0.6510\n",
      "Epoch 130/250\n",
      "768/768 [==============================] - 0s 55us/sample - loss: 0.6373 - accuracy: 0.6510\n",
      "Epoch 131/250\n",
      "768/768 [==============================] - 0s 54us/sample - loss: 0.6372 - accuracy: 0.6510\n",
      "Epoch 132/250\n",
      "768/768 [==============================] - 0s 59us/sample - loss: 0.6371 - accuracy: 0.6510\n",
      "Epoch 133/250\n",
      "768/768 [==============================] - 0s 55us/sample - loss: 0.6368 - accuracy: 0.6510\n",
      "Epoch 134/250\n",
      "768/768 [==============================] - 0s 61us/sample - loss: 0.6367 - accuracy: 0.6510\n",
      "Epoch 135/250\n",
      "768/768 [==============================] - 0s 59us/sample - loss: 0.6365 - accuracy: 0.6510\n",
      "Epoch 136/250\n",
      "768/768 [==============================] - 0s 52us/sample - loss: 0.6364 - accuracy: 0.6510\n",
      "Epoch 137/250\n",
      "768/768 [==============================] - 0s 56us/sample - loss: 0.6363 - accuracy: 0.6510\n",
      "Epoch 138/250\n",
      "768/768 [==============================] - 0s 60us/sample - loss: 0.6361 - accuracy: 0.6510\n",
      "Epoch 139/250\n",
      "768/768 [==============================] - 0s 54us/sample - loss: 0.6358 - accuracy: 0.6510\n",
      "Epoch 140/250\n",
      "768/768 [==============================] - 0s 62us/sample - loss: 0.6357 - accuracy: 0.6510\n",
      "Epoch 141/250\n",
      "768/768 [==============================] - 0s 56us/sample - loss: 0.6358 - accuracy: 0.6510\n",
      "Epoch 142/250\n",
      "768/768 [==============================] - 0s 62us/sample - loss: 0.6354 - accuracy: 0.6510\n",
      "Epoch 143/250\n",
      "768/768 [==============================] - 0s 64us/sample - loss: 0.6351 - accuracy: 0.6510\n",
      "Epoch 144/250\n",
      "768/768 [==============================] - 0s 65us/sample - loss: 0.6361 - accuracy: 0.6510\n",
      "Epoch 145/250\n",
      "768/768 [==============================] - 0s 62us/sample - loss: 0.6356 - accuracy: 0.6510\n",
      "Epoch 146/250\n",
      "768/768 [==============================] - 0s 68us/sample - loss: 0.6348 - accuracy: 0.6510\n",
      "Epoch 147/250\n",
      "768/768 [==============================] - 0s 52us/sample - loss: 0.6348 - accuracy: 0.6510\n",
      "Epoch 148/250\n",
      "768/768 [==============================] - 0s 58us/sample - loss: 0.6345 - accuracy: 0.6510\n",
      "Epoch 149/250\n",
      "768/768 [==============================] - 0s 58us/sample - loss: 0.6345 - accuracy: 0.6510\n",
      "Epoch 150/250\n",
      "768/768 [==============================] - 0s 59us/sample - loss: 0.6342 - accuracy: 0.6510\n",
      "Epoch 151/250\n",
      "768/768 [==============================] - 0s 66us/sample - loss: 0.6342 - accuracy: 0.6510\n",
      "Epoch 152/250\n",
      "768/768 [==============================] - 0s 59us/sample - loss: 0.6343 - accuracy: 0.6510\n",
      "Epoch 153/250\n",
      "768/768 [==============================] - 0s 58us/sample - loss: 0.6346 - accuracy: 0.6510\n",
      "Epoch 154/250\n",
      "768/768 [==============================] - 0s 54us/sample - loss: 0.6337 - accuracy: 0.6510\n",
      "Epoch 155/250\n",
      "768/768 [==============================] - 0s 62us/sample - loss: 0.6336 - accuracy: 0.6510\n",
      "Epoch 156/250\n",
      "768/768 [==============================] - 0s 65us/sample - loss: 0.6333 - accuracy: 0.6510\n",
      "Epoch 157/250\n",
      "768/768 [==============================] - 0s 61us/sample - loss: 0.6333 - accuracy: 0.6510\n",
      "Epoch 158/250\n",
      "768/768 [==============================] - 0s 60us/sample - loss: 0.6330 - accuracy: 0.6510\n",
      "Epoch 159/250\n",
      "768/768 [==============================] - 0s 66us/sample - loss: 0.6329 - accuracy: 0.6510\n",
      "Epoch 160/250\n",
      "768/768 [==============================] - 0s 61us/sample - loss: 0.6331 - accuracy: 0.6510\n",
      "Epoch 161/250\n",
      "768/768 [==============================] - 0s 52us/sample - loss: 0.6326 - accuracy: 0.6510\n",
      "Epoch 162/250\n",
      "768/768 [==============================] - 0s 57us/sample - loss: 0.6326 - accuracy: 0.6510\n",
      "Epoch 163/250\n",
      "768/768 [==============================] - 0s 59us/sample - loss: 0.6319 - accuracy: 0.6510\n",
      "Epoch 164/250\n",
      "768/768 [==============================] - 0s 59us/sample - loss: 0.6327 - accuracy: 0.6510\n",
      "Epoch 165/250\n",
      "768/768 [==============================] - 0s 55us/sample - loss: 0.6322 - accuracy: 0.6510\n",
      "Epoch 166/250\n",
      "768/768 [==============================] - 0s 55us/sample - loss: 0.6320 - accuracy: 0.6510\n",
      "Epoch 167/250\n",
      "768/768 [==============================] - 0s 52us/sample - loss: 0.6319 - accuracy: 0.6510\n",
      "Epoch 168/250\n",
      "768/768 [==============================] - 0s 58us/sample - loss: 0.6316 - accuracy: 0.6510\n",
      "Epoch 169/250\n",
      "768/768 [==============================] - 0s 58us/sample - loss: 0.6315 - accuracy: 0.6510\n",
      "Epoch 170/250\n",
      "768/768 [==============================] - 0s 54us/sample - loss: 0.6315 - accuracy: 0.6510\n",
      "Epoch 171/250\n",
      "768/768 [==============================] - 0s 58us/sample - loss: 0.6313 - accuracy: 0.6510\n",
      "Epoch 172/250\n",
      "768/768 [==============================] - 0s 50us/sample - loss: 0.6316 - accuracy: 0.6510\n",
      "Epoch 173/250\n",
      "768/768 [==============================] - 0s 58us/sample - loss: 0.6311 - accuracy: 0.6510\n",
      "Epoch 174/250\n",
      "768/768 [==============================] - 0s 54us/sample - loss: 0.6309 - accuracy: 0.6510\n",
      "Epoch 175/250\n",
      "768/768 [==============================] - 0s 50us/sample - loss: 0.6310 - accuracy: 0.6510\n",
      "Epoch 176/250\n",
      "768/768 [==============================] - 0s 56us/sample - loss: 0.6308 - accuracy: 0.6510\n",
      "Epoch 177/250\n",
      "768/768 [==============================] - 0s 59us/sample - loss: 0.6304 - accuracy: 0.6510\n",
      "Epoch 178/250\n",
      "768/768 [==============================] - 0s 60us/sample - loss: 0.6306 - accuracy: 0.6510\n",
      "Epoch 179/250\n",
      "768/768 [==============================] - 0s 61us/sample - loss: 0.6300 - accuracy: 0.6510\n",
      "Epoch 180/250\n",
      "768/768 [==============================] - 0s 59us/sample - loss: 0.6302 - accuracy: 0.6510\n",
      "Epoch 181/250\n",
      "768/768 [==============================] - 0s 57us/sample - loss: 0.6296 - accuracy: 0.6510\n",
      "Epoch 182/250\n",
      "768/768 [==============================] - 0s 59us/sample - loss: 0.6296 - accuracy: 0.6510\n",
      "Epoch 183/250\n",
      "768/768 [==============================] - 0s 54us/sample - loss: 0.6293 - accuracy: 0.6510\n",
      "Epoch 184/250\n",
      "768/768 [==============================] - 0s 57us/sample - loss: 0.6309 - accuracy: 0.6510\n",
      "Epoch 185/250\n",
      "768/768 [==============================] - 0s 54us/sample - loss: 0.6293 - accuracy: 0.6510\n",
      "Epoch 186/250\n",
      "768/768 [==============================] - 0s 58us/sample - loss: 0.6293 - accuracy: 0.6510\n",
      "Epoch 187/250\n",
      "768/768 [==============================] - 0s 59us/sample - loss: 0.6290 - accuracy: 0.6510\n",
      "Epoch 188/250\n",
      "768/768 [==============================] - 0s 58us/sample - loss: 0.6291 - accuracy: 0.6510\n",
      "Epoch 189/250\n",
      "768/768 [==============================] - 0s 57us/sample - loss: 0.6288 - accuracy: 0.6510\n",
      "Epoch 190/250\n",
      "768/768 [==============================] - 0s 57us/sample - loss: 0.6286 - accuracy: 0.6510\n",
      "Epoch 191/250\n",
      "768/768 [==============================] - 0s 58us/sample - loss: 0.6285 - accuracy: 0.6510\n",
      "Epoch 192/250\n",
      "768/768 [==============================] - 0s 55us/sample - loss: 0.6289 - accuracy: 0.6510\n",
      "Epoch 193/250\n",
      "768/768 [==============================] - 0s 55us/sample - loss: 0.6288 - accuracy: 0.6510\n",
      "Epoch 194/250\n",
      "768/768 [==============================] - 0s 55us/sample - loss: 0.6277 - accuracy: 0.6510\n",
      "Epoch 195/250\n",
      "768/768 [==============================] - 0s 61us/sample - loss: 0.6283 - accuracy: 0.6510\n",
      "Epoch 196/250\n",
      "768/768 [==============================] - 0s 58us/sample - loss: 0.6280 - accuracy: 0.6510\n",
      "Epoch 197/250\n",
      "768/768 [==============================] - 0s 54us/sample - loss: 0.6295 - accuracy: 0.6510\n",
      "Epoch 198/250\n",
      "768/768 [==============================] - 0s 57us/sample - loss: 0.6279 - accuracy: 0.6510\n",
      "Epoch 199/250\n",
      "768/768 [==============================] - 0s 55us/sample - loss: 0.6279 - accuracy: 0.6510\n",
      "Epoch 200/250\n",
      "768/768 [==============================] - 0s 56us/sample - loss: 0.6276 - accuracy: 0.6510\n",
      "Epoch 201/250\n",
      "768/768 [==============================] - 0s 55us/sample - loss: 0.6273 - accuracy: 0.6510\n",
      "Epoch 202/250\n",
      "768/768 [==============================] - 0s 59us/sample - loss: 0.6276 - accuracy: 0.6510\n",
      "Epoch 203/250\n",
      "768/768 [==============================] - 0s 55us/sample - loss: 0.6276 - accuracy: 0.6510\n",
      "Epoch 204/250\n",
      "768/768 [==============================] - 0s 58us/sample - loss: 0.6273 - accuracy: 0.6510\n",
      "Epoch 205/250\n",
      "768/768 [==============================] - 0s 58us/sample - loss: 0.6280 - accuracy: 0.6510\n",
      "Epoch 206/250\n",
      "768/768 [==============================] - 0s 54us/sample - loss: 0.6273 - accuracy: 0.6510\n",
      "Epoch 207/250\n",
      "768/768 [==============================] - 0s 59us/sample - loss: 0.6264 - accuracy: 0.6510\n",
      "Epoch 208/250\n",
      "768/768 [==============================] - 0s 57us/sample - loss: 0.6287 - accuracy: 0.6510\n",
      "Epoch 209/250\n",
      "768/768 [==============================] - 0s 59us/sample - loss: 0.6271 - accuracy: 0.6510\n",
      "Epoch 210/250\n",
      "768/768 [==============================] - 0s 57us/sample - loss: 0.6275 - accuracy: 0.6510\n",
      "Epoch 211/250\n",
      "768/768 [==============================] - 0s 64us/sample - loss: 0.6265 - accuracy: 0.6510\n",
      "Epoch 212/250\n",
      "768/768 [==============================] - 0s 56us/sample - loss: 0.6279 - accuracy: 0.6510\n",
      "Epoch 213/250\n",
      "768/768 [==============================] - 0s 61us/sample - loss: 0.6271 - accuracy: 0.6510\n",
      "Epoch 214/250\n",
      "768/768 [==============================] - 0s 59us/sample - loss: 0.6270 - accuracy: 0.6510\n",
      "Epoch 215/250\n",
      "768/768 [==============================] - 0s 58us/sample - loss: 0.6267 - accuracy: 0.6510\n",
      "Epoch 216/250\n",
      "768/768 [==============================] - 0s 56us/sample - loss: 0.6263 - accuracy: 0.6510\n",
      "Epoch 217/250\n",
      "768/768 [==============================] - 0s 53us/sample - loss: 0.6261 - accuracy: 0.6510\n",
      "Epoch 218/250\n",
      "768/768 [==============================] - 0s 60us/sample - loss: 0.6265 - accuracy: 0.6510\n",
      "Epoch 219/250\n",
      "768/768 [==============================] - 0s 56us/sample - loss: 0.6267 - accuracy: 0.6510\n",
      "Epoch 220/250\n",
      "768/768 [==============================] - 0s 58us/sample - loss: 0.6265 - accuracy: 0.6510\n",
      "Epoch 221/250\n",
      "768/768 [==============================] - 0s 55us/sample - loss: 0.6260 - accuracy: 0.6510\n",
      "Epoch 222/250\n",
      "768/768 [==============================] - 0s 60us/sample - loss: 0.6260 - accuracy: 0.6510\n",
      "Epoch 223/250\n",
      "768/768 [==============================] - 0s 58us/sample - loss: 0.6261 - accuracy: 0.6510\n",
      "Epoch 224/250\n",
      "768/768 [==============================] - 0s 53us/sample - loss: 0.6258 - accuracy: 0.6510\n",
      "Epoch 225/250\n",
      "768/768 [==============================] - 0s 58us/sample - loss: 0.6259 - accuracy: 0.6510\n",
      "Epoch 226/250\n",
      "768/768 [==============================] - 0s 56us/sample - loss: 0.6271 - accuracy: 0.6510\n",
      "Epoch 227/250\n",
      "768/768 [==============================] - 0s 57us/sample - loss: 0.6257 - accuracy: 0.6510\n",
      "Epoch 228/250\n",
      "768/768 [==============================] - 0s 56us/sample - loss: 0.6257 - accuracy: 0.6510\n",
      "Epoch 229/250\n",
      "768/768 [==============================] - 0s 58us/sample - loss: 0.6254 - accuracy: 0.6510\n",
      "Epoch 230/250\n",
      "768/768 [==============================] - 0s 55us/sample - loss: 0.6259 - accuracy: 0.6510\n",
      "Epoch 231/250\n",
      "768/768 [==============================] - 0s 59us/sample - loss: 0.6253 - accuracy: 0.6510\n",
      "Epoch 232/250\n",
      "768/768 [==============================] - 0s 64us/sample - loss: 0.6256 - accuracy: 0.6510\n",
      "Epoch 233/250\n",
      "768/768 [==============================] - 0s 65us/sample - loss: 0.6259 - accuracy: 0.6510\n",
      "Epoch 234/250\n",
      "768/768 [==============================] - 0s 50us/sample - loss: 0.6254 - accuracy: 0.6510\n",
      "Epoch 235/250\n",
      "768/768 [==============================] - 0s 47us/sample - loss: 0.6269 - accuracy: 0.6510\n",
      "Epoch 236/250\n",
      "768/768 [==============================] - 0s 53us/sample - loss: 0.6259 - accuracy: 0.6510\n",
      "Epoch 237/250\n",
      "768/768 [==============================] - 0s 51us/sample - loss: 0.6252 - accuracy: 0.6510\n",
      "Epoch 238/250\n",
      "768/768 [==============================] - 0s 58us/sample - loss: 0.6254 - accuracy: 0.6510\n",
      "Epoch 239/250\n",
      "768/768 [==============================] - 0s 54us/sample - loss: 0.6252 - accuracy: 0.6510\n",
      "Epoch 240/250\n",
      "768/768 [==============================] - 0s 57us/sample - loss: 0.6251 - accuracy: 0.6693\n",
      "Epoch 241/250\n",
      "768/768 [==============================] - 0s 56us/sample - loss: 0.6248 - accuracy: 0.6602\n",
      "Epoch 242/250\n",
      "768/768 [==============================] - 0s 51us/sample - loss: 0.6250 - accuracy: 0.6615\n",
      "Epoch 243/250\n",
      "768/768 [==============================] - 0s 52us/sample - loss: 0.6249 - accuracy: 0.6458\n",
      "Epoch 244/250\n",
      "768/768 [==============================] - 0s 58us/sample - loss: 0.6256 - accuracy: 0.6745\n",
      "Epoch 245/250\n",
      "768/768 [==============================] - 0s 57us/sample - loss: 0.6249 - accuracy: 0.6745\n",
      "Epoch 246/250\n",
      "768/768 [==============================] - 0s 57us/sample - loss: 0.6246 - accuracy: 0.6732\n",
      "Epoch 247/250\n",
      "768/768 [==============================] - 0s 56us/sample - loss: 0.6246 - accuracy: 0.6771\n",
      "Epoch 248/250\n",
      "768/768 [==============================] - 0s 55us/sample - loss: 0.6250 - accuracy: 0.6667\n",
      "Epoch 249/250\n",
      "768/768 [==============================] - 0s 56us/sample - loss: 0.6251 - accuracy: 0.6680\n",
      "Epoch 250/250\n",
      "768/768 [==============================] - 0s 58us/sample - loss: 0.6250 - accuracy: 0.6732\n"
     ]
    },
    {
     "data": {
      "text/plain": [
       "<tensorflow.python.keras.callbacks.History at 0x7fe9e8e90b10>"
      ]
     },
     "execution_count": 41,
     "metadata": {},
     "output_type": "execute_result"
    }
   ],
   "source": [
    "model.fit(X,y, epochs=250)"
   ]
  },
  {
   "cell_type": "markdown",
   "metadata": {},
   "source": [
    "### Normalize + Tanh Activation Experiment"
   ]
  },
  {
   "cell_type": "code",
   "execution_count": 44,
   "metadata": {},
   "outputs": [],
   "source": [
    "from sklearn.preprocessing import Normalizer\n",
    "\n",
    "norm = Normalizer()\n",
    "\n",
    "X_n = norm.fit_transform(X)"
   ]
  },
  {
   "cell_type": "code",
   "execution_count": 49,
   "metadata": {},
   "outputs": [
    {
     "name": "stdout",
     "output_type": "stream",
     "text": [
      "Model: \"NormalizedWithTanhOutput\"\n",
      "_________________________________________________________________\n",
      "Layer (type)                 Output Shape              Param #   \n",
      "=================================================================\n",
      "dense_40 (Dense)             (None, 8)                 72        \n",
      "_________________________________________________________________\n",
      "dense_41 (Dense)             (None, 8)                 72        \n",
      "_________________________________________________________________\n",
      "dense_42 (Dense)             (None, 8)                 72        \n",
      "_________________________________________________________________\n",
      "dense_43 (Dense)             (None, 8)                 72        \n",
      "_________________________________________________________________\n",
      "dense_44 (Dense)             (None, 1)                 9         \n",
      "=================================================================\n",
      "Total params: 297\n",
      "Trainable params: 297\n",
      "Non-trainable params: 0\n",
      "_________________________________________________________________\n"
     ]
    }
   ],
   "source": [
    "model= Sequential(name=\"NormalizedWithTanhOutput\")\n",
    "\n",
    "model.add(Dense(8, input_dim=8, activation='relu'))\n",
    "model.add(Dense(8, activation='relu'))\n",
    "model.add(Dense(8, activation='relu'))\n",
    "model.add(Dense(8, activation='relu'))\n",
    "model.add(Dense(1, activation='tanh'))\n",
    "\n",
    "model.compile(loss='binary_crossentropy', optimizer='adam',\n",
    "              metrics=['accuracy'])\n",
    "\n",
    "# Let's inspect our new architecture\n",
    "model.summary()"
   ]
  },
  {
   "cell_type": "code",
   "execution_count": 51,
   "metadata": {},
   "outputs": [
    {
     "name": "stdout",
     "output_type": "stream",
     "text": [
      "Train on 691 samples, validate on 77 samples\n",
      "Epoch 1/50\n",
      "691/691 [==============================] - 0s 59us/sample - loss: 5.2905 - accuracy: 0.6570 - val_loss: 6.2100 - val_accuracy: 0.5974\n",
      "Epoch 2/50\n",
      "691/691 [==============================] - 0s 60us/sample - loss: 5.2905 - accuracy: 0.6570 - val_loss: 6.2100 - val_accuracy: 0.5974\n",
      "Epoch 3/50\n",
      "691/691 [==============================] - 0s 58us/sample - loss: 5.2905 - accuracy: 0.6570 - val_loss: 6.2100 - val_accuracy: 0.5974\n",
      "Epoch 4/50\n",
      "691/691 [==============================] - 0s 59us/sample - loss: 5.2905 - accuracy: 0.6570 - val_loss: 6.2100 - val_accuracy: 0.5974\n",
      "Epoch 5/50\n",
      "691/691 [==============================] - 0s 64us/sample - loss: 5.2905 - accuracy: 0.6570 - val_loss: 6.2100 - val_accuracy: 0.5974\n",
      "Epoch 6/50\n",
      "691/691 [==============================] - 0s 61us/sample - loss: 5.2905 - accuracy: 0.6570 - val_loss: 6.2100 - val_accuracy: 0.5974\n",
      "Epoch 7/50\n",
      "691/691 [==============================] - 0s 60us/sample - loss: 5.2905 - accuracy: 0.6570 - val_loss: 6.2100 - val_accuracy: 0.5974\n",
      "Epoch 8/50\n",
      "691/691 [==============================] - 0s 60us/sample - loss: 5.2905 - accuracy: 0.6570 - val_loss: 6.2100 - val_accuracy: 0.5974\n",
      "Epoch 9/50\n",
      "691/691 [==============================] - 0s 52us/sample - loss: 5.2905 - accuracy: 0.6570 - val_loss: 6.2100 - val_accuracy: 0.5974\n",
      "Epoch 10/50\n",
      "691/691 [==============================] - 0s 60us/sample - loss: 5.2905 - accuracy: 0.6570 - val_loss: 6.2100 - val_accuracy: 0.5974\n",
      "Epoch 11/50\n",
      "691/691 [==============================] - 0s 58us/sample - loss: 5.2905 - accuracy: 0.6570 - val_loss: 6.2100 - val_accuracy: 0.5974\n",
      "Epoch 12/50\n",
      "691/691 [==============================] - 0s 59us/sample - loss: 5.2905 - accuracy: 0.6570 - val_loss: 6.2100 - val_accuracy: 0.5974\n",
      "Epoch 13/50\n",
      "691/691 [==============================] - 0s 57us/sample - loss: 5.2905 - accuracy: 0.6570 - val_loss: 6.2100 - val_accuracy: 0.5974\n",
      "Epoch 14/50\n",
      "691/691 [==============================] - 0s 60us/sample - loss: 5.2905 - accuracy: 0.6570 - val_loss: 6.2100 - val_accuracy: 0.5974\n",
      "Epoch 15/50\n",
      "691/691 [==============================] - 0s 58us/sample - loss: 5.2905 - accuracy: 0.6570 - val_loss: 6.2100 - val_accuracy: 0.5974\n",
      "Epoch 16/50\n",
      "691/691 [==============================] - 0s 56us/sample - loss: 5.2905 - accuracy: 0.6570 - val_loss: 6.2100 - val_accuracy: 0.5974\n",
      "Epoch 17/50\n",
      "691/691 [==============================] - 0s 52us/sample - loss: 5.2905 - accuracy: 0.6570 - val_loss: 6.2100 - val_accuracy: 0.5974\n",
      "Epoch 18/50\n",
      "691/691 [==============================] - 0s 54us/sample - loss: 5.2905 - accuracy: 0.6570 - val_loss: 6.2100 - val_accuracy: 0.5974\n",
      "Epoch 19/50\n",
      "691/691 [==============================] - 0s 59us/sample - loss: 5.2905 - accuracy: 0.6570 - val_loss: 6.2100 - val_accuracy: 0.5974\n",
      "Epoch 20/50\n",
      "691/691 [==============================] - 0s 58us/sample - loss: 5.2905 - accuracy: 0.6570 - val_loss: 6.2100 - val_accuracy: 0.5974\n",
      "Epoch 21/50\n",
      "691/691 [==============================] - 0s 58us/sample - loss: 5.2905 - accuracy: 0.6570 - val_loss: 6.2100 - val_accuracy: 0.5974\n",
      "Epoch 22/50\n",
      "691/691 [==============================] - 0s 57us/sample - loss: 5.2905 - accuracy: 0.6570 - val_loss: 6.2100 - val_accuracy: 0.5974\n",
      "Epoch 23/50\n",
      "691/691 [==============================] - 0s 64us/sample - loss: 5.2905 - accuracy: 0.6570 - val_loss: 6.2100 - val_accuracy: 0.5974\n",
      "Epoch 24/50\n",
      "691/691 [==============================] - 0s 58us/sample - loss: 5.2905 - accuracy: 0.6570 - val_loss: 6.2100 - val_accuracy: 0.5974\n",
      "Epoch 25/50\n",
      "691/691 [==============================] - 0s 61us/sample - loss: 5.2905 - accuracy: 0.6570 - val_loss: 6.2100 - val_accuracy: 0.5974\n",
      "Epoch 26/50\n",
      "691/691 [==============================] - 0s 65us/sample - loss: 5.2905 - accuracy: 0.6570 - val_loss: 6.2100 - val_accuracy: 0.5974\n",
      "Epoch 27/50\n",
      "691/691 [==============================] - 0s 59us/sample - loss: 5.2905 - accuracy: 0.6570 - val_loss: 6.2100 - val_accuracy: 0.5974\n",
      "Epoch 28/50\n",
      "691/691 [==============================] - 0s 60us/sample - loss: 5.2905 - accuracy: 0.6570 - val_loss: 6.2100 - val_accuracy: 0.5974\n",
      "Epoch 29/50\n",
      "691/691 [==============================] - 0s 59us/sample - loss: 5.2905 - accuracy: 0.6570 - val_loss: 6.2100 - val_accuracy: 0.5974\n",
      "Epoch 30/50\n",
      "691/691 [==============================] - 0s 57us/sample - loss: 5.2905 - accuracy: 0.6570 - val_loss: 6.2100 - val_accuracy: 0.5974\n",
      "Epoch 31/50\n",
      "691/691 [==============================] - 0s 58us/sample - loss: 5.2905 - accuracy: 0.6570 - val_loss: 6.2100 - val_accuracy: 0.5974\n",
      "Epoch 32/50\n",
      "691/691 [==============================] - 0s 59us/sample - loss: 5.2905 - accuracy: 0.6570 - val_loss: 6.2100 - val_accuracy: 0.5974\n",
      "Epoch 33/50\n",
      "691/691 [==============================] - 0s 60us/sample - loss: 5.2905 - accuracy: 0.6570 - val_loss: 6.2100 - val_accuracy: 0.5974\n",
      "Epoch 34/50\n",
      "691/691 [==============================] - 0s 56us/sample - loss: 5.2905 - accuracy: 0.6570 - val_loss: 6.2100 - val_accuracy: 0.5974\n",
      "Epoch 35/50\n",
      "691/691 [==============================] - 0s 60us/sample - loss: 5.2905 - accuracy: 0.6570 - val_loss: 6.2100 - val_accuracy: 0.5974\n",
      "Epoch 36/50\n",
      "691/691 [==============================] - 0s 57us/sample - loss: 5.2905 - accuracy: 0.6570 - val_loss: 6.2100 - val_accuracy: 0.5974\n",
      "Epoch 37/50\n",
      "691/691 [==============================] - 0s 65us/sample - loss: 5.2905 - accuracy: 0.6570 - val_loss: 6.2100 - val_accuracy: 0.5974\n",
      "Epoch 38/50\n",
      "691/691 [==============================] - 0s 56us/sample - loss: 5.2905 - accuracy: 0.6570 - val_loss: 6.2100 - val_accuracy: 0.5974\n",
      "Epoch 39/50\n",
      "691/691 [==============================] - 0s 62us/sample - loss: 5.2905 - accuracy: 0.6570 - val_loss: 6.2100 - val_accuracy: 0.5974\n",
      "Epoch 40/50\n",
      "691/691 [==============================] - 0s 62us/sample - loss: 5.2905 - accuracy: 0.6570 - val_loss: 6.2100 - val_accuracy: 0.5974\n",
      "Epoch 41/50\n",
      "691/691 [==============================] - 0s 61us/sample - loss: 5.2905 - accuracy: 0.6570 - val_loss: 6.2100 - val_accuracy: 0.5974\n",
      "Epoch 42/50\n",
      "691/691 [==============================] - 0s 57us/sample - loss: 5.2905 - accuracy: 0.6570 - val_loss: 6.2100 - val_accuracy: 0.5974\n",
      "Epoch 43/50\n",
      "691/691 [==============================] - 0s 58us/sample - loss: 5.2905 - accuracy: 0.6570 - val_loss: 6.2100 - val_accuracy: 0.5974\n",
      "Epoch 44/50\n",
      "691/691 [==============================] - 0s 55us/sample - loss: 5.2905 - accuracy: 0.6570 - val_loss: 6.2100 - val_accuracy: 0.5974\n",
      "Epoch 45/50\n",
      "691/691 [==============================] - 0s 59us/sample - loss: 5.2905 - accuracy: 0.6570 - val_loss: 6.2100 - val_accuracy: 0.5974\n",
      "Epoch 46/50\n",
      "691/691 [==============================] - 0s 56us/sample - loss: 5.2905 - accuracy: 0.6570 - val_loss: 6.2100 - val_accuracy: 0.5974\n",
      "Epoch 47/50\n",
      "691/691 [==============================] - 0s 57us/sample - loss: 5.2905 - accuracy: 0.6570 - val_loss: 6.2100 - val_accuracy: 0.5974\n",
      "Epoch 48/50\n",
      "691/691 [==============================] - 0s 60us/sample - loss: 5.2905 - accuracy: 0.6570 - val_loss: 6.2100 - val_accuracy: 0.5974\n",
      "Epoch 49/50\n",
      "691/691 [==============================] - 0s 67us/sample - loss: 5.2905 - accuracy: 0.6570 - val_loss: 6.2100 - val_accuracy: 0.5974\n",
      "Epoch 50/50\n",
      "691/691 [==============================] - 0s 63us/sample - loss: 5.2905 - accuracy: 0.6570 - val_loss: 6.2100 - val_accuracy: 0.5974\n"
     ]
    },
    {
     "data": {
      "text/plain": [
       "<tensorflow.python.keras.callbacks.History at 0x7fe9b92b14d0>"
      ]
     },
     "execution_count": 51,
     "metadata": {},
     "output_type": "execute_result"
    }
   ],
   "source": [
    "np.random.seed(723)\n",
    "\n",
    "model.fit(X_n, y, epochs=50, validation_split=.10,)"
   ]
  },
  {
   "cell_type": "markdown",
   "metadata": {},
   "source": [
    "## Challenge\n",
    "\n",
    "You will have to choose your own architectures in today's module project. "
   ]
  },
  {
   "cell_type": "markdown",
   "metadata": {
    "colab_type": "text",
    "id": "tcjMuxtn6wIQ",
    "toc-hr-collapsed": false
   },
   "source": [
    "# Activation Functions (Learn)"
   ]
  },
  {
   "cell_type": "markdown",
   "metadata": {
    "colab_type": "text",
    "id": "tcjMuxtn6wIQ",
    "toc-hr-collapsed": false
   },
   "source": [
    "## Overview\n",
    "What is an activation function and how does it work?\n",
    "\n",
    "- Takes in a weighted sum of inputs + a bias from the previous layer and outputs an \"activation\" value.\n",
    "- Based its inputs the neuron decides how 'activated' it should be. This can be thought of as the neuron deciding how strongly to fire. You can also think of it as if the neuron is deciding how much of the signal that it has received to pass onto the next layer. \n",
    "- Our choice of activation function does not only affect signal that is passed forward but also affects the backpropagation algorithm. It affects how we update weights in reverse order since activated weight/input sums become the inputs of the next layer. "
   ]
  },
  {
   "cell_type": "markdown",
   "metadata": {
    "toc-hr-collapsed": true
   },
   "source": [
    "## Follow Along"
   ]
  },
  {
   "cell_type": "markdown",
   "metadata": {
    "colab_type": "text",
    "id": "n_b0u8Ch60bA"
   },
   "source": [
    "### Step Function\n",
    "\n",
    "![Heaviside Step Function](https://upload.wikimedia.org/wikipedia/commons/thumb/d/d9/Dirac_distribution_CDF.svg/325px-Dirac_distribution_CDF.svg.png)\n",
    "\n",
    "All or nothing, a little extreme, which is fine, but makes updating weights through backpropagation impossible. Why? remember that during backpropagation we use derivatives in order to determine how much to update or not update weights. What is the derivative of the step function?"
   ]
  },
  {
   "cell_type": "markdown",
   "metadata": {
    "colab_type": "text",
    "id": "vKR0YhIVEnXZ"
   },
   "source": [
    "### Linear Function\n",
    "\n",
    "![Linear Function](http://www.roconnell.net/Parent%20function/linear.gif)\n",
    "\n",
    "The linear function takes the opposite tact from the step function and passes the signal onto the next layer by a constant factor. There are problems with this but the biggest problems again lie in backpropagation. The derivative of any linear function is a horizontal line which would indicate that we should update all weights by a constant amount every time -which on balance wouldn't change the behavior of our network. Linear functions are typically only used for very simple tasks where interpretability is important, but if interpretability is your highest priority, you probably shouldn't be using neural networks in the first place."
   ]
  },
  {
   "cell_type": "markdown",
   "metadata": {
    "colab_type": "text",
    "id": "JFurIVL6EkQ8"
   },
   "source": [
    "### Sigmoid Function\n",
    "\n",
    "![Sigmoid Function](https://upload.wikimedia.org/wikipedia/commons/thumb/8/88/Logistic-curve.svg/480px-Logistic-curve.svg.png)\n",
    "\n",
    "The sigmoid function works great as an activation function! it's continuously differentiable, its derivative doesn't have a constant slope, and having the higher slope in the middle pushes y value predictions towards extremes which is particularly useful for binary classification problems. I mean, this is why we use it as the squishifier in logistic regression as well. It constrains output, but over repeated epochs pushes predictions towards a strong binary prediction. \n",
    "\n",
    "What's the biggest problem with the sigmoid function? The fact that its slope gets pretty flat so quickly after its departure from zero. This means that updating weights based on its gradient really diminishes the size of our weight updates as our model gets more confident about its classifications. This is why even after so many iterations with our test score example we couldn't reach the levels of fit that our gradient descent based model could reach in just a few epochs."
   ]
  },
  {
   "cell_type": "markdown",
   "metadata": {
    "colab_type": "text",
    "id": "hm6p1HWbEhYi"
   },
   "source": [
    "### Tanh Function\n",
    "\n",
    "![Tanh Function](http://mathworld.wolfram.com/images/interactive/TanhReal.gif)\n",
    "\n",
    "What if the sigmoid function didn't get so flat quite as soon when moving away from zero and was a little bit steeper in the middle? That's basically the Tanh function. The Tanh function can actually be created by scaling the sigmoid function by 2 in the y dimension and subtracting 1 from all values. It has basically the same properties as the sigmoid, still struggles from diminishingly flat gradients as we move away from 0, but its derivative is higher around 0 causing weights to move to the extremes a little faster. "
   ]
  },
  {
   "cell_type": "markdown",
   "metadata": {
    "colab_type": "text",
    "id": "sFOn_L6gEcz1"
   },
   "source": [
    "### ReLU Function\n",
    "\n",
    "![ReLU Function](https://cdn-images-1.medium.com/max/937/1*oePAhrm74RNnNEolprmTaQ.png)\n",
    "\n",
    "ReLU stands for Rectified Linear Units it is by far the most commonly used activation function in modern neural networks. It doesn't activate neurons that are being passed a negative signal and passes on positive signals. Think about why this might be useful. Remember how a lot of our initial weights got set to negative numbers by chance? This would have dealt with those negative weights a lot faster than the sigmoid function updating. What does the derivative of this function look like? It looks like the step function! This means that not all neurons are activated. With sigmoid basically all of our neurons are passing some amount of signal even if it's small making it hard for the network to differentiate important and less important connections. ReLU turns off a portion of our less important neurons which decreases computational load, but also helps the network learn what the most important connections are faster. \n",
    "\n",
    "What's the problem with relu? Well the left half of its derivative function shows that for neurons that are initialized with weights that cause them to have no activation, our gradient will not update those neuron's weights, this can lead to dead neurons that never fire and whose weights never get updated. We would probably want to update the weights of neurons that didn't fire even if it's just by a little bit in case we got unlucky with our initial weights and want to give those neurons a chance of turning back on in the future."
   ]
  },
  {
   "cell_type": "markdown",
   "metadata": {
    "colab_type": "text",
    "id": "XWdvWOBIETwk"
   },
   "source": [
    "### Leaky ReLU\n",
    "\n",
    "![Leaky ReLU](https://cdn-images-1.medium.com/max/1600/1*ypsvQH7kvtI2BhzR2eT_Sw.png)\n",
    "\n",
    "Leaky ReLU accomplishes exactly that! it avoids having a gradient of 0 on the left side of its derivative function. This means that even \"dead\" neurons have a chance of being revived over enough iterations. In some specifications the slope of the leaky left-hand side can also be experimented with as a hyperparameter of the model!"
   ]
  },
  {
   "cell_type": "markdown",
   "metadata": {
    "colab_type": "text",
    "id": "FcAxkNFREMFb"
   },
   "source": [
    "### Softmax Function\n",
    "\n",
    "![Softmax Function](https://cdn-images-1.medium.com/max/800/1*670CdxchunD-yAuUWdI7Bw.png)\n",
    "\n",
    "Like the sigmoid function but more useful for multi-class classification problems. The softmax function can take any set of inputs and translate them into probabilities that sum up to 1. This means that we can throw any list of outputs at it and it will translate them into probabilities, this is extremely useful for multi-class classification problems. Like MNIST for example..."
   ]
  },
  {
   "cell_type": "markdown",
   "metadata": {
    "colab_type": "text",
    "id": "23-XRRXKHs34"
   },
   "source": [
    "### Major takeaways\n",
    "\n",
    "- ReLU is generally better at obtaining the optimal model fit.\n",
    "- Sigmoid and its derivatives are usually better at classification problems.\n",
    "- Softmax for multi-class classification problems. \n",
    "\n",
    "You'll typically see ReLU used for all initial layers and then the final layer being sigmoid or softmax for classification problems. But you can experiment and tune these selections as hyperparameters as well!"
   ]
  },
  {
   "cell_type": "markdown",
   "metadata": {
    "colab_type": "text",
    "id": "TWuoXZCCKCI7"
   },
   "source": [
    "### MNIST with Keras \n",
    "\n",
    "#### This will be a good chance to bring up dropout regularization. :)"
   ]
  },
  {
   "cell_type": "code",
   "execution_count": 26,
   "metadata": {
    "colab": {},
    "colab_type": "code",
    "id": "jmJ_5azs04pU"
   },
   "outputs": [],
   "source": [
    "### Let's do it!\n",
    "\n",
    "from tensorflow import keras\n",
    "from tensorflow.keras.datasets import mnist\n",
    "from tensorflow.keras.models import Sequential\n",
    "from tensorflow.keras.layers import Dense, Dropout\n",
    "\n",
    "# Stretch - use dropout \n",
    "import numpy as np"
   ]
  },
  {
   "cell_type": "code",
   "execution_count": 27,
   "metadata": {},
   "outputs": [],
   "source": [
    "# Hyper Parameters\n",
    "batch_size = 64\n",
    "num_classes = 10\n",
    "epochs = 20"
   ]
  },
  {
   "cell_type": "code",
   "execution_count": 28,
   "metadata": {},
   "outputs": [],
   "source": [
    "# Load the Data\n",
    "(X_train, y_train), (X_test, y_test) = mnist.load_data()"
   ]
  },
  {
   "cell_type": "code",
   "execution_count": 29,
   "metadata": {},
   "outputs": [
    {
     "data": {
      "text/plain": [
       "(28, 28)"
      ]
     },
     "execution_count": 29,
     "metadata": {},
     "output_type": "execute_result"
    }
   ],
   "source": [
    "X_train[0].shape"
   ]
  },
  {
   "cell_type": "code",
   "execution_count": 30,
   "metadata": {},
   "outputs": [
    {
     "data": {
      "text/plain": [
       "(60000, 28, 28)"
      ]
     },
     "execution_count": 30,
     "metadata": {},
     "output_type": "execute_result"
    }
   ],
   "source": [
    "X_train.shape"
   ]
  },
  {
   "cell_type": "code",
   "execution_count": 31,
   "metadata": {},
   "outputs": [
    {
     "data": {
      "text/plain": [
       "array([[  0,   0,   0,   0,   0,   0,   0,   0,   0,   0,   0,   0,   0,\n",
       "          0,   0,   0,   0,   0,   0,   0,   0,   0,   0,   0,   0,   0,\n",
       "          0,   0],\n",
       "       [  0,   0,   0,   0,   0,   0,   0,   0,   0,   0,   0,   0,   0,\n",
       "          0,   0,   0,   0,   0,   0,   0,   0,   0,   0,   0,   0,   0,\n",
       "          0,   0],\n",
       "       [  0,   0,   0,   0,   0,   0,   0,   0,   0,   0,   0,   0,   0,\n",
       "          0,   0,   0,   0,   0,   0,   0,   0,   0,   0,   0,   0,   0,\n",
       "          0,   0],\n",
       "       [  0,   0,   0,   0,   0,   0,   0,   0,   0,   0,   0,   0,   0,\n",
       "          0,   0,   0,   0,   0,   0,   0,   0,   0,   0,   0,   0,   0,\n",
       "          0,   0],\n",
       "       [  0,   0,   0,   0,   0,   0,   0,   0,   0,   0,   0,   0,   0,\n",
       "          0,   0,   0,   0,   0,   0,   0,   0,   0,   0,   0,   0,   0,\n",
       "          0,   0],\n",
       "       [  0,   0,   0,   0,   0,   0,   0,   0,   0,   0,   0,   0,   3,\n",
       "         18,  18,  18, 126, 136, 175,  26, 166, 255, 247, 127,   0,   0,\n",
       "          0,   0],\n",
       "       [  0,   0,   0,   0,   0,   0,   0,   0,  30,  36,  94, 154, 170,\n",
       "        253, 253, 253, 253, 253, 225, 172, 253, 242, 195,  64,   0,   0,\n",
       "          0,   0],\n",
       "       [  0,   0,   0,   0,   0,   0,   0,  49, 238, 253, 253, 253, 253,\n",
       "        253, 253, 253, 253, 251,  93,  82,  82,  56,  39,   0,   0,   0,\n",
       "          0,   0],\n",
       "       [  0,   0,   0,   0,   0,   0,   0,  18, 219, 253, 253, 253, 253,\n",
       "        253, 198, 182, 247, 241,   0,   0,   0,   0,   0,   0,   0,   0,\n",
       "          0,   0],\n",
       "       [  0,   0,   0,   0,   0,   0,   0,   0,  80, 156, 107, 253, 253,\n",
       "        205,  11,   0,  43, 154,   0,   0,   0,   0,   0,   0,   0,   0,\n",
       "          0,   0],\n",
       "       [  0,   0,   0,   0,   0,   0,   0,   0,   0,  14,   1, 154, 253,\n",
       "         90,   0,   0,   0,   0,   0,   0,   0,   0,   0,   0,   0,   0,\n",
       "          0,   0],\n",
       "       [  0,   0,   0,   0,   0,   0,   0,   0,   0,   0,   0, 139, 253,\n",
       "        190,   2,   0,   0,   0,   0,   0,   0,   0,   0,   0,   0,   0,\n",
       "          0,   0],\n",
       "       [  0,   0,   0,   0,   0,   0,   0,   0,   0,   0,   0,  11, 190,\n",
       "        253,  70,   0,   0,   0,   0,   0,   0,   0,   0,   0,   0,   0,\n",
       "          0,   0],\n",
       "       [  0,   0,   0,   0,   0,   0,   0,   0,   0,   0,   0,   0,  35,\n",
       "        241, 225, 160, 108,   1,   0,   0,   0,   0,   0,   0,   0,   0,\n",
       "          0,   0],\n",
       "       [  0,   0,   0,   0,   0,   0,   0,   0,   0,   0,   0,   0,   0,\n",
       "         81, 240, 253, 253, 119,  25,   0,   0,   0,   0,   0,   0,   0,\n",
       "          0,   0],\n",
       "       [  0,   0,   0,   0,   0,   0,   0,   0,   0,   0,   0,   0,   0,\n",
       "          0,  45, 186, 253, 253, 150,  27,   0,   0,   0,   0,   0,   0,\n",
       "          0,   0],\n",
       "       [  0,   0,   0,   0,   0,   0,   0,   0,   0,   0,   0,   0,   0,\n",
       "          0,   0,  16,  93, 252, 253, 187,   0,   0,   0,   0,   0,   0,\n",
       "          0,   0],\n",
       "       [  0,   0,   0,   0,   0,   0,   0,   0,   0,   0,   0,   0,   0,\n",
       "          0,   0,   0,   0, 249, 253, 249,  64,   0,   0,   0,   0,   0,\n",
       "          0,   0],\n",
       "       [  0,   0,   0,   0,   0,   0,   0,   0,   0,   0,   0,   0,   0,\n",
       "          0,  46, 130, 183, 253, 253, 207,   2,   0,   0,   0,   0,   0,\n",
       "          0,   0],\n",
       "       [  0,   0,   0,   0,   0,   0,   0,   0,   0,   0,   0,   0,  39,\n",
       "        148, 229, 253, 253, 253, 250, 182,   0,   0,   0,   0,   0,   0,\n",
       "          0,   0],\n",
       "       [  0,   0,   0,   0,   0,   0,   0,   0,   0,   0,  24, 114, 221,\n",
       "        253, 253, 253, 253, 201,  78,   0,   0,   0,   0,   0,   0,   0,\n",
       "          0,   0],\n",
       "       [  0,   0,   0,   0,   0,   0,   0,   0,  23,  66, 213, 253, 253,\n",
       "        253, 253, 198,  81,   2,   0,   0,   0,   0,   0,   0,   0,   0,\n",
       "          0,   0],\n",
       "       [  0,   0,   0,   0,   0,   0,  18, 171, 219, 253, 253, 253, 253,\n",
       "        195,  80,   9,   0,   0,   0,   0,   0,   0,   0,   0,   0,   0,\n",
       "          0,   0],\n",
       "       [  0,   0,   0,   0,  55, 172, 226, 253, 253, 253, 253, 244, 133,\n",
       "         11,   0,   0,   0,   0,   0,   0,   0,   0,   0,   0,   0,   0,\n",
       "          0,   0],\n",
       "       [  0,   0,   0,   0, 136, 253, 253, 253, 212, 135, 132,  16,   0,\n",
       "          0,   0,   0,   0,   0,   0,   0,   0,   0,   0,   0,   0,   0,\n",
       "          0,   0],\n",
       "       [  0,   0,   0,   0,   0,   0,   0,   0,   0,   0,   0,   0,   0,\n",
       "          0,   0,   0,   0,   0,   0,   0,   0,   0,   0,   0,   0,   0,\n",
       "          0,   0],\n",
       "       [  0,   0,   0,   0,   0,   0,   0,   0,   0,   0,   0,   0,   0,\n",
       "          0,   0,   0,   0,   0,   0,   0,   0,   0,   0,   0,   0,   0,\n",
       "          0,   0],\n",
       "       [  0,   0,   0,   0,   0,   0,   0,   0,   0,   0,   0,   0,   0,\n",
       "          0,   0,   0,   0,   0,   0,   0,   0,   0,   0,   0,   0,   0,\n",
       "          0,   0]], dtype=uint8)"
      ]
     },
     "execution_count": 31,
     "metadata": {},
     "output_type": "execute_result"
    }
   ],
   "source": [
    "X_train[0]"
   ]
  },
  {
   "cell_type": "code",
   "execution_count": 32,
   "metadata": {},
   "outputs": [],
   "source": [
    "# Reshape the data\n",
    "X_train = X_train.reshape(60000, 784)\n",
    "X_test = X_test.reshape(10000, 784)"
   ]
  },
  {
   "cell_type": "code",
   "execution_count": 33,
   "metadata": {},
   "outputs": [],
   "source": [
    "# X Variable Types\n",
    "X_train = X_train.astype('float32')\n",
    "X_test = X_test.astype('float32')"
   ]
  },
  {
   "cell_type": "code",
   "execution_count": 34,
   "metadata": {},
   "outputs": [
    {
     "data": {
      "text/plain": [
       "4"
      ]
     },
     "execution_count": 34,
     "metadata": {},
     "output_type": "execute_result"
    }
   ],
   "source": [
    "y_train[2] "
   ]
  },
  {
   "cell_type": "code",
   "execution_count": 35,
   "metadata": {},
   "outputs": [
    {
     "data": {
      "text/plain": [
       "4"
      ]
     },
     "execution_count": 35,
     "metadata": {},
     "output_type": "execute_result"
    }
   ],
   "source": [
    "y_train[2]"
   ]
  },
  {
   "cell_type": "code",
   "execution_count": 47,
   "metadata": {},
   "outputs": [],
   "source": [
    "# Correct Encoding on Y\n",
    "# What softmax expects = [0,0,0,0,0,1,0,0,0,0]\n",
    "\n",
    "y_train = keras.utils.to_categorical(y_train, num_classes)\n",
    "y_test = keras.utils.to_categorical(y_test, num_classes)"
   ]
  },
  {
   "cell_type": "code",
   "execution_count": 36,
   "metadata": {},
   "outputs": [
    {
     "data": {
      "text/plain": [
       "4"
      ]
     },
     "execution_count": 36,
     "metadata": {},
     "output_type": "execute_result"
    }
   ],
   "source": [
    "y_train[2]"
   ]
  },
  {
   "cell_type": "code",
   "execution_count": 37,
   "metadata": {},
   "outputs": [
    {
     "name": "stdout",
     "output_type": "stream",
     "text": [
      "Model: \"sequential_2\"\n",
      "_________________________________________________________________\n",
      "Layer (type)                 Output Shape              Param #   \n",
      "=================================================================\n",
      "dense_10 (Dense)             (None, 16)                12560     \n",
      "_________________________________________________________________\n",
      "dense_11 (Dense)             (None, 16)                272       \n",
      "_________________________________________________________________\n",
      "dense_12 (Dense)             (None, 16)                272       \n",
      "_________________________________________________________________\n",
      "dense_13 (Dense)             (None, 16)                272       \n",
      "_________________________________________________________________\n",
      "dense_14 (Dense)             (None, 10)                170       \n",
      "=================================================================\n",
      "Total params: 13,546\n",
      "Trainable params: 13,546\n",
      "Non-trainable params: 0\n",
      "_________________________________________________________________\n"
     ]
    }
   ],
   "source": [
    "mnist_model = Sequential()\n",
    "\n",
    "# Input => Hidden\n",
    "mnist_model.add(Dense(16, input_dim=784, activation='relu'))\n",
    "# Hidden\n",
    "mnist_model.add(Dense(16, activation='relu'))\n",
    "# Hidden\n",
    "mnist_model.add(Dense(16, activation='relu'))\n",
    "# Hidden\n",
    "mnist_model.add(Dense(16, activation='relu'))\n",
    "# Output\n",
    "mnist_model.add(Dense(10,activation='softmax'))\n",
    "\n",
    "#Compile\n",
    "mnist_model.compile(loss='categorical_crossentropy',\n",
    "                    optimizer='adam',\n",
    "                    metrics=['accuracy'])\n",
    "\n",
    "mnist_model.summary()"
   ]
  },
  {
   "cell_type": "code",
   "execution_count": 38,
   "metadata": {},
   "outputs": [],
   "source": [
    "def neural_network(X):\n",
    "    \n",
    "    dense1 = Dense(8, activation='relu', input=X)\n",
    "    dense2 = Dense(8, activation='relu')(X)\n",
    "    \n",
    "    \n",
    "    return dense2 #or return model"
   ]
  },
  {
   "cell_type": "code",
   "execution_count": 39,
   "metadata": {},
   "outputs": [
    {
     "data": {
      "text/plain": [
       "12544"
      ]
     },
     "execution_count": 39,
     "metadata": {},
     "output_type": "execute_result"
    }
   ],
   "source": [
    "16 *  784"
   ]
  },
  {
   "cell_type": "code",
   "execution_count": 40,
   "metadata": {},
   "outputs": [
    {
     "data": {
      "text/plain": [
       "(10000,)"
      ]
     },
     "execution_count": 40,
     "metadata": {},
     "output_type": "execute_result"
    }
   ],
   "source": [
    "y_test.shape"
   ]
  },
  {
   "cell_type": "code",
   "execution_count": 41,
   "metadata": {},
   "outputs": [
    {
     "ename": "ValueError",
     "evalue": "You are passing a target array of shape (60000, 1) while using as loss `categorical_crossentropy`. `categorical_crossentropy` expects targets to be binary matrices (1s and 0s) of shape (samples, classes). If your targets are integer classes, you can convert them to the expected format via:\n```\nfrom keras.utils import to_categorical\ny_binary = to_categorical(y_int)\n```\n\nAlternatively, you can use the loss function `sparse_categorical_crossentropy` instead, which does expect integer targets.",
     "output_type": "error",
     "traceback": [
      "\u001b[0;31m---------------------------------------------------------------------------\u001b[0m",
      "\u001b[0;31mValueError\u001b[0m                                Traceback (most recent call last)",
      "\u001b[0;32m<ipython-input-41-fd0808510929>\u001b[0m in \u001b[0;36m<module>\u001b[0;34m\u001b[0m\n\u001b[0;32m----> 1\u001b[0;31m \u001b[0mhistory\u001b[0m \u001b[0;34m=\u001b[0m \u001b[0mmnist_model\u001b[0m\u001b[0;34m.\u001b[0m\u001b[0mfit\u001b[0m\u001b[0;34m(\u001b[0m\u001b[0mX_train\u001b[0m\u001b[0;34m,\u001b[0m \u001b[0my_train\u001b[0m\u001b[0;34m,\u001b[0m \u001b[0mbatch_size\u001b[0m\u001b[0;34m=\u001b[0m\u001b[0;36m32\u001b[0m\u001b[0;34m,\u001b[0m \u001b[0mepochs\u001b[0m\u001b[0;34m=\u001b[0m\u001b[0;36m100\u001b[0m\u001b[0;34m,\u001b[0m \u001b[0mverbose\u001b[0m\u001b[0;34m=\u001b[0m\u001b[0;32mFalse\u001b[0m\u001b[0;34m)\u001b[0m\u001b[0;34m\u001b[0m\u001b[0;34m\u001b[0m\u001b[0m\n\u001b[0m\u001b[1;32m      2\u001b[0m \u001b[0mscores\u001b[0m \u001b[0;34m=\u001b[0m \u001b[0mmnist_model\u001b[0m\u001b[0;34m.\u001b[0m\u001b[0mevaluate\u001b[0m\u001b[0;34m(\u001b[0m\u001b[0mX_test\u001b[0m\u001b[0;34m,\u001b[0m \u001b[0my_test\u001b[0m\u001b[0;34m)\u001b[0m\u001b[0;34m\u001b[0m\u001b[0;34m\u001b[0m\u001b[0m\n\u001b[1;32m      3\u001b[0m \u001b[0;31m#print(f'{mnist_model.metrics_names[1]}: {scores[1]*100}')\u001b[0m\u001b[0;34m\u001b[0m\u001b[0;34m\u001b[0m\u001b[0;34m\u001b[0m\u001b[0m\n",
      "\u001b[0;32m~/anaconda3/envs/U4-S2-NNF-DS10/lib/python3.7/site-packages/tensorflow_core/python/keras/engine/training.py\u001b[0m in \u001b[0;36mfit\u001b[0;34m(self, x, y, batch_size, epochs, verbose, callbacks, validation_split, validation_data, shuffle, class_weight, sample_weight, initial_epoch, steps_per_epoch, validation_steps, validation_freq, max_queue_size, workers, use_multiprocessing, **kwargs)\u001b[0m\n\u001b[1;32m    817\u001b[0m         \u001b[0mmax_queue_size\u001b[0m\u001b[0;34m=\u001b[0m\u001b[0mmax_queue_size\u001b[0m\u001b[0;34m,\u001b[0m\u001b[0;34m\u001b[0m\u001b[0;34m\u001b[0m\u001b[0m\n\u001b[1;32m    818\u001b[0m         \u001b[0mworkers\u001b[0m\u001b[0;34m=\u001b[0m\u001b[0mworkers\u001b[0m\u001b[0;34m,\u001b[0m\u001b[0;34m\u001b[0m\u001b[0;34m\u001b[0m\u001b[0m\n\u001b[0;32m--> 819\u001b[0;31m         use_multiprocessing=use_multiprocessing)\n\u001b[0m\u001b[1;32m    820\u001b[0m \u001b[0;34m\u001b[0m\u001b[0m\n\u001b[1;32m    821\u001b[0m   def evaluate(self,\n",
      "\u001b[0;32m~/anaconda3/envs/U4-S2-NNF-DS10/lib/python3.7/site-packages/tensorflow_core/python/keras/engine/training_v2.py\u001b[0m in \u001b[0;36mfit\u001b[0;34m(self, model, x, y, batch_size, epochs, verbose, callbacks, validation_split, validation_data, shuffle, class_weight, sample_weight, initial_epoch, steps_per_epoch, validation_steps, validation_freq, max_queue_size, workers, use_multiprocessing, **kwargs)\u001b[0m\n\u001b[1;32m    233\u001b[0m           \u001b[0mmax_queue_size\u001b[0m\u001b[0;34m=\u001b[0m\u001b[0mmax_queue_size\u001b[0m\u001b[0;34m,\u001b[0m\u001b[0;34m\u001b[0m\u001b[0;34m\u001b[0m\u001b[0m\n\u001b[1;32m    234\u001b[0m           \u001b[0mworkers\u001b[0m\u001b[0;34m=\u001b[0m\u001b[0mworkers\u001b[0m\u001b[0;34m,\u001b[0m\u001b[0;34m\u001b[0m\u001b[0;34m\u001b[0m\u001b[0m\n\u001b[0;32m--> 235\u001b[0;31m           use_multiprocessing=use_multiprocessing)\n\u001b[0m\u001b[1;32m    236\u001b[0m \u001b[0;34m\u001b[0m\u001b[0m\n\u001b[1;32m    237\u001b[0m       \u001b[0mtotal_samples\u001b[0m \u001b[0;34m=\u001b[0m \u001b[0m_get_total_number_of_samples\u001b[0m\u001b[0;34m(\u001b[0m\u001b[0mtraining_data_adapter\u001b[0m\u001b[0;34m)\u001b[0m\u001b[0;34m\u001b[0m\u001b[0;34m\u001b[0m\u001b[0m\n",
      "\u001b[0;32m~/anaconda3/envs/U4-S2-NNF-DS10/lib/python3.7/site-packages/tensorflow_core/python/keras/engine/training_v2.py\u001b[0m in \u001b[0;36m_process_training_inputs\u001b[0;34m(model, x, y, batch_size, epochs, sample_weights, class_weights, steps_per_epoch, validation_split, validation_data, validation_steps, shuffle, distribution_strategy, max_queue_size, workers, use_multiprocessing)\u001b[0m\n\u001b[1;32m    591\u001b[0m         \u001b[0mmax_queue_size\u001b[0m\u001b[0;34m=\u001b[0m\u001b[0mmax_queue_size\u001b[0m\u001b[0;34m,\u001b[0m\u001b[0;34m\u001b[0m\u001b[0;34m\u001b[0m\u001b[0m\n\u001b[1;32m    592\u001b[0m         \u001b[0mworkers\u001b[0m\u001b[0;34m=\u001b[0m\u001b[0mworkers\u001b[0m\u001b[0;34m,\u001b[0m\u001b[0;34m\u001b[0m\u001b[0;34m\u001b[0m\u001b[0m\n\u001b[0;32m--> 593\u001b[0;31m         use_multiprocessing=use_multiprocessing)\n\u001b[0m\u001b[1;32m    594\u001b[0m     \u001b[0mval_adapter\u001b[0m \u001b[0;34m=\u001b[0m \u001b[0;32mNone\u001b[0m\u001b[0;34m\u001b[0m\u001b[0;34m\u001b[0m\u001b[0m\n\u001b[1;32m    595\u001b[0m     \u001b[0;32mif\u001b[0m \u001b[0mvalidation_data\u001b[0m\u001b[0;34m:\u001b[0m\u001b[0;34m\u001b[0m\u001b[0;34m\u001b[0m\u001b[0m\n",
      "\u001b[0;32m~/anaconda3/envs/U4-S2-NNF-DS10/lib/python3.7/site-packages/tensorflow_core/python/keras/engine/training_v2.py\u001b[0m in \u001b[0;36m_process_inputs\u001b[0;34m(model, mode, x, y, batch_size, epochs, sample_weights, class_weights, shuffle, steps, distribution_strategy, max_queue_size, workers, use_multiprocessing)\u001b[0m\n\u001b[1;32m    644\u001b[0m     \u001b[0mstandardize_function\u001b[0m \u001b[0;34m=\u001b[0m \u001b[0;32mNone\u001b[0m\u001b[0;34m\u001b[0m\u001b[0;34m\u001b[0m\u001b[0m\n\u001b[1;32m    645\u001b[0m     x, y, sample_weights = standardize(\n\u001b[0;32m--> 646\u001b[0;31m         x, y, sample_weight=sample_weights)\n\u001b[0m\u001b[1;32m    647\u001b[0m   \u001b[0;32melif\u001b[0m \u001b[0madapter_cls\u001b[0m \u001b[0;32mis\u001b[0m \u001b[0mdata_adapter\u001b[0m\u001b[0;34m.\u001b[0m\u001b[0mListsOfScalarsDataAdapter\u001b[0m\u001b[0;34m:\u001b[0m\u001b[0;34m\u001b[0m\u001b[0;34m\u001b[0m\u001b[0m\n\u001b[1;32m    648\u001b[0m     \u001b[0mstandardize_function\u001b[0m \u001b[0;34m=\u001b[0m \u001b[0mstandardize\u001b[0m\u001b[0;34m\u001b[0m\u001b[0;34m\u001b[0m\u001b[0m\n",
      "\u001b[0;32m~/anaconda3/envs/U4-S2-NNF-DS10/lib/python3.7/site-packages/tensorflow_core/python/keras/engine/training.py\u001b[0m in \u001b[0;36m_standardize_user_data\u001b[0;34m(self, x, y, sample_weight, class_weight, batch_size, check_steps, steps_name, steps, validation_split, shuffle, extract_tensors_from_dataset)\u001b[0m\n\u001b[1;32m   2381\u001b[0m         \u001b[0mis_dataset\u001b[0m\u001b[0;34m=\u001b[0m\u001b[0mis_dataset\u001b[0m\u001b[0;34m,\u001b[0m\u001b[0;34m\u001b[0m\u001b[0;34m\u001b[0m\u001b[0m\n\u001b[1;32m   2382\u001b[0m         \u001b[0mclass_weight\u001b[0m\u001b[0;34m=\u001b[0m\u001b[0mclass_weight\u001b[0m\u001b[0;34m,\u001b[0m\u001b[0;34m\u001b[0m\u001b[0;34m\u001b[0m\u001b[0m\n\u001b[0;32m-> 2383\u001b[0;31m         batch_size=batch_size)\n\u001b[0m\u001b[1;32m   2384\u001b[0m \u001b[0;34m\u001b[0m\u001b[0m\n\u001b[1;32m   2385\u001b[0m   def _standardize_tensors(self, x, y, sample_weight, run_eagerly, dict_inputs,\n",
      "\u001b[0;32m~/anaconda3/envs/U4-S2-NNF-DS10/lib/python3.7/site-packages/tensorflow_core/python/keras/engine/training.py\u001b[0m in \u001b[0;36m_standardize_tensors\u001b[0;34m(self, x, y, sample_weight, run_eagerly, dict_inputs, is_dataset, class_weight, batch_size)\u001b[0m\n\u001b[1;32m   2487\u001b[0m           \u001b[0;31m# Additional checks to avoid users mistakenly using improper loss fns.\u001b[0m\u001b[0;34m\u001b[0m\u001b[0;34m\u001b[0m\u001b[0;34m\u001b[0m\u001b[0m\n\u001b[1;32m   2488\u001b[0m           training_utils.check_loss_and_target_compatibility(\n\u001b[0;32m-> 2489\u001b[0;31m               y, self._feed_loss_fns, feed_output_shapes)\n\u001b[0m\u001b[1;32m   2490\u001b[0m \u001b[0;34m\u001b[0m\u001b[0m\n\u001b[1;32m   2491\u001b[0m       sample_weights, _, _ = training_utils.handle_partial_sample_weights(\n",
      "\u001b[0;32m~/anaconda3/envs/U4-S2-NNF-DS10/lib/python3.7/site-packages/tensorflow_core/python/keras/engine/training_utils.py\u001b[0m in \u001b[0;36mcheck_loss_and_target_compatibility\u001b[0;34m(targets, loss_fns, output_shapes)\u001b[0m\n\u001b[1;32m    782\u001b[0m         raise ValueError('You are passing a target array of shape ' +\n\u001b[1;32m    783\u001b[0m                          \u001b[0mstr\u001b[0m\u001b[0;34m(\u001b[0m\u001b[0my\u001b[0m\u001b[0;34m.\u001b[0m\u001b[0mshape\u001b[0m\u001b[0;34m)\u001b[0m \u001b[0;34m+\u001b[0m\u001b[0;34m\u001b[0m\u001b[0;34m\u001b[0m\u001b[0m\n\u001b[0;32m--> 784\u001b[0;31m                          \u001b[0;34m' while using as loss `categorical_crossentropy`. '\u001b[0m\u001b[0;34m\u001b[0m\u001b[0;34m\u001b[0m\u001b[0m\n\u001b[0m\u001b[1;32m    785\u001b[0m                          \u001b[0;34m'`categorical_crossentropy` expects '\u001b[0m\u001b[0;34m\u001b[0m\u001b[0;34m\u001b[0m\u001b[0m\n\u001b[1;32m    786\u001b[0m                          \u001b[0;34m'targets to be binary matrices (1s and 0s) '\u001b[0m\u001b[0;34m\u001b[0m\u001b[0;34m\u001b[0m\u001b[0m\n",
      "\u001b[0;31mValueError\u001b[0m: You are passing a target array of shape (60000, 1) while using as loss `categorical_crossentropy`. `categorical_crossentropy` expects targets to be binary matrices (1s and 0s) of shape (samples, classes). If your targets are integer classes, you can convert them to the expected format via:\n```\nfrom keras.utils import to_categorical\ny_binary = to_categorical(y_int)\n```\n\nAlternatively, you can use the loss function `sparse_categorical_crossentropy` instead, which does expect integer targets."
     ]
    }
   ],
   "source": [
    "history = mnist_model.fit(X_train, y_train, batch_size=32, epochs=100, verbose=False)\n",
    "scores = mnist_model.evaluate(X_test, y_test)\n",
    "#print(f'{mnist_model.metrics_names[1]}: {scores[1]*100}')"
   ]
  },
  {
   "cell_type": "markdown",
   "metadata": {
    "colab_type": "text",
    "id": "CKmx8153w9Ci"
   },
   "source": [
    "### Dropout Regularization\n",
    "\n",
    "![Regularization](https://upload.wikimedia.org/wikipedia/commons/thumb/0/02/Regularization.svg/354px-Regularization.svg.png)"
   ]
  },
  {
   "cell_type": "code",
   "execution_count": 42,
   "metadata": {},
   "outputs": [
    {
     "name": "stdout",
     "output_type": "stream",
     "text": [
      "Model: \"sequential_3\"\n",
      "_________________________________________________________________\n",
      "Layer (type)                 Output Shape              Param #   \n",
      "=================================================================\n",
      "dense_15 (Dense)             (None, 32)                25120     \n",
      "_________________________________________________________________\n",
      "dropout (Dropout)            (None, 32)                0         \n",
      "_________________________________________________________________\n",
      "dense_16 (Dense)             (None, 16)                528       \n",
      "_________________________________________________________________\n",
      "dropout_1 (Dropout)          (None, 16)                0         \n",
      "_________________________________________________________________\n",
      "dense_17 (Dense)             (None, 10)                170       \n",
      "=================================================================\n",
      "Total params: 25,818\n",
      "Trainable params: 25,818\n",
      "Non-trainable params: 0\n",
      "_________________________________________________________________\n"
     ]
    }
   ],
   "source": [
    "### Let's do it!\n",
    "from tensorflow import keras \n",
    "from tensorflow.keras.datasets import mnist\n",
    "from tensorflow.keras.models import Sequential\n",
    "from tensorflow.keras.layers import Dense, Dropout\n",
    "\n",
    "import numpy as np\n",
    "\n",
    "mnist_model = Sequential()\n",
    "\n",
    "# Hidden\n",
    "mnist_model.add(Dense(32, input_dim=784, activation='relu'))\n",
    "mnist_model.add(Dropout(0.2))\n",
    "mnist_model.add(Dense(16, activation='relu'))\n",
    "mnist_model.add(Dropout(0.2))\n",
    "# Output Layer\n",
    "mnist_model.add(Dense(10, activation='softmax'))\n",
    "\n",
    "mnist_model.compile(loss='categorical_crossentropy',\n",
    "                    optimizer='adam', \n",
    "                    metrics=['accuracy'])\n",
    "mnist_model.summary()"
   ]
  },
  {
   "cell_type": "code",
   "execution_count": 43,
   "metadata": {},
   "outputs": [
    {
     "ename": "ValueError",
     "evalue": "You are passing a target array of shape (60000, 1) while using as loss `categorical_crossentropy`. `categorical_crossentropy` expects targets to be binary matrices (1s and 0s) of shape (samples, classes). If your targets are integer classes, you can convert them to the expected format via:\n```\nfrom keras.utils import to_categorical\ny_binary = to_categorical(y_int)\n```\n\nAlternatively, you can use the loss function `sparse_categorical_crossentropy` instead, which does expect integer targets.",
     "output_type": "error",
     "traceback": [
      "\u001b[0;31m---------------------------------------------------------------------------\u001b[0m",
      "\u001b[0;31mValueError\u001b[0m                                Traceback (most recent call last)",
      "\u001b[0;32m<ipython-input-43-6fc9a66c1d04>\u001b[0m in \u001b[0;36m<module>\u001b[0;34m\u001b[0m\n\u001b[0;32m----> 1\u001b[0;31m \u001b[0mhistory\u001b[0m \u001b[0;34m=\u001b[0m \u001b[0mmnist_model\u001b[0m\u001b[0;34m.\u001b[0m\u001b[0mfit\u001b[0m\u001b[0;34m(\u001b[0m\u001b[0mX_train\u001b[0m\u001b[0;34m,\u001b[0m \u001b[0my_train\u001b[0m\u001b[0;34m,\u001b[0m \u001b[0mbatch_size\u001b[0m\u001b[0;34m=\u001b[0m\u001b[0;36m32\u001b[0m\u001b[0;34m,\u001b[0m \u001b[0mepochs\u001b[0m\u001b[0;34m=\u001b[0m\u001b[0mepochs\u001b[0m\u001b[0;34m,\u001b[0m \u001b[0mvalidation_split\u001b[0m\u001b[0;34m=\u001b[0m\u001b[0;36m.1\u001b[0m\u001b[0;34m,\u001b[0m \u001b[0mverbose\u001b[0m\u001b[0;34m=\u001b[0m\u001b[0;36m0\u001b[0m\u001b[0;34m)\u001b[0m\u001b[0;34m\u001b[0m\u001b[0;34m\u001b[0m\u001b[0m\n\u001b[0m\u001b[1;32m      2\u001b[0m \u001b[0mscores\u001b[0m \u001b[0;34m=\u001b[0m \u001b[0mmnist_model\u001b[0m\u001b[0;34m.\u001b[0m\u001b[0mevaluate\u001b[0m\u001b[0;34m(\u001b[0m\u001b[0mX_test\u001b[0m\u001b[0;34m,\u001b[0m \u001b[0my_test\u001b[0m\u001b[0;34m)\u001b[0m\u001b[0;34m\u001b[0m\u001b[0;34m\u001b[0m\u001b[0m\n\u001b[1;32m      3\u001b[0m \u001b[0mprint\u001b[0m\u001b[0;34m(\u001b[0m\u001b[0;34mf'{mnist_model.metrics_names[1]}: {scores[1]*100}'\u001b[0m\u001b[0;34m)\u001b[0m\u001b[0;34m\u001b[0m\u001b[0;34m\u001b[0m\u001b[0m\n",
      "\u001b[0;32m~/anaconda3/envs/U4-S2-NNF-DS10/lib/python3.7/site-packages/tensorflow_core/python/keras/engine/training.py\u001b[0m in \u001b[0;36mfit\u001b[0;34m(self, x, y, batch_size, epochs, verbose, callbacks, validation_split, validation_data, shuffle, class_weight, sample_weight, initial_epoch, steps_per_epoch, validation_steps, validation_freq, max_queue_size, workers, use_multiprocessing, **kwargs)\u001b[0m\n\u001b[1;32m    817\u001b[0m         \u001b[0mmax_queue_size\u001b[0m\u001b[0;34m=\u001b[0m\u001b[0mmax_queue_size\u001b[0m\u001b[0;34m,\u001b[0m\u001b[0;34m\u001b[0m\u001b[0;34m\u001b[0m\u001b[0m\n\u001b[1;32m    818\u001b[0m         \u001b[0mworkers\u001b[0m\u001b[0;34m=\u001b[0m\u001b[0mworkers\u001b[0m\u001b[0;34m,\u001b[0m\u001b[0;34m\u001b[0m\u001b[0;34m\u001b[0m\u001b[0m\n\u001b[0;32m--> 819\u001b[0;31m         use_multiprocessing=use_multiprocessing)\n\u001b[0m\u001b[1;32m    820\u001b[0m \u001b[0;34m\u001b[0m\u001b[0m\n\u001b[1;32m    821\u001b[0m   def evaluate(self,\n",
      "\u001b[0;32m~/anaconda3/envs/U4-S2-NNF-DS10/lib/python3.7/site-packages/tensorflow_core/python/keras/engine/training_v2.py\u001b[0m in \u001b[0;36mfit\u001b[0;34m(self, model, x, y, batch_size, epochs, verbose, callbacks, validation_split, validation_data, shuffle, class_weight, sample_weight, initial_epoch, steps_per_epoch, validation_steps, validation_freq, max_queue_size, workers, use_multiprocessing, **kwargs)\u001b[0m\n\u001b[1;32m    233\u001b[0m           \u001b[0mmax_queue_size\u001b[0m\u001b[0;34m=\u001b[0m\u001b[0mmax_queue_size\u001b[0m\u001b[0;34m,\u001b[0m\u001b[0;34m\u001b[0m\u001b[0;34m\u001b[0m\u001b[0m\n\u001b[1;32m    234\u001b[0m           \u001b[0mworkers\u001b[0m\u001b[0;34m=\u001b[0m\u001b[0mworkers\u001b[0m\u001b[0;34m,\u001b[0m\u001b[0;34m\u001b[0m\u001b[0;34m\u001b[0m\u001b[0m\n\u001b[0;32m--> 235\u001b[0;31m           use_multiprocessing=use_multiprocessing)\n\u001b[0m\u001b[1;32m    236\u001b[0m \u001b[0;34m\u001b[0m\u001b[0m\n\u001b[1;32m    237\u001b[0m       \u001b[0mtotal_samples\u001b[0m \u001b[0;34m=\u001b[0m \u001b[0m_get_total_number_of_samples\u001b[0m\u001b[0;34m(\u001b[0m\u001b[0mtraining_data_adapter\u001b[0m\u001b[0;34m)\u001b[0m\u001b[0;34m\u001b[0m\u001b[0;34m\u001b[0m\u001b[0m\n",
      "\u001b[0;32m~/anaconda3/envs/U4-S2-NNF-DS10/lib/python3.7/site-packages/tensorflow_core/python/keras/engine/training_v2.py\u001b[0m in \u001b[0;36m_process_training_inputs\u001b[0;34m(model, x, y, batch_size, epochs, sample_weights, class_weights, steps_per_epoch, validation_split, validation_data, validation_steps, shuffle, distribution_strategy, max_queue_size, workers, use_multiprocessing)\u001b[0m\n\u001b[1;32m    550\u001b[0m         \u001b[0mbatch_size\u001b[0m\u001b[0;34m=\u001b[0m\u001b[0mbatch_size\u001b[0m\u001b[0;34m,\u001b[0m\u001b[0;34m\u001b[0m\u001b[0;34m\u001b[0m\u001b[0m\n\u001b[1;32m    551\u001b[0m         \u001b[0mcheck_steps\u001b[0m\u001b[0;34m=\u001b[0m\u001b[0;32mFalse\u001b[0m\u001b[0;34m,\u001b[0m\u001b[0;34m\u001b[0m\u001b[0;34m\u001b[0m\u001b[0m\n\u001b[0;32m--> 552\u001b[0;31m         steps=steps_per_epoch)\n\u001b[0m\u001b[1;32m    553\u001b[0m     (x, y, sample_weights,\n\u001b[1;32m    554\u001b[0m      \u001b[0mval_x\u001b[0m\u001b[0;34m,\u001b[0m \u001b[0mval_y\u001b[0m\u001b[0;34m,\u001b[0m\u001b[0;34m\u001b[0m\u001b[0;34m\u001b[0m\u001b[0m\n",
      "\u001b[0;32m~/anaconda3/envs/U4-S2-NNF-DS10/lib/python3.7/site-packages/tensorflow_core/python/keras/engine/training.py\u001b[0m in \u001b[0;36m_standardize_user_data\u001b[0;34m(self, x, y, sample_weight, class_weight, batch_size, check_steps, steps_name, steps, validation_split, shuffle, extract_tensors_from_dataset)\u001b[0m\n\u001b[1;32m   2381\u001b[0m         \u001b[0mis_dataset\u001b[0m\u001b[0;34m=\u001b[0m\u001b[0mis_dataset\u001b[0m\u001b[0;34m,\u001b[0m\u001b[0;34m\u001b[0m\u001b[0;34m\u001b[0m\u001b[0m\n\u001b[1;32m   2382\u001b[0m         \u001b[0mclass_weight\u001b[0m\u001b[0;34m=\u001b[0m\u001b[0mclass_weight\u001b[0m\u001b[0;34m,\u001b[0m\u001b[0;34m\u001b[0m\u001b[0;34m\u001b[0m\u001b[0m\n\u001b[0;32m-> 2383\u001b[0;31m         batch_size=batch_size)\n\u001b[0m\u001b[1;32m   2384\u001b[0m \u001b[0;34m\u001b[0m\u001b[0m\n\u001b[1;32m   2385\u001b[0m   def _standardize_tensors(self, x, y, sample_weight, run_eagerly, dict_inputs,\n",
      "\u001b[0;32m~/anaconda3/envs/U4-S2-NNF-DS10/lib/python3.7/site-packages/tensorflow_core/python/keras/engine/training.py\u001b[0m in \u001b[0;36m_standardize_tensors\u001b[0;34m(self, x, y, sample_weight, run_eagerly, dict_inputs, is_dataset, class_weight, batch_size)\u001b[0m\n\u001b[1;32m   2487\u001b[0m           \u001b[0;31m# Additional checks to avoid users mistakenly using improper loss fns.\u001b[0m\u001b[0;34m\u001b[0m\u001b[0;34m\u001b[0m\u001b[0;34m\u001b[0m\u001b[0m\n\u001b[1;32m   2488\u001b[0m           training_utils.check_loss_and_target_compatibility(\n\u001b[0;32m-> 2489\u001b[0;31m               y, self._feed_loss_fns, feed_output_shapes)\n\u001b[0m\u001b[1;32m   2490\u001b[0m \u001b[0;34m\u001b[0m\u001b[0m\n\u001b[1;32m   2491\u001b[0m       sample_weights, _, _ = training_utils.handle_partial_sample_weights(\n",
      "\u001b[0;32m~/anaconda3/envs/U4-S2-NNF-DS10/lib/python3.7/site-packages/tensorflow_core/python/keras/engine/training_utils.py\u001b[0m in \u001b[0;36mcheck_loss_and_target_compatibility\u001b[0;34m(targets, loss_fns, output_shapes)\u001b[0m\n\u001b[1;32m    782\u001b[0m         raise ValueError('You are passing a target array of shape ' +\n\u001b[1;32m    783\u001b[0m                          \u001b[0mstr\u001b[0m\u001b[0;34m(\u001b[0m\u001b[0my\u001b[0m\u001b[0;34m.\u001b[0m\u001b[0mshape\u001b[0m\u001b[0;34m)\u001b[0m \u001b[0;34m+\u001b[0m\u001b[0;34m\u001b[0m\u001b[0;34m\u001b[0m\u001b[0m\n\u001b[0;32m--> 784\u001b[0;31m                          \u001b[0;34m' while using as loss `categorical_crossentropy`. '\u001b[0m\u001b[0;34m\u001b[0m\u001b[0;34m\u001b[0m\u001b[0m\n\u001b[0m\u001b[1;32m    785\u001b[0m                          \u001b[0;34m'`categorical_crossentropy` expects '\u001b[0m\u001b[0;34m\u001b[0m\u001b[0;34m\u001b[0m\u001b[0m\n\u001b[1;32m    786\u001b[0m                          \u001b[0;34m'targets to be binary matrices (1s and 0s) '\u001b[0m\u001b[0;34m\u001b[0m\u001b[0;34m\u001b[0m\u001b[0m\n",
      "\u001b[0;31mValueError\u001b[0m: You are passing a target array of shape (60000, 1) while using as loss `categorical_crossentropy`. `categorical_crossentropy` expects targets to be binary matrices (1s and 0s) of shape (samples, classes). If your targets are integer classes, you can convert them to the expected format via:\n```\nfrom keras.utils import to_categorical\ny_binary = to_categorical(y_int)\n```\n\nAlternatively, you can use the loss function `sparse_categorical_crossentropy` instead, which does expect integer targets."
     ]
    }
   ],
   "source": [
    "history = mnist_model.fit(X_train, y_train, batch_size=32, epochs=epochs, validation_split=.1, verbose=0)\n",
    "scores = mnist_model.evaluate(X_test, y_test)\n",
    "print(f'{mnist_model.metrics_names[1]}: {scores[1]*100}')"
   ]
  },
  {
   "cell_type": "markdown",
   "metadata": {},
   "source": [
    "## Challenge\n",
    "\n",
    "You will apply your choice of activation function inside two Keras Seqeuntial models today. "
   ]
  }
 ],
 "metadata": {
  "colab": {
   "collapsed_sections": [],
   "name": "LS_DS_433_Keras_Lecture.ipynb",
   "provenance": [],
   "version": "0.3.2"
  },
  "kernelspec": {
   "display_name": "U4-S2-NN-1 (Python3)",
   "language": "python",
   "name": "u4-s2-nn-1"
  },
  "language_info": {
   "codemirror_mode": {
    "name": "ipython",
    "version": 3
   },
   "file_extension": ".py",
   "mimetype": "text/x-python",
   "name": "python",
   "nbconvert_exporter": "python",
   "pygments_lexer": "ipython3",
   "version": "3.7.0"
  },
  "toc-autonumbering": false,
  "toc-showmarkdowntxt": false
 },
 "nbformat": 4,
 "nbformat_minor": 4
}
