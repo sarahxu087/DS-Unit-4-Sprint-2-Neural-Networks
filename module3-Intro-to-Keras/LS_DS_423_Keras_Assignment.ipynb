{
 "cells": [
  {
   "cell_type": "markdown",
   "metadata": {
    "colab_type": "text",
    "id": "pBQsZEJmubLs"
   },
   "source": [
    "<img align=\"left\" src=\"https://lever-client-logos.s3.amazonaws.com/864372b1-534c-480e-acd5-9711f850815c-1524247202159.png\" width=200>\n",
    "<br></br>\n",
    "\n",
    "# Neural Network Framework (Keras)\n",
    "\n",
    "## *Data Science Unit 4 Sprint 2 Assignmnet 3*\n",
    "\n",
    "## Use the Keras Library to build a Multi-Layer Perceptron Model on the Boston Housing dataset\n",
    "\n",
    "- The Boston Housing dataset comes with the Keras library so use Keras to import it into your notebook. \n",
    "- Normalize the data (all features should have roughly the same scale)\n",
    "- Import the type of model and layers that you will need from Keras.\n",
    "- Instantiate a model object and use `model.add()` to add layers to your model\n",
    "- Since this is a regression model you will have a single output node in the final layer.\n",
    "- Use activation functions that are appropriate for this task\n",
    "- Compile your model\n",
    "- Fit your model and report its accuracy in terms of Mean Squared Error\n",
    "- Use the history object that is returned from model.fit to make graphs of the model's loss or train/validation accuracies by epoch. \n",
    "- Run this same data through a linear regression model. Which achieves higher accuracy?\n",
    "- Do a little bit of feature engineering and see how that affects your neural network model. (you will need to change your model to accept more inputs)\n",
    "- After feature engineering, which model sees a greater accuracy boost due to the new features?"
   ]
  },
  {
   "cell_type": "code",
   "execution_count": 1,
   "metadata": {
    "colab": {},
    "colab_type": "code",
    "id": "8NLTAR87uYJ-"
   },
   "outputs": [],
   "source": [
    "##### Your Code Here #####\n",
    "from tensorflow import keras\n",
    "from tensorflow.keras.datasets import boston_housing"
   ]
  },
  {
   "cell_type": "code",
   "execution_count": 2,
   "metadata": {},
   "outputs": [],
   "source": [
    "(X_train, y_train), (X_test, y_test) = boston_housing.load_data()"
   ]
  },
  {
   "cell_type": "code",
   "execution_count": 3,
   "metadata": {},
   "outputs": [],
   "source": [
    "from sklearn.preprocessing import Normalizer\n",
    "scaler = Normalizer()\n",
    "X_train_n = scaler.fit_transform(X_train)\n",
    "X_test_n = scaler.transform(X_test)"
   ]
  },
  {
   "cell_type": "code",
   "execution_count": 4,
   "metadata": {},
   "outputs": [
    {
     "data": {
      "text/plain": [
       "(404, 13)"
      ]
     },
     "execution_count": 4,
     "metadata": {},
     "output_type": "execute_result"
    }
   ],
   "source": [
    "X_train_n.shape"
   ]
  },
  {
   "cell_type": "code",
   "execution_count": 5,
   "metadata": {},
   "outputs": [],
   "source": [
    "from tensorflow.keras.models import Sequential\n",
    "from tensorflow.keras.layers import Dense\n"
   ]
  },
  {
   "cell_type": "code",
   "execution_count": 20,
   "metadata": {},
   "outputs": [],
   "source": [
    "model = Sequential()\n",
    "model.add(Dense(6,input_dim=13,activation='relu'))\n",
    "model.add(Dense(6,activation='relu'))\n",
    "model.add(Dense(6,activation='tanh'))\n",
    "model.add(Dense(1,activation='relu'))"
   ]
  },
  {
   "cell_type": "code",
   "execution_count": 21,
   "metadata": {},
   "outputs": [],
   "source": [
    "from tensorflow.keras import metrics"
   ]
  },
  {
   "cell_type": "code",
   "execution_count": 22,
   "metadata": {},
   "outputs": [],
   "source": [
    "model.compile(loss='mean_squared_error',\n",
    "              optimizer='adam',\n",
    "              metrics=['MSE'])"
   ]
  },
  {
   "cell_type": "code",
   "execution_count": 23,
   "metadata": {},
   "outputs": [
    {
     "name": "stdout",
     "output_type": "stream",
     "text": [
      "Train on 363 samples, validate on 41 samples\n",
      "Epoch 1/150\n",
      "363/363 [==============================] - 0s 765us/sample - loss: 591.4944 - MSE: 591.4944 - val_loss: 500.2160 - val_MSE: 500.2160\n",
      "Epoch 2/150\n",
      "363/363 [==============================] - 0s 40us/sample - loss: 587.8283 - MSE: 587.8282 - val_loss: 496.5183 - val_MSE: 496.5183\n",
      "Epoch 3/150\n",
      "363/363 [==============================] - 0s 44us/sample - loss: 583.7386 - MSE: 583.7386 - val_loss: 492.4113 - val_MSE: 492.4113\n",
      "Epoch 4/150\n",
      "363/363 [==============================] - 0s 45us/sample - loss: 579.2714 - MSE: 579.2714 - val_loss: 487.8642 - val_MSE: 487.8642\n",
      "Epoch 5/150\n",
      "363/363 [==============================] - 0s 44us/sample - loss: 574.3710 - MSE: 574.3710 - val_loss: 482.9696 - val_MSE: 482.9696\n",
      "Epoch 6/150\n",
      "363/363 [==============================] - 0s 45us/sample - loss: 569.0775 - MSE: 569.0775 - val_loss: 477.8040 - val_MSE: 477.8040\n",
      "Epoch 7/150\n",
      "363/363 [==============================] - 0s 45us/sample - loss: 563.5937 - MSE: 563.5937 - val_loss: 472.4677 - val_MSE: 472.4677\n",
      "Epoch 8/150\n",
      "363/363 [==============================] - 0s 45us/sample - loss: 557.9253 - MSE: 557.9253 - val_loss: 467.1194 - val_MSE: 467.1194\n",
      "Epoch 9/150\n",
      "363/363 [==============================] - 0s 44us/sample - loss: 552.3542 - MSE: 552.3542 - val_loss: 461.6818 - val_MSE: 461.6818\n",
      "Epoch 10/150\n",
      "363/363 [==============================] - 0s 43us/sample - loss: 546.6836 - MSE: 546.6837 - val_loss: 456.3876 - val_MSE: 456.3877\n",
      "Epoch 11/150\n",
      "363/363 [==============================] - 0s 44us/sample - loss: 541.2464 - MSE: 541.2464 - val_loss: 451.2519 - val_MSE: 451.2519\n",
      "Epoch 12/150\n",
      "363/363 [==============================] - 0s 44us/sample - loss: 535.9326 - MSE: 535.9326 - val_loss: 446.3906 - val_MSE: 446.3906\n",
      "Epoch 13/150\n",
      "363/363 [==============================] - 0s 44us/sample - loss: 530.9003 - MSE: 530.9002 - val_loss: 441.6489 - val_MSE: 441.6489\n",
      "Epoch 14/150\n",
      "363/363 [==============================] - 0s 47us/sample - loss: 526.0022 - MSE: 526.0022 - val_loss: 437.0522 - val_MSE: 437.0522\n",
      "Epoch 15/150\n",
      "363/363 [==============================] - 0s 45us/sample - loss: 521.2339 - MSE: 521.2339 - val_loss: 432.5153 - val_MSE: 432.5153\n",
      "Epoch 16/150\n",
      "363/363 [==============================] - 0s 45us/sample - loss: 516.4742 - MSE: 516.4742 - val_loss: 428.1185 - val_MSE: 428.1185\n",
      "Epoch 17/150\n",
      "363/363 [==============================] - 0s 44us/sample - loss: 511.9188 - MSE: 511.9187 - val_loss: 423.7219 - val_MSE: 423.7219\n",
      "Epoch 18/150\n",
      "363/363 [==============================] - 0s 44us/sample - loss: 507.3270 - MSE: 507.3271 - val_loss: 419.4499 - val_MSE: 419.4499\n",
      "Epoch 19/150\n",
      "363/363 [==============================] - 0s 44us/sample - loss: 502.8440 - MSE: 502.8440 - val_loss: 415.2357 - val_MSE: 415.2357\n",
      "Epoch 20/150\n",
      "363/363 [==============================] - 0s 43us/sample - loss: 498.4996 - MSE: 498.4997 - val_loss: 411.1227 - val_MSE: 411.1227\n",
      "Epoch 21/150\n",
      "363/363 [==============================] - 0s 43us/sample - loss: 494.2321 - MSE: 494.2321 - val_loss: 407.1491 - val_MSE: 407.1491\n",
      "Epoch 22/150\n",
      "363/363 [==============================] - 0s 44us/sample - loss: 490.1143 - MSE: 490.1143 - val_loss: 403.2715 - val_MSE: 403.2715\n",
      "Epoch 23/150\n",
      "363/363 [==============================] - 0s 44us/sample - loss: 486.0842 - MSE: 486.0842 - val_loss: 399.5303 - val_MSE: 399.5303\n",
      "Epoch 24/150\n",
      "363/363 [==============================] - 0s 44us/sample - loss: 482.1861 - MSE: 482.1862 - val_loss: 395.8551 - val_MSE: 395.8551\n",
      "Epoch 25/150\n",
      "363/363 [==============================] - 0s 45us/sample - loss: 478.3246 - MSE: 478.3247 - val_loss: 392.2366 - val_MSE: 392.2366\n",
      "Epoch 26/150\n",
      "363/363 [==============================] - 0s 46us/sample - loss: 474.5441 - MSE: 474.5442 - val_loss: 388.6635 - val_MSE: 388.6635\n",
      "Epoch 27/150\n",
      "363/363 [==============================] - 0s 46us/sample - loss: 470.8432 - MSE: 470.8431 - val_loss: 385.1209 - val_MSE: 385.1209\n",
      "Epoch 28/150\n",
      "363/363 [==============================] - 0s 47us/sample - loss: 467.1316 - MSE: 467.1316 - val_loss: 381.6680 - val_MSE: 381.6680\n",
      "Epoch 29/150\n",
      "363/363 [==============================] - 0s 45us/sample - loss: 463.4923 - MSE: 463.4922 - val_loss: 378.2208 - val_MSE: 378.2208\n",
      "Epoch 30/150\n",
      "363/363 [==============================] - 0s 44us/sample - loss: 459.8954 - MSE: 459.8954 - val_loss: 374.7671 - val_MSE: 374.7671\n",
      "Epoch 31/150\n",
      "363/363 [==============================] - 0s 45us/sample - loss: 456.2974 - MSE: 456.2974 - val_loss: 371.3795 - val_MSE: 371.3795\n",
      "Epoch 32/150\n",
      "363/363 [==============================] - 0s 45us/sample - loss: 452.7197 - MSE: 452.7197 - val_loss: 368.0640 - val_MSE: 368.0640\n",
      "Epoch 33/150\n",
      "363/363 [==============================] - 0s 44us/sample - loss: 449.2341 - MSE: 449.2341 - val_loss: 364.7671 - val_MSE: 364.7671\n",
      "Epoch 34/150\n",
      "363/363 [==============================] - 0s 44us/sample - loss: 445.7693 - MSE: 445.7694 - val_loss: 361.4839 - val_MSE: 361.4839\n",
      "Epoch 35/150\n",
      "363/363 [==============================] - 0s 45us/sample - loss: 442.3241 - MSE: 442.3241 - val_loss: 358.2485 - val_MSE: 358.2485\n",
      "Epoch 36/150\n",
      "363/363 [==============================] - 0s 48us/sample - loss: 438.9245 - MSE: 438.9245 - val_loss: 355.0105 - val_MSE: 355.0105\n",
      "Epoch 37/150\n",
      "363/363 [==============================] - 0s 45us/sample - loss: 435.5331 - MSE: 435.5331 - val_loss: 351.8597 - val_MSE: 351.8596\n",
      "Epoch 38/150\n",
      "363/363 [==============================] - 0s 43us/sample - loss: 432.1913 - MSE: 432.1913 - val_loss: 348.7311 - val_MSE: 348.7311\n",
      "Epoch 39/150\n",
      "363/363 [==============================] - 0s 45us/sample - loss: 428.9021 - MSE: 428.9021 - val_loss: 345.6121 - val_MSE: 345.6121\n",
      "Epoch 40/150\n",
      "363/363 [==============================] - 0s 44us/sample - loss: 425.6788 - MSE: 425.6788 - val_loss: 342.5545 - val_MSE: 342.5545\n",
      "Epoch 41/150\n",
      "363/363 [==============================] - 0s 44us/sample - loss: 422.4493 - MSE: 422.4492 - val_loss: 339.5028 - val_MSE: 339.5028\n",
      "Epoch 42/150\n",
      "363/363 [==============================] - 0s 45us/sample - loss: 419.2326 - MSE: 419.2326 - val_loss: 336.4995 - val_MSE: 336.4995\n",
      "Epoch 43/150\n",
      "363/363 [==============================] - 0s 44us/sample - loss: 416.0790 - MSE: 416.0790 - val_loss: 333.5369 - val_MSE: 333.5369\n",
      "Epoch 44/150\n",
      "363/363 [==============================] - 0s 45us/sample - loss: 412.9647 - MSE: 412.9648 - val_loss: 330.6220 - val_MSE: 330.6220\n",
      "Epoch 45/150\n",
      "363/363 [==============================] - 0s 46us/sample - loss: 409.8913 - MSE: 409.8913 - val_loss: 327.7300 - val_MSE: 327.7300\n",
      "Epoch 46/150\n",
      "363/363 [==============================] - 0s 44us/sample - loss: 406.8653 - MSE: 406.8653 - val_loss: 324.8636 - val_MSE: 324.8636\n",
      "Epoch 47/150\n",
      "363/363 [==============================] - 0s 44us/sample - loss: 403.8429 - MSE: 403.8429 - val_loss: 322.0332 - val_MSE: 322.0332\n",
      "Epoch 48/150\n",
      "363/363 [==============================] - 0s 43us/sample - loss: 400.8458 - MSE: 400.8459 - val_loss: 319.2553 - val_MSE: 319.2552\n",
      "Epoch 49/150\n",
      "363/363 [==============================] - 0s 45us/sample - loss: 397.9128 - MSE: 397.9128 - val_loss: 316.4625 - val_MSE: 316.4625\n",
      "Epoch 50/150\n",
      "363/363 [==============================] - 0s 47us/sample - loss: 394.9924 - MSE: 394.9924 - val_loss: 313.7062 - val_MSE: 313.7062\n",
      "Epoch 51/150\n",
      "363/363 [==============================] - 0s 44us/sample - loss: 392.0770 - MSE: 392.0770 - val_loss: 310.9794 - val_MSE: 310.9794\n",
      "Epoch 52/150\n",
      "363/363 [==============================] - 0s 44us/sample - loss: 389.2034 - MSE: 389.2033 - val_loss: 308.2896 - val_MSE: 308.2896\n",
      "Epoch 53/150\n",
      "363/363 [==============================] - 0s 44us/sample - loss: 386.3460 - MSE: 386.3460 - val_loss: 305.6034 - val_MSE: 305.6034\n",
      "Epoch 54/150\n",
      "363/363 [==============================] - 0s 45us/sample - loss: 383.5202 - MSE: 383.5202 - val_loss: 302.9402 - val_MSE: 302.9402\n",
      "Epoch 55/150\n",
      "363/363 [==============================] - 0s 44us/sample - loss: 380.7493 - MSE: 380.7494 - val_loss: 300.3322 - val_MSE: 300.3322\n",
      "Epoch 56/150\n",
      "363/363 [==============================] - 0s 43us/sample - loss: 377.9686 - MSE: 377.9686 - val_loss: 297.7830 - val_MSE: 297.7831\n",
      "Epoch 57/150\n",
      "363/363 [==============================] - 0s 44us/sample - loss: 375.2579 - MSE: 375.2580 - val_loss: 295.2010 - val_MSE: 295.2010\n",
      "Epoch 58/150\n",
      "363/363 [==============================] - 0s 46us/sample - loss: 372.5423 - MSE: 372.5423 - val_loss: 292.6560 - val_MSE: 292.6560\n",
      "Epoch 59/150\n",
      "363/363 [==============================] - 0s 41us/sample - loss: 369.8219 - MSE: 369.8220 - val_loss: 290.1519 - val_MSE: 290.1519\n",
      "Epoch 60/150\n",
      "363/363 [==============================] - 0s 44us/sample - loss: 367.1718 - MSE: 367.1718 - val_loss: 287.6182 - val_MSE: 287.6182\n",
      "Epoch 61/150\n",
      "363/363 [==============================] - 0s 46us/sample - loss: 364.5035 - MSE: 364.5035 - val_loss: 285.1516 - val_MSE: 285.1516\n",
      "Epoch 62/150\n",
      "363/363 [==============================] - 0s 46us/sample - loss: 361.9018 - MSE: 361.9018 - val_loss: 282.6829 - val_MSE: 282.6829\n",
      "Epoch 63/150\n",
      "363/363 [==============================] - 0s 45us/sample - loss: 359.2781 - MSE: 359.2781 - val_loss: 280.2517 - val_MSE: 280.2517\n",
      "Epoch 64/150\n",
      "363/363 [==============================] - 0s 44us/sample - loss: 356.7323 - MSE: 356.7322 - val_loss: 277.8217 - val_MSE: 277.8217\n",
      "Epoch 65/150\n",
      "363/363 [==============================] - 0s 43us/sample - loss: 354.1467 - MSE: 354.1467 - val_loss: 275.4867 - val_MSE: 275.4867\n",
      "Epoch 66/150\n",
      "363/363 [==============================] - 0s 45us/sample - loss: 351.6581 - MSE: 351.6581 - val_loss: 273.1196 - val_MSE: 273.1196\n",
      "Epoch 67/150\n",
      "363/363 [==============================] - 0s 46us/sample - loss: 349.1289 - MSE: 349.1289 - val_loss: 270.7661 - val_MSE: 270.7661\n",
      "Epoch 68/150\n",
      "363/363 [==============================] - 0s 45us/sample - loss: 346.6278 - MSE: 346.6278 - val_loss: 268.4309 - val_MSE: 268.4309\n",
      "Epoch 69/150\n",
      "363/363 [==============================] - 0s 44us/sample - loss: 344.1591 - MSE: 344.1591 - val_loss: 266.1143 - val_MSE: 266.1143\n",
      "Epoch 70/150\n",
      "363/363 [==============================] - 0s 45us/sample - loss: 341.7326 - MSE: 341.7326 - val_loss: 263.8062 - val_MSE: 263.8062\n",
      "Epoch 71/150\n",
      "363/363 [==============================] - 0s 44us/sample - loss: 339.3027 - MSE: 339.3026 - val_loss: 261.5441 - val_MSE: 261.5441\n",
      "Epoch 72/150\n",
      "363/363 [==============================] - 0s 44us/sample - loss: 336.8749 - MSE: 336.8749 - val_loss: 259.3083 - val_MSE: 259.3083\n",
      "Epoch 73/150\n",
      "363/363 [==============================] - 0s 44us/sample - loss: 334.4641 - MSE: 334.4641 - val_loss: 257.0831 - val_MSE: 257.0831\n",
      "Epoch 74/150\n",
      "363/363 [==============================] - 0s 45us/sample - loss: 332.1209 - MSE: 332.1209 - val_loss: 254.8209 - val_MSE: 254.8209\n",
      "Epoch 75/150\n",
      "363/363 [==============================] - 0s 45us/sample - loss: 329.7146 - MSE: 329.7146 - val_loss: 252.6364 - val_MSE: 252.6364\n",
      "Epoch 76/150\n",
      "363/363 [==============================] - 0s 44us/sample - loss: 327.4088 - MSE: 327.4088 - val_loss: 250.4394 - val_MSE: 250.4394\n",
      "Epoch 77/150\n",
      "363/363 [==============================] - 0s 44us/sample - loss: 325.0660 - MSE: 325.0660 - val_loss: 248.3026 - val_MSE: 248.3026\n",
      "Epoch 78/150\n",
      "363/363 [==============================] - 0s 44us/sample - loss: 322.7520 - MSE: 322.7520 - val_loss: 246.1670 - val_MSE: 246.1670\n",
      "Epoch 79/150\n",
      "363/363 [==============================] - 0s 44us/sample - loss: 320.4858 - MSE: 320.4858 - val_loss: 243.9684 - val_MSE: 243.9684\n",
      "Epoch 80/150\n",
      "363/363 [==============================] - 0s 44us/sample - loss: 318.1542 - MSE: 318.1542 - val_loss: 241.8208 - val_MSE: 241.8208\n",
      "Epoch 81/150\n",
      "363/363 [==============================] - 0s 45us/sample - loss: 315.8768 - MSE: 315.8769 - val_loss: 239.7089 - val_MSE: 239.7089\n",
      "Epoch 82/150\n",
      "363/363 [==============================] - 0s 45us/sample - loss: 313.6425 - MSE: 313.6425 - val_loss: 237.6015 - val_MSE: 237.6015\n",
      "Epoch 83/150\n",
      "363/363 [==============================] - 0s 45us/sample - loss: 311.3869 - MSE: 311.3869 - val_loss: 235.5699 - val_MSE: 235.5699\n",
      "Epoch 84/150\n",
      "363/363 [==============================] - 0s 45us/sample - loss: 309.2145 - MSE: 309.2145 - val_loss: 233.4713 - val_MSE: 233.4713\n",
      "Epoch 85/150\n",
      "363/363 [==============================] - 0s 47us/sample - loss: 307.0032 - MSE: 307.0032 - val_loss: 231.4372 - val_MSE: 231.4372\n",
      "Epoch 86/150\n",
      "363/363 [==============================] - 0s 43us/sample - loss: 304.8445 - MSE: 304.8445 - val_loss: 229.4545 - val_MSE: 229.4545\n",
      "Epoch 87/150\n",
      "363/363 [==============================] - 0s 44us/sample - loss: 302.7265 - MSE: 302.7264 - val_loss: 227.4745 - val_MSE: 227.4745\n",
      "Epoch 88/150\n",
      "363/363 [==============================] - 0s 44us/sample - loss: 300.5954 - MSE: 300.5954 - val_loss: 225.5071 - val_MSE: 225.5071\n",
      "Epoch 89/150\n",
      "363/363 [==============================] - 0s 44us/sample - loss: 298.4903 - MSE: 298.4903 - val_loss: 223.5364 - val_MSE: 223.5364\n",
      "Epoch 90/150\n",
      "363/363 [==============================] - 0s 44us/sample - loss: 296.3779 - MSE: 296.3778 - val_loss: 221.5996 - val_MSE: 221.5996\n",
      "Epoch 91/150\n",
      "363/363 [==============================] - 0s 45us/sample - loss: 294.3047 - MSE: 294.3047 - val_loss: 219.6637 - val_MSE: 219.6637\n",
      "Epoch 92/150\n",
      "363/363 [==============================] - 0s 44us/sample - loss: 292.2264 - MSE: 292.2264 - val_loss: 217.7430 - val_MSE: 217.7430\n",
      "Epoch 93/150\n",
      "363/363 [==============================] - 0s 44us/sample - loss: 290.1536 - MSE: 290.1536 - val_loss: 215.8177 - val_MSE: 215.8177\n",
      "Epoch 94/150\n",
      "363/363 [==============================] - 0s 45us/sample - loss: 288.1252 - MSE: 288.1252 - val_loss: 213.9228 - val_MSE: 213.9229\n",
      "Epoch 95/150\n",
      "363/363 [==============================] - 0s 45us/sample - loss: 286.1037 - MSE: 286.1036 - val_loss: 212.0548 - val_MSE: 212.0548\n",
      "Epoch 96/150\n",
      "363/363 [==============================] - 0s 44us/sample - loss: 284.0885 - MSE: 284.0885 - val_loss: 210.2150 - val_MSE: 210.2150\n",
      "Epoch 97/150\n",
      "363/363 [==============================] - 0s 44us/sample - loss: 282.1005 - MSE: 282.1005 - val_loss: 208.3583 - val_MSE: 208.3583\n",
      "Epoch 98/150\n",
      "363/363 [==============================] - 0s 45us/sample - loss: 280.1253 - MSE: 280.1253 - val_loss: 206.5204 - val_MSE: 206.5204\n",
      "Epoch 99/150\n",
      "363/363 [==============================] - 0s 46us/sample - loss: 278.1589 - MSE: 278.1589 - val_loss: 204.6993 - val_MSE: 204.6993\n",
      "Epoch 100/150\n",
      "363/363 [==============================] - 0s 45us/sample - loss: 276.2059 - MSE: 276.2059 - val_loss: 202.9151 - val_MSE: 202.9151\n",
      "Epoch 101/150\n",
      "363/363 [==============================] - 0s 45us/sample - loss: 274.2863 - MSE: 274.2863 - val_loss: 201.1272 - val_MSE: 201.1272\n",
      "Epoch 102/150\n",
      "363/363 [==============================] - 0s 44us/sample - loss: 272.3457 - MSE: 272.3457 - val_loss: 199.3303 - val_MSE: 199.3303\n",
      "Epoch 103/150\n",
      "363/363 [==============================] - 0s 45us/sample - loss: 270.4264 - MSE: 270.4264 - val_loss: 197.5631 - val_MSE: 197.5631\n",
      "Epoch 104/150\n",
      "363/363 [==============================] - 0s 43us/sample - loss: 268.5517 - MSE: 268.5517 - val_loss: 195.8047 - val_MSE: 195.8047\n",
      "Epoch 105/150\n",
      "363/363 [==============================] - 0s 46us/sample - loss: 266.6575 - MSE: 266.6574 - val_loss: 194.1175 - val_MSE: 194.1174\n",
      "Epoch 106/150\n",
      "363/363 [==============================] - 0s 44us/sample - loss: 264.8264 - MSE: 264.8264 - val_loss: 192.4222 - val_MSE: 192.4222\n",
      "Epoch 107/150\n",
      "363/363 [==============================] - 0s 45us/sample - loss: 263.0134 - MSE: 263.0134 - val_loss: 190.7272 - val_MSE: 190.7272\n",
      "Epoch 108/150\n",
      "363/363 [==============================] - 0s 45us/sample - loss: 261.1743 - MSE: 261.1743 - val_loss: 189.0487 - val_MSE: 189.0487\n",
      "Epoch 109/150\n",
      "363/363 [==============================] - 0s 44us/sample - loss: 259.3944 - MSE: 259.3944 - val_loss: 187.3720 - val_MSE: 187.3719\n",
      "Epoch 110/150\n",
      "363/363 [==============================] - 0s 45us/sample - loss: 257.5791 - MSE: 257.5791 - val_loss: 185.7487 - val_MSE: 185.7487\n",
      "Epoch 111/150\n",
      "363/363 [==============================] - 0s 45us/sample - loss: 255.8342 - MSE: 255.8342 - val_loss: 184.1081 - val_MSE: 184.1080\n",
      "Epoch 112/150\n",
      "363/363 [==============================] - 0s 44us/sample - loss: 254.0616 - MSE: 254.0616 - val_loss: 182.5054 - val_MSE: 182.5054\n",
      "Epoch 113/150\n",
      "363/363 [==============================] - 0s 44us/sample - loss: 252.3104 - MSE: 252.3104 - val_loss: 180.8922 - val_MSE: 180.8922\n",
      "Epoch 114/150\n",
      "363/363 [==============================] - 0s 45us/sample - loss: 250.5626 - MSE: 250.5626 - val_loss: 179.2857 - val_MSE: 179.2858\n",
      "Epoch 115/150\n",
      "363/363 [==============================] - 0s 45us/sample - loss: 248.8415 - MSE: 248.8414 - val_loss: 177.6529 - val_MSE: 177.6529\n",
      "Epoch 116/150\n",
      "363/363 [==============================] - 0s 43us/sample - loss: 247.1020 - MSE: 247.1021 - val_loss: 176.0693 - val_MSE: 176.0693\n",
      "Epoch 117/150\n",
      "363/363 [==============================] - 0s 42us/sample - loss: 245.3930 - MSE: 245.3930 - val_loss: 174.5271 - val_MSE: 174.5271\n",
      "Epoch 118/150\n",
      "363/363 [==============================] - 0s 43us/sample - loss: 243.7432 - MSE: 243.7432 - val_loss: 172.9856 - val_MSE: 172.9856\n",
      "Epoch 119/150\n",
      "363/363 [==============================] - 0s 45us/sample - loss: 242.0817 - MSE: 242.0816 - val_loss: 171.4890 - val_MSE: 171.4890\n",
      "Epoch 120/150\n",
      "363/363 [==============================] - 0s 44us/sample - loss: 240.4672 - MSE: 240.4672 - val_loss: 170.0004 - val_MSE: 170.0004\n",
      "Epoch 121/150\n",
      "363/363 [==============================] - 0s 54us/sample - loss: 238.8147 - MSE: 238.8147 - val_loss: 168.5387 - val_MSE: 168.5387\n",
      "Epoch 122/150\n",
      "363/363 [==============================] - 0s 45us/sample - loss: 237.2006 - MSE: 237.2006 - val_loss: 167.0256 - val_MSE: 167.0256\n",
      "Epoch 123/150\n",
      "363/363 [==============================] - 0s 49us/sample - loss: 235.5705 - MSE: 235.5705 - val_loss: 165.5185 - val_MSE: 165.5185\n",
      "Epoch 124/150\n",
      "363/363 [==============================] - 0s 50us/sample - loss: 233.9381 - MSE: 233.9381 - val_loss: 164.0201 - val_MSE: 164.0201\n",
      "Epoch 125/150\n",
      "363/363 [==============================] - 0s 48us/sample - loss: 232.3366 - MSE: 232.3367 - val_loss: 162.5730 - val_MSE: 162.5730\n",
      "Epoch 126/150\n",
      "363/363 [==============================] - 0s 43us/sample - loss: 230.7757 - MSE: 230.7757 - val_loss: 161.1488 - val_MSE: 161.1488\n",
      "Epoch 127/150\n",
      "363/363 [==============================] - 0s 46us/sample - loss: 229.2023 - MSE: 229.2023 - val_loss: 159.7666 - val_MSE: 159.7666\n",
      "Epoch 128/150\n",
      "363/363 [==============================] - 0s 44us/sample - loss: 227.7017 - MSE: 227.7017 - val_loss: 158.3219 - val_MSE: 158.3219\n",
      "Epoch 129/150\n",
      "363/363 [==============================] - 0s 46us/sample - loss: 226.1393 - MSE: 226.1393 - val_loss: 156.9033 - val_MSE: 156.9033\n",
      "Epoch 130/150\n",
      "363/363 [==============================] - 0s 46us/sample - loss: 224.5945 - MSE: 224.5945 - val_loss: 155.5303 - val_MSE: 155.5303\n",
      "Epoch 131/150\n",
      "363/363 [==============================] - 0s 43us/sample - loss: 223.0970 - MSE: 223.0970 - val_loss: 154.1251 - val_MSE: 154.1251\n",
      "Epoch 132/150\n",
      "363/363 [==============================] - 0s 42us/sample - loss: 221.6003 - MSE: 221.6003 - val_loss: 152.7680 - val_MSE: 152.7680\n",
      "Epoch 133/150\n",
      "363/363 [==============================] - 0s 46us/sample - loss: 220.1324 - MSE: 220.1324 - val_loss: 151.4322 - val_MSE: 151.4322\n",
      "Epoch 134/150\n",
      "363/363 [==============================] - 0s 46us/sample - loss: 218.6650 - MSE: 218.6650 - val_loss: 150.1173 - val_MSE: 150.1173\n",
      "Epoch 135/150\n",
      "363/363 [==============================] - 0s 43us/sample - loss: 217.2251 - MSE: 217.2251 - val_loss: 148.7713 - val_MSE: 148.7713\n",
      "Epoch 136/150\n",
      "363/363 [==============================] - 0s 46us/sample - loss: 215.7556 - MSE: 215.7556 - val_loss: 147.4933 - val_MSE: 147.4933\n",
      "Epoch 137/150\n",
      "363/363 [==============================] - 0s 44us/sample - loss: 214.3571 - MSE: 214.3571 - val_loss: 146.1967 - val_MSE: 146.1967\n",
      "Epoch 138/150\n",
      "363/363 [==============================] - 0s 47us/sample - loss: 212.9662 - MSE: 212.9662 - val_loss: 144.8826 - val_MSE: 144.8826\n",
      "Epoch 139/150\n",
      "363/363 [==============================] - 0s 45us/sample - loss: 211.5255 - MSE: 211.5255 - val_loss: 143.6329 - val_MSE: 143.6329\n",
      "Epoch 140/150\n",
      "363/363 [==============================] - 0s 46us/sample - loss: 210.1383 - MSE: 210.1383 - val_loss: 142.3604 - val_MSE: 142.3604\n",
      "Epoch 141/150\n",
      "363/363 [==============================] - 0s 46us/sample - loss: 208.7457 - MSE: 208.7457 - val_loss: 141.1005 - val_MSE: 141.1005\n",
      "Epoch 142/150\n",
      "363/363 [==============================] - 0s 46us/sample - loss: 207.3569 - MSE: 207.3569 - val_loss: 139.8565 - val_MSE: 139.8565\n",
      "Epoch 143/150\n",
      "363/363 [==============================] - 0s 47us/sample - loss: 205.9914 - MSE: 205.9914 - val_loss: 138.6082 - val_MSE: 138.6082\n",
      "Epoch 144/150\n",
      "363/363 [==============================] - 0s 45us/sample - loss: 204.6405 - MSE: 204.6405 - val_loss: 137.3779 - val_MSE: 137.3779\n",
      "Epoch 145/150\n",
      "363/363 [==============================] - 0s 44us/sample - loss: 203.2984 - MSE: 203.2984 - val_loss: 136.1594 - val_MSE: 136.1594\n",
      "Epoch 146/150\n",
      "363/363 [==============================] - 0s 43us/sample - loss: 201.9687 - MSE: 201.9688 - val_loss: 134.9611 - val_MSE: 134.9611\n",
      "Epoch 147/150\n",
      "363/363 [==============================] - 0s 42us/sample - loss: 200.6153 - MSE: 200.6152 - val_loss: 133.7817 - val_MSE: 133.7817\n",
      "Epoch 148/150\n",
      "363/363 [==============================] - 0s 44us/sample - loss: 199.3070 - MSE: 199.3070 - val_loss: 132.5748 - val_MSE: 132.5748\n",
      "Epoch 149/150\n",
      "363/363 [==============================] - 0s 45us/sample - loss: 198.0142 - MSE: 198.0142 - val_loss: 131.3659 - val_MSE: 131.3659\n",
      "Epoch 150/150\n",
      "363/363 [==============================] - 0s 45us/sample - loss: 196.6854 - MSE: 196.6854 - val_loss: 130.1829 - val_MSE: 130.1829\n"
     ]
    }
   ],
   "source": [
    "history= model.fit(X_train_n,y_train,epochs=150,validation_split=.10)"
   ]
  },
  {
   "cell_type": "code",
   "execution_count": 24,
   "metadata": {},
   "outputs": [
    {
     "data": {
      "image/png": "[encoded data removed]",
      "text/plain": [
       "<Figure size 432x288 with 1 Axes>"
      ]
     },
     "metadata": {
      "needs_background": "light"
     },
     "output_type": "display_data"
    }
   ],
   "source": [
    "import matplotlib.pyplot as plt\n",
    "plt.plot(history.history['loss'])\n",
    "plt.xlabel('epoch')\n",
    "plt.ylabel('loss')\n",
    "plt.show()"
   ]
  },
  {
   "cell_type": "code",
   "execution_count": 11,
   "metadata": {},
   "outputs": [
    {
     "data": {
      "text/plain": [
       "570.7044684177515"
      ]
     },
     "execution_count": 11,
     "metadata": {},
     "output_type": "execute_result"
    }
   ],
   "source": [
    "from sklearn.linear_model import LinearRegression\n",
    "from sklearn.metrics import mean_squared_error\n",
    "model2=LinearRegression()\n",
    "model2.fit(X_train_n,y_train)\n",
    "mean_squared_error(y_test,model.predict(X_test_n))"
   ]
  },
  {
   "cell_type": "code",
   "execution_count": 36,
   "metadata": {},
   "outputs": [
    {
     "name": "stdout",
     "output_type": "stream",
     "text": [
      "((array([[1.23247e+00, 0.00000e+00, 8.14000e+00, ..., 2.10000e+01,\n",
      "        3.96900e+02, 1.87200e+01],\n",
      "       [2.17700e-02, 8.25000e+01, 2.03000e+00, ..., 1.47000e+01,\n",
      "        3.95380e+02, 3.11000e+00],\n",
      "       [4.89822e+00, 0.00000e+00, 1.81000e+01, ..., 2.02000e+01,\n",
      "        3.75520e+02, 3.26000e+00],\n",
      "       ...,\n",
      "       [3.46600e-02, 3.50000e+01, 6.06000e+00, ..., 1.69000e+01,\n",
      "        3.62250e+02, 7.83000e+00],\n",
      "       [2.14918e+00, 0.00000e+00, 1.95800e+01, ..., 1.47000e+01,\n",
      "        2.61950e+02, 1.57900e+01],\n",
      "       [1.43900e-02, 6.00000e+01, 2.93000e+00, ..., 1.56000e+01,\n",
      "        3.76700e+02, 4.38000e+00]]), array([15.2, 42.3, 50. , 21.1, 17.7, 18.5, 11.3, 15.6, 15.6, 14.4, 12.1,\n",
      "       17.9, 23.1, 19.9, 15.7,  8.8, 50. , 22.5, 24.1, 27.5, 10.9, 30.8,\n",
      "       32.9, 24. , 18.5, 13.3, 22.9, 34.7, 16.6, 17.5, 22.3, 16.1, 14.9,\n",
      "       23.1, 34.9, 25. , 13.9, 13.1, 20.4, 20. , 15.2, 24.7, 22.2, 16.7,\n",
      "       12.7, 15.6, 18.4, 21. , 30.1, 15.1, 18.7,  9.6, 31.5, 24.8, 19.1,\n",
      "       22. , 14.5, 11. , 32. , 29.4, 20.3, 24.4, 14.6, 19.5, 14.1, 14.3,\n",
      "       15.6, 10.5,  6.3, 19.3, 19.3, 13.4, 36.4, 17.8, 13.5, 16.5,  8.3,\n",
      "       14.3, 16. , 13.4, 28.6, 43.5, 20.2, 22. , 23. , 20.7, 12.5, 48.5,\n",
      "       14.6, 13.4, 23.7, 50. , 21.7, 39.8, 38.7, 22.2, 34.9, 22.5, 31.1,\n",
      "       28.7, 46. , 41.7, 21. , 26.6, 15. , 24.4, 13.3, 21.2, 11.7, 21.7,\n",
      "       19.4, 50. , 22.8, 19.7, 24.7, 36.2, 14.2, 18.9, 18.3, 20.6, 24.6,\n",
      "       18.2,  8.7, 44. , 10.4, 13.2, 21.2, 37. , 30.7, 22.9, 20. , 19.3,\n",
      "       31.7, 32. , 23.1, 18.8, 10.9, 50. , 19.6,  5. , 14.4, 19.8, 13.8,\n",
      "       19.6, 23.9, 24.5, 25. , 19.9, 17.2, 24.6, 13.5, 26.6, 21.4, 11.9,\n",
      "       22.6, 19.6,  8.5, 23.7, 23.1, 22.4, 20.5, 23.6, 18.4, 35.2, 23.1,\n",
      "       27.9, 20.6, 23.7, 28. , 13.6, 27.1, 23.6, 20.6, 18.2, 21.7, 17.1,\n",
      "        8.4, 25.3, 13.8, 22.2, 18.4, 20.7, 31.6, 30.5, 20.3,  8.8, 19.2,\n",
      "       19.4, 23.1, 23. , 14.8, 48.8, 22.6, 33.4, 21.1, 13.6, 32.2, 13.1,\n",
      "       23.4, 18.9, 23.9, 11.8, 23.3, 22.8, 19.6, 16.7, 13.4, 22.2, 20.4,\n",
      "       21.8, 26.4, 14.9, 24.1, 23.8, 12.3, 29.1, 21. , 19.5, 23.3, 23.8,\n",
      "       17.8, 11.5, 21.7, 19.9, 25. , 33.4, 28.5, 21.4, 24.3, 27.5, 33.1,\n",
      "       16.2, 23.3, 48.3, 22.9, 22.8, 13.1, 12.7, 22.6, 15. , 15.3, 10.5,\n",
      "       24. , 18.5, 21.7, 19.5, 33.2, 23.2,  5. , 19.1, 12.7, 22.3, 10.2,\n",
      "       13.9, 16.3, 17. , 20.1, 29.9, 17.2, 37.3, 45.4, 17.8, 23.2, 29. ,\n",
      "       22. , 18. , 17.4, 34.6, 20.1, 25. , 15.6, 24.8, 28.2, 21.2, 21.4,\n",
      "       23.8, 31. , 26.2, 17.4, 37.9, 17.5, 20. ,  8.3, 23.9,  8.4, 13.8,\n",
      "        7.2, 11.7, 17.1, 21.6, 50. , 16.1, 20.4, 20.6, 21.4, 20.6, 36.5,\n",
      "        8.5, 24.8, 10.8, 21.9, 17.3, 18.9, 36.2, 14.9, 18.2, 33.3, 21.8,\n",
      "       19.7, 31.6, 24.8, 19.4, 22.8,  7.5, 44.8, 16.8, 18.7, 50. , 50. ,\n",
      "       19.5, 20.1, 50. , 17.2, 20.8, 19.3, 41.3, 20.4, 20.5, 13.8, 16.5,\n",
      "       23.9, 20.6, 31.5, 23.3, 16.8, 14. , 33.8, 36.1, 12.8, 18.3, 18.7,\n",
      "       19.1, 29. , 30.1, 50. , 50. , 22. , 11.9, 37.6, 50. , 22.7, 20.8,\n",
      "       23.5, 27.9, 50. , 19.3, 23.9, 22.6, 15.2, 21.7, 19.2, 43.8, 20.3,\n",
      "       33.2, 19.9, 22.5, 32.7, 22. , 17.1, 19. , 15. , 16.1, 25.1, 23.7,\n",
      "       28.7, 37.2, 22.6, 16.4, 25. , 29.8, 22.1, 17.4, 18.1, 30.3, 17.5,\n",
      "       24.7, 12.6, 26.5, 28.7, 13.3, 10.4, 24.4, 23. , 20. , 17.8,  7. ,\n",
      "       11.8, 24.4, 13.8, 19.4, 25.2, 19.4, 19.4, 29.1])), (array([[1.80846e+01, 0.00000e+00, 1.81000e+01, ..., 2.02000e+01,\n",
      "        2.72500e+01, 2.90500e+01],\n",
      "       [1.23290e-01, 0.00000e+00, 1.00100e+01, ..., 1.78000e+01,\n",
      "        3.94950e+02, 1.62100e+01],\n",
      "       [5.49700e-02, 0.00000e+00, 5.19000e+00, ..., 2.02000e+01,\n",
      "        3.96900e+02, 9.74000e+00],\n",
      "       ...,\n",
      "       [1.83377e+00, 0.00000e+00, 1.95800e+01, ..., 1.47000e+01,\n",
      "        3.89610e+02, 1.92000e+00],\n",
      "       [3.58090e-01, 0.00000e+00, 6.20000e+00, ..., 1.74000e+01,\n",
      "        3.91700e+02, 9.71000e+00],\n",
      "       [2.92400e+00, 0.00000e+00, 1.95800e+01, ..., 1.47000e+01,\n",
      "        2.40160e+02, 9.81000e+00]]), array([ 7.2, 18.8, 19. , 27. , 22.2, 24.5, 31.2, 22.9, 20.5, 23.2, 18.6,\n",
      "       14.5, 17.8, 50. , 20.8, 24.3, 24.2, 19.8, 19.1, 22.7, 12. , 10.2,\n",
      "       20. , 18.5, 20.9, 23. , 27.5, 30.1,  9.5, 22. , 21.2, 14.1, 33.1,\n",
      "       23.4, 20.1,  7.4, 15.4, 23.8, 20.1, 24.5, 33. , 28.4, 14.1, 46.7,\n",
      "       32.5, 29.6, 28.4, 19.8, 20.2, 25. , 35.4, 20.3,  9.7, 14.5, 34.9,\n",
      "       26.6,  7.2, 50. , 32.4, 21.6, 29.8, 13.1, 27.5, 21.2, 23.1, 21.9,\n",
      "       13. , 23.2,  8.1,  5.6, 21.7, 29.6, 19.6,  7. , 26.4, 18.9, 20.9,\n",
      "       28.1, 35.4, 10.2, 24.3, 43.1, 17.6, 15.4, 16.2, 27.1, 21.4, 21.5,\n",
      "       22.4, 25. , 16.6, 18.6, 22. , 42.8, 35.1, 21.5, 36. , 21.9, 24.1,\n",
      "       50. , 26.7, 25. ])))\n"
     ]
    }
   ],
   "source": [
    "data = boston_housing.load_data()\n"
   ]
  },
  {
   "cell_type": "code",
   "execution_count": 46,
   "metadata": {},
   "outputs": [],
   "source": [
    "import pandas as pd"
   ]
  },
  {
   "cell_type": "code",
   "execution_count": 65,
   "metadata": {},
   "outputs": [
    {
     "data": {
      "text/html": [
       "<div>\n",
       "<style scoped>\n",
       "    .dataframe tbody tr th:only-of-type {\n",
       "        vertical-align: middle;\n",
       "    }\n",
       "\n",
       "    .dataframe tbody tr th {\n",
       "        vertical-align: top;\n",
       "    }\n",
       "\n",
       "    .dataframe thead th {\n",
       "        text-align: right;\n",
       "    }\n",
       "</style>\n",
       "<table border=\"1\" class=\"dataframe\">\n",
       "  <thead>\n",
       "    <tr style=\"text-align: right;\">\n",
       "      <th></th>\n",
       "      <th>CRIM</th>\n",
       "      <th>ZN</th>\n",
       "      <th>INDUS</th>\n",
       "      <th>CHAS</th>\n",
       "      <th>NOX</th>\n",
       "      <th>RM</th>\n",
       "      <th>AGE</th>\n",
       "      <th>DIS</th>\n",
       "      <th>RAD</th>\n",
       "      <th>TAX</th>\n",
       "      <th>PTRATIO</th>\n",
       "      <th>B</th>\n",
       "      <th>LSTAT</th>\n",
       "    </tr>\n",
       "  </thead>\n",
       "  <tbody>\n",
       "    <tr>\n",
       "      <th>0</th>\n",
       "      <td>0.002412</td>\n",
       "      <td>0.000000</td>\n",
       "      <td>0.015930</td>\n",
       "      <td>0.0</td>\n",
       "      <td>0.001053</td>\n",
       "      <td>0.012020</td>\n",
       "      <td>0.179454</td>\n",
       "      <td>0.007783</td>\n",
       "      <td>0.007828</td>\n",
       "      <td>0.600788</td>\n",
       "      <td>0.041096</td>\n",
       "      <td>0.776719</td>\n",
       "      <td>0.036634</td>\n",
       "    </tr>\n",
       "    <tr>\n",
       "      <th>1</th>\n",
       "      <td>0.000041</td>\n",
       "      <td>0.154587</td>\n",
       "      <td>0.003804</td>\n",
       "      <td>0.0</td>\n",
       "      <td>0.000778</td>\n",
       "      <td>0.014260</td>\n",
       "      <td>0.029418</td>\n",
       "      <td>0.011749</td>\n",
       "      <td>0.003748</td>\n",
       "      <td>0.652077</td>\n",
       "      <td>0.027545</td>\n",
       "      <td>0.740857</td>\n",
       "      <td>0.005827</td>\n",
       "    </tr>\n",
       "    <tr>\n",
       "      <th>2</th>\n",
       "      <td>0.006345</td>\n",
       "      <td>0.000000</td>\n",
       "      <td>0.023446</td>\n",
       "      <td>0.0</td>\n",
       "      <td>0.000817</td>\n",
       "      <td>0.006438</td>\n",
       "      <td>0.129538</td>\n",
       "      <td>0.001726</td>\n",
       "      <td>0.031089</td>\n",
       "      <td>0.862723</td>\n",
       "      <td>0.026167</td>\n",
       "      <td>0.486441</td>\n",
       "      <td>0.004223</td>\n",
       "    </tr>\n",
       "    <tr>\n",
       "      <th>3</th>\n",
       "      <td>0.000087</td>\n",
       "      <td>0.000000</td>\n",
       "      <td>0.011339</td>\n",
       "      <td>0.0</td>\n",
       "      <td>0.001125</td>\n",
       "      <td>0.013190</td>\n",
       "      <td>0.075376</td>\n",
       "      <td>0.013077</td>\n",
       "      <td>0.010924</td>\n",
       "      <td>0.489400</td>\n",
       "      <td>0.044133</td>\n",
       "      <td>0.867155</td>\n",
       "      <td>0.017500</td>\n",
       "    </tr>\n",
       "    <tr>\n",
       "      <th>4</th>\n",
       "      <td>0.004743</td>\n",
       "      <td>0.000000</td>\n",
       "      <td>0.023248</td>\n",
       "      <td>0.0</td>\n",
       "      <td>0.000916</td>\n",
       "      <td>0.008189</td>\n",
       "      <td>0.113541</td>\n",
       "      <td>0.003297</td>\n",
       "      <td>0.030826</td>\n",
       "      <td>0.855411</td>\n",
       "      <td>0.025945</td>\n",
       "      <td>0.502753</td>\n",
       "      <td>0.018816</td>\n",
       "    </tr>\n",
       "  </tbody>\n",
       "</table>\n",
       "</div>"
      ],
      "text/plain": [
       "       CRIM        ZN     INDUS  CHAS       NOX        RM       AGE       DIS  \\\n",
       "0  0.002412  0.000000  0.015930   0.0  0.001053  0.012020  0.179454  0.007783   \n",
       "1  0.000041  0.154587  0.003804   0.0  0.000778  0.014260  0.029418  0.011749   \n",
       "2  0.006345  0.000000  0.023446   0.0  0.000817  0.006438  0.129538  0.001726   \n",
       "3  0.000087  0.000000  0.011339   0.0  0.001125  0.013190  0.075376  0.013077   \n",
       "4  0.004743  0.000000  0.023248   0.0  0.000916  0.008189  0.113541  0.003297   \n",
       "\n",
       "        RAD       TAX   PTRATIO         B     LSTAT  \n",
       "0  0.007828  0.600788  0.041096  0.776719  0.036634  \n",
       "1  0.003748  0.652077  0.027545  0.740857  0.005827  \n",
       "2  0.031089  0.862723  0.026167  0.486441  0.004223  \n",
       "3  0.010924  0.489400  0.044133  0.867155  0.017500  \n",
       "4  0.030826  0.855411  0.025945  0.502753  0.018816  "
      ]
     },
     "execution_count": 65,
     "metadata": {},
     "output_type": "execute_result"
    }
   ],
   "source": [
    "column_names = ['CRIM', 'ZN', 'INDUS', 'CHAS', 'NOX', 'RM', 'AGE', 'DIS', 'RAD',\n",
    "                'TAX', 'PTRATIO', 'B', 'LSTAT']\n",
    "\n",
    "df = pd.DataFrame(X_train_n, columns=column_names)\n",
    "df.head()"
   ]
  },
  {
   "cell_type": "code",
   "execution_count": 57,
   "metadata": {},
   "outputs": [
    {
     "data": {
      "text/plain": [
       "0.000000    379\n",
       "0.002194      1\n",
       "0.002040      1\n",
       "0.002102      1\n",
       "0.001282      1\n",
       "0.002371      1\n",
       "0.001316      1\n",
       "0.002211      1\n",
       "0.001320      1\n",
       "0.002282      1\n",
       "0.002071      1\n",
       "0.001294      1\n",
       "0.002090      1\n",
       "0.002203      1\n",
       "0.002130      1\n",
       "0.002038      1\n",
       "0.001296      1\n",
       "0.001861      1\n",
       "0.002033      1\n",
       "0.001905      1\n",
       "0.001994      1\n",
       "0.002019      1\n",
       "0.001962      1\n",
       "0.001737      1\n",
       "0.001760      1\n",
       "0.002066      1\n",
       "Name: CHAS, dtype: int64"
      ]
     },
     "execution_count": 57,
     "metadata": {},
     "output_type": "execute_result"
    }
   ],
   "source": []
  },
  {
   "cell_type": "markdown",
   "metadata": {
    "colab_type": "text",
    "id": "SfcFnOONyuNm"
   },
   "source": [
    "## Use the Keras Library to build an image recognition network using the Fashion-MNIST dataset (also comes with keras)\n",
    "\n",
    "- Load and preprocess the image data similar to how we preprocessed the MNIST data in class.\n",
    "- Make sure to one-hot encode your category labels\n",
    "- Make sure to have your final layer have as many nodes as the number of classes that you want to predict.\n",
    "- Try different hyperparameters. What is the highest accuracy that you are able to achieve.\n",
    "- Use the history object that is returned from model.fit to make graphs of the model's loss or train/validation accuracies by epoch. \n",
    "- Remember that neural networks fall prey to randomness so you may need to run your model multiple times (or use Cross Validation) in order to tell if a change to a hyperparameter is truly producing better results."
   ]
  },
  {
   "cell_type": "code",
   "execution_count": 60,
   "metadata": {
    "colab": {},
    "colab_type": "code",
    "id": "szi6-IpuzaH1"
   },
   "outputs": [],
   "source": [
    "##### Your Code Here #####\n",
    "from tensorflow.keras.datasets import fashion_mnist\n"
   ]
  },
  {
   "cell_type": "code",
   "execution_count": 67,
   "metadata": {},
   "outputs": [],
   "source": [
    "# Hyper Parameters\n",
    "batch_size = 64\n",
    "num_classes = 10\n",
    "epochs = 20"
   ]
  },
  {
   "cell_type": "code",
   "execution_count": 68,
   "metadata": {},
   "outputs": [],
   "source": [
    "\n",
    "(x_train, y_train), (x_test, y_test) = fashion_mnist.load_data()"
   ]
  },
  {
   "cell_type": "code",
   "execution_count": 69,
   "metadata": {},
   "outputs": [
    {
     "data": {
      "text/plain": [
       "(28, 28)"
      ]
     },
     "execution_count": 69,
     "metadata": {},
     "output_type": "execute_result"
    }
   ],
   "source": [
    "X_train[0].shape"
   ]
  },
  {
   "cell_type": "code",
   "execution_count": 70,
   "metadata": {},
   "outputs": [],
   "source": [
    "# Reshape the data\n",
    "X_train = X_train.reshape(60000, 784)\n",
    "X_test = X_test.reshape(10000, 784)"
   ]
  },
  {
   "cell_type": "code",
   "execution_count": 71,
   "metadata": {},
   "outputs": [],
   "source": [
    "# X Variable Types\n",
    "X_train = X_train.astype('float32')\n",
    "X_test = X_test.astype('float32')"
   ]
  },
  {
   "cell_type": "code",
   "execution_count": 72,
   "metadata": {},
   "outputs": [],
   "source": [
    "# Correct Encoding on Y\n",
    "# What softmax expects = [0,0,0,0,0,1,0,0,0,0]\n",
    "\n",
    "y_train = keras.utils.to_categorical(y_train, num_classes)\n",
    "y_test = keras.utils.to_categorical(y_test, num_classes)"
   ]
  },
  {
   "cell_type": "code",
   "execution_count": 73,
   "metadata": {},
   "outputs": [
    {
     "name": "stdout",
     "output_type": "stream",
     "text": [
      "Model: \"sequential_4\"\n",
      "_________________________________________________________________\n",
      "Layer (type)                 Output Shape              Param #   \n",
      "=================================================================\n",
      "dense_16 (Dense)             (None, 64)                50240     \n",
      "_________________________________________________________________\n",
      "dense_17 (Dense)             (None, 32)                2080      \n",
      "_________________________________________________________________\n",
      "dense_18 (Dense)             (None, 16)                528       \n",
      "_________________________________________________________________\n",
      "dense_19 (Dense)             (None, 16)                272       \n",
      "_________________________________________________________________\n",
      "dense_20 (Dense)             (None, 10)                170       \n",
      "=================================================================\n",
      "Total params: 53,290\n",
      "Trainable params: 53,290\n",
      "Non-trainable params: 0\n",
      "_________________________________________________________________\n"
     ]
    }
   ],
   "source": [
    "mnist_model = Sequential()\n",
    "\n",
    "# Input => Hidden\n",
    "mnist_model.add(Dense(64, input_dim=784, activation='relu'))\n",
    "# Hidden\n",
    "mnist_model.add(Dense(32, activation='relu'))\n",
    "# Hidden\n",
    "mnist_model.add(Dense(16, activation='relu'))\n",
    "# Hidden\n",
    "mnist_model.add(Dense(16, activation='relu'))\n",
    "# Output\n",
    "mnist_model.add(Dense(10,activation='softmax'))\n",
    "\n",
    "#Compile\n",
    "mnist_model.compile(loss='categorical_crossentropy',\n",
    "                    optimizer='adam',\n",
    "                    metrics=['accuracy'])\n",
    "\n",
    "mnist_model.summary()"
   ]
  },
  {
   "cell_type": "code",
   "execution_count": 75,
   "metadata": {},
   "outputs": [
    {
     "name": "stdout",
     "output_type": "stream",
     "text": [
      "10000/10000 [==============================] - 0s 26us/sample - loss: 0.6615 - accuracy: 0.8733\n"
     ]
    }
   ],
   "source": [
    "history = mnist_model.fit(X_train, y_train, batch_size=32, epochs=20, verbose=False)\n",
    "scores = mnist_model.evaluate(X_test, y_test)\n",
    "#print(f'{mnist_model.metrics_names[1]}: {scores[1]*100}')"
   ]
  },
  {
   "cell_type": "code",
   "execution_count": 76,
   "metadata": {},
   "outputs": [
    {
     "data": {
      "image/png": "[encoded data removed]",
      "text/plain": [
       "<Figure size 432x288 with 1 Axes>"
      ]
     },
     "metadata": {
      "needs_background": "light"
     },
     "output_type": "display_data"
    }
   ],
   "source": [
    "import matplotlib.pyplot as plt\n",
    "plt.plot(history.history['loss'])\n",
    "plt.xlabel('epoch')\n",
    "plt.ylabel('loss')\n",
    "plt.show()"
   ]
  },
  {
   "cell_type": "markdown",
   "metadata": {
    "colab_type": "text",
    "id": "zv_3xNMjzdLI"
   },
   "source": [
    "## Stretch Goals:\n",
    "\n",
    "- Use Hyperparameter Tuning to make the accuracy of your models as high as possible. (error as low as possible)\n",
    "- Use Cross Validation techniques to get more consistent results with your model.\n",
    "- Use GridSearchCV to try different combinations of hyperparameters. \n",
    "- Start looking into other types of Keras layers for CNNs and RNNs maybe try and build a CNN model for fashion-MNIST to see how the results compare."
   ]
  }
 ],
 "metadata": {
  "colab": {
   "name": "LS_DS_433_Keras_Assignment.ipynb",
   "provenance": [],
   "version": "0.3.2"
  },
  "kernelspec": {
   "display_name": "U4-S2-NN-1 (Python3)",
   "language": "python",
   "name": "u4-s2-nn-1"
  },
  "language_info": {
   "codemirror_mode": {
    "name": "ipython",
    "version": 3
   },
   "file_extension": ".py",
   "mimetype": "text/x-python",
   "name": "python",
   "nbconvert_exporter": "python",
   "pygments_lexer": "ipython3",
   "version": "3.7.0"
  }
 },
 "nbformat": 4,
 "nbformat_minor": 4
}
