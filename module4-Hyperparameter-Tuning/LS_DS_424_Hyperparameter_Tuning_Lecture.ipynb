{
 "cells": [
  {
   "cell_type": "markdown",
   "metadata": {
    "colab_type": "text",
    "id": "41TS0Sa0rDNx"
   },
   "source": [
    "Lambda School Data Science\n",
    "\n",
    "*Unit 4, Sprint 2, Module 4*\n",
    "\n",
    "---"
   ]
  },
  {
   "cell_type": "markdown",
   "metadata": {
    "colab_type": "text",
    "id": "41TS0Sa0rDNx"
   },
   "source": [
    "# Hyperparameter (Prepare)\n",
    "*aka Hyperparameter Tuning*\n"
   ]
  },
  {
   "cell_type": "markdown",
   "metadata": {
    "colab_type": "text",
    "id": "41TS0Sa0rDNx"
   },
   "source": [
    "## Learning Objectives\n",
    "* <a href=\"#p1\">Part 1</a>: Describe the major hyperparemeters to tune\n",
    "* <a href=\"#p2\">Part 2</a>: Implement an experiment tracking framework\n",
    "* <a href=\"#p3\">Part 3</a>: Search the hyperparameter space using RandomSearch (Optional)"
   ]
  },
  {
   "cell_type": "code",
   "execution_count": 1,
   "metadata": {},
   "outputs": [],
   "source": [
    "wandb_group = \"ds8\"\n",
    "wandb_project = \"ds10_inclass\""
   ]
  },
  {
   "cell_type": "markdown",
   "metadata": {},
   "source": [
    "# Hyperparameter Options (Learn)\n",
    "<a id=\"p1\"></a>"
   ]
  },
  {
   "cell_type": "markdown",
   "metadata": {
    "toc-hr-collapsed": false
   },
   "source": [
    "## Overview\n",
    "\n",
    "Hyperparameter tuning is much more important with neural networks than it has been with any other models that we have considered up to this point. Other supervised learning models might have a couple of parameters, but neural networks can have dozens. These can substantially affect the accuracy of our models and although it can be a time consuming process is a necessary step when working with neural networks.\n",
    "​\n",
    "Hyperparameter tuning comes with a challenge. How can we compare models specified with different hyperparameters if our model's final error metric can vary somewhat erratically? How do we avoid just getting unlucky and selecting the wrong hyperparameter? This is a problem that to a certain degree we just have to live with as we test and test again. However, we can minimize it somewhat by pairing our experiments with Cross Validation to reduce the variance of our final accuracy values."
   ]
  },
  {
   "cell_type": "markdown",
   "metadata": {
    "colab_type": "text",
    "id": "0s0o2pqBs88q"
   },
   "source": [
    "### Load Boston Housing Data"
   ]
  },
  {
   "cell_type": "code",
   "execution_count": 2,
   "metadata": {},
   "outputs": [],
   "source": [
    "from tensorflow.keras.datasets import boston_housing\n",
    "\n",
    "(x_train, y_train), (x_test, y_test) = boston_housing.load_data()"
   ]
  },
  {
   "cell_type": "markdown",
   "metadata": {
    "colab_type": "text",
    "id": "Pm7zow5IvaTt"
   },
   "source": [
    "### Normalizing Input Data\n",
    "\n",
    "It's not 100% necessary to normalize/scale your input data before feeding it to a neural network, the network can learn the appropriate weights to deal with data of as long as it is numerically represented,  but it is recommended as it can help **make training faster** and **reduces the chances that gradient descent might get stuck in a local optimum**.\n",
    "\n",
    "<https://stackoverflow.com/questions/4674623/why-do-we-have-to-normalize-the-input-for-an-artificial-neural-network>"
   ]
  },
  {
   "cell_type": "code",
   "execution_count": 3,
   "metadata": {},
   "outputs": [
    {
     "name": "stdout",
     "output_type": "stream",
     "text": [
      "[[-0.27224633 -0.48361547 -0.43576161 -0.25683275 -0.1652266  -0.1764426\n",
      "   0.81306188  0.1166983  -0.62624905 -0.59517003  1.14850044  0.44807713\n",
      "   0.8252202 ]\n",
      " [-0.40342651  2.99178419 -1.33391162 -0.25683275 -1.21518188  1.89434613\n",
      "  -1.91036058  1.24758524 -0.85646254 -0.34843254 -1.71818909  0.43190599\n",
      "  -1.32920239]\n",
      " [ 0.1249402  -0.48361547  1.0283258  -0.25683275  0.62864202 -1.82968811\n",
      "   1.11048828 -1.18743907  1.67588577  1.5652875   0.78447637  0.22061726\n",
      "  -1.30850006]\n",
      " [-0.40149354 -0.48361547 -0.86940196 -0.25683275 -0.3615597  -0.3245576\n",
      "  -1.23667187  1.10717989 -0.51114231 -1.094663    0.78447637  0.44807713\n",
      "  -0.65292624]\n",
      " [-0.0056343  -0.48361547  1.0283258  -0.25683275  1.32861221  0.15364225\n",
      "   0.69480801 -0.57857203  1.67588577  1.5652875   0.78447637  0.3898823\n",
      "   0.26349695]\n",
      " [-0.37502238 -0.48361547 -0.54747912 -0.25683275 -0.54935658 -0.78865126\n",
      "   0.18954148  0.48371503 -0.51114231 -0.71552978  0.51145832  0.38669063\n",
      "  -0.13812828]\n",
      " [ 0.58963463 -0.48361547  1.0283258  -0.25683275  1.21764133 -1.03127774\n",
      "   1.11048828 -1.06518235  1.67588577  1.5652875   0.78447637  0.44807713\n",
      "   1.49873604]\n",
      " [ 0.0381708  -0.48361547  1.24588095 -0.25683275  2.67733525 -1.12719983\n",
      "   1.11048828 -1.14833073 -0.51114231 -0.01744323 -1.71818909  0.44807713\n",
      "   1.88793986]\n",
      " [-0.17228416 -0.48361547  1.24588095 -0.25683275  2.67733525 -0.90150078\n",
      "   1.11048828 -1.09664657 -0.51114231 -0.01744323 -1.71818909 -1.97365769\n",
      "   0.53952803]\n",
      " [-0.22932104 -0.48361547  1.58544339 -0.25683275  0.56888847 -1.76056777\n",
      "   1.11048828 -1.13471925 -0.62624905  0.18716835  1.23950646  0.44807713\n",
      "   2.99068404]]\n"
     ]
    }
   ],
   "source": [
    "from sklearn.preprocessing import StandardScaler\n",
    "\n",
    "scaler = StandardScaler()\n",
    "\n",
    "x_train = scaler.fit_transform(x_train)\n",
    "x_test = scaler.transform(x_test)\n",
    "print(x_train[:10])"
   ]
  },
  {
   "cell_type": "markdown",
   "metadata": {
    "colab_type": "text",
    "id": "l6hgCWbir90R"
   },
   "source": [
    "### Model Validation using an automatic verification Dataset\n",
    "\n",
    "Instead of doing seperate train test split class, Keras has a really nice feature that you can set the validation.data argument when fitting your model and Keras will take that portion of your test data and use it as a validation dataset. "
   ]
  },
  {
   "cell_type": "code",
   "execution_count": 4,
   "metadata": {
    "colab": {
     "base_uri": "https://localhost:8080/",
     "height": 1750
    },
    "colab_type": "code",
    "id": "GMXVfmzXp1Oo",
    "outputId": "b05e251e-508f-46e6-865b-f869ae2a5dc4"
   },
   "outputs": [
    {
     "name": "stderr",
     "output_type": "stream",
     "text": [
      "WARNING: Logging before flag parsing goes to stderr.\n",
      "W0220 11:20:23.490955 4487658816 deprecation.py:506] From /Users/jonathansokoll/anaconda3/envs/U4-S2-NNF/lib/python3.7/site-packages/tensorflow/python/ops/init_ops.py:1251: calling VarianceScaling.__init__ (from tensorflow.python.ops.init_ops) with dtype is deprecated and will be removed in a future version.\n",
      "Instructions for updating:\n",
      "Call initializer instance with the dtype argument instead of passing it to the constructor\n"
     ]
    },
    {
     "name": "stdout",
     "output_type": "stream",
     "text": [
      "Train on 404 samples, validate on 102 samples\n",
      "Epoch 1/75\n",
      "404/404 [==============================] - 0s 384us/sample - loss: 505.5034 - mean_squared_error: 505.5033 - mean_absolute_error: 20.7351 - val_loss: 419.8636 - val_mean_squared_error: 419.8636 - val_mean_absolute_error: 18.8245\n",
      "Epoch 2/75\n",
      "404/404 [==============================] - 0s 111us/sample - loss: 256.2052 - mean_squared_error: 256.2052 - mean_absolute_error: 13.8637 - val_loss: 118.5281 - val_mean_squared_error: 118.5281 - val_mean_absolute_error: 9.1924\n",
      "Epoch 3/75\n",
      "404/404 [==============================] - 0s 134us/sample - loss: 68.6841 - mean_squared_error: 68.6841 - mean_absolute_error: 6.2213 - val_loss: 45.7269 - val_mean_squared_error: 45.7269 - val_mean_absolute_error: 5.3250\n",
      "Epoch 4/75\n",
      "404/404 [==============================] - 0s 111us/sample - loss: 34.1507 - mean_squared_error: 34.1507 - mean_absolute_error: 4.2232 - val_loss: 32.3898 - val_mean_squared_error: 32.3898 - val_mean_absolute_error: 4.5292\n",
      "Epoch 5/75\n",
      "404/404 [==============================] - 0s 111us/sample - loss: 24.8849 - mean_squared_error: 24.8849 - mean_absolute_error: 3.6075 - val_loss: 28.5458 - val_mean_squared_error: 28.5458 - val_mean_absolute_error: 4.1628\n",
      "Epoch 6/75\n",
      "404/404 [==============================] - 0s 117us/sample - loss: 21.4399 - mean_squared_error: 21.4399 - mean_absolute_error: 3.2880 - val_loss: 26.7376 - val_mean_squared_error: 26.7376 - val_mean_absolute_error: 3.9953\n",
      "Epoch 7/75\n",
      "404/404 [==============================] - 0s 117us/sample - loss: 19.3048 - mean_squared_error: 19.3048 - mean_absolute_error: 3.1073 - val_loss: 25.4080 - val_mean_squared_error: 25.4080 - val_mean_absolute_error: 3.8114\n",
      "Epoch 8/75\n",
      "404/404 [==============================] - 0s 106us/sample - loss: 17.7874 - mean_squared_error: 17.7874 - mean_absolute_error: 2.9802 - val_loss: 25.3293 - val_mean_squared_error: 25.3293 - val_mean_absolute_error: 3.7200\n",
      "Epoch 9/75\n",
      "404/404 [==============================] - 0s 121us/sample - loss: 16.4351 - mean_squared_error: 16.4351 - mean_absolute_error: 2.8476 - val_loss: 24.4527 - val_mean_squared_error: 24.4527 - val_mean_absolute_error: 3.5958\n",
      "Epoch 10/75\n",
      "404/404 [==============================] - 0s 116us/sample - loss: 15.3487 - mean_squared_error: 15.3487 - mean_absolute_error: 2.7472 - val_loss: 23.9539 - val_mean_squared_error: 23.9539 - val_mean_absolute_error: 3.5206\n",
      "Epoch 11/75\n",
      "404/404 [==============================] - 0s 121us/sample - loss: 14.3007 - mean_squared_error: 14.3007 - mean_absolute_error: 2.6921 - val_loss: 25.2151 - val_mean_squared_error: 25.2151 - val_mean_absolute_error: 3.5545\n",
      "Epoch 12/75\n",
      "404/404 [==============================] - 0s 120us/sample - loss: 13.3857 - mean_squared_error: 13.3857 - mean_absolute_error: 2.5899 - val_loss: 24.2653 - val_mean_squared_error: 24.2653 - val_mean_absolute_error: 3.4514\n",
      "Epoch 13/75\n",
      "404/404 [==============================] - 0s 121us/sample - loss: 12.6924 - mean_squared_error: 12.6924 - mean_absolute_error: 2.5278 - val_loss: 23.6484 - val_mean_squared_error: 23.6484 - val_mean_absolute_error: 3.3742\n",
      "Epoch 14/75\n",
      "404/404 [==============================] - 0s 116us/sample - loss: 12.0357 - mean_squared_error: 12.0357 - mean_absolute_error: 2.4456 - val_loss: 24.2322 - val_mean_squared_error: 24.2322 - val_mean_absolute_error: 3.4001\n",
      "Epoch 15/75\n",
      "404/404 [==============================] - 0s 115us/sample - loss: 11.6945 - mean_squared_error: 11.6945 - mean_absolute_error: 2.4163 - val_loss: 23.6526 - val_mean_squared_error: 23.6526 - val_mean_absolute_error: 3.3240\n",
      "Epoch 16/75\n",
      "404/404 [==============================] - 0s 117us/sample - loss: 11.1705 - mean_squared_error: 11.1705 - mean_absolute_error: 2.3843 - val_loss: 23.5008 - val_mean_squared_error: 23.5008 - val_mean_absolute_error: 3.2721\n",
      "Epoch 17/75\n",
      "404/404 [==============================] - 0s 123us/sample - loss: 10.7459 - mean_squared_error: 10.7459 - mean_absolute_error: 2.3279 - val_loss: 23.4378 - val_mean_squared_error: 23.4378 - val_mean_absolute_error: 3.2806\n",
      "Epoch 18/75\n",
      "404/404 [==============================] - 0s 136us/sample - loss: 10.4442 - mean_squared_error: 10.4442 - mean_absolute_error: 2.3006 - val_loss: 24.1520 - val_mean_squared_error: 24.1520 - val_mean_absolute_error: 3.2946\n",
      "Epoch 19/75\n",
      "404/404 [==============================] - 0s 116us/sample - loss: 10.1950 - mean_squared_error: 10.1950 - mean_absolute_error: 2.2976 - val_loss: 23.2702 - val_mean_squared_error: 23.2702 - val_mean_absolute_error: 3.2121\n",
      "Epoch 20/75\n",
      "404/404 [==============================] - 0s 108us/sample - loss: 9.9020 - mean_squared_error: 9.9020 - mean_absolute_error: 2.2503 - val_loss: 22.8716 - val_mean_squared_error: 22.8716 - val_mean_absolute_error: 3.1717\n",
      "Epoch 21/75\n",
      "404/404 [==============================] - 0s 115us/sample - loss: 9.7454 - mean_squared_error: 9.7454 - mean_absolute_error: 2.2269 - val_loss: 24.6154 - val_mean_squared_error: 24.6154 - val_mean_absolute_error: 3.2696\n",
      "Epoch 22/75\n",
      "404/404 [==============================] - 0s 117us/sample - loss: 9.5471 - mean_squared_error: 9.5471 - mean_absolute_error: 2.2567 - val_loss: 21.6631 - val_mean_squared_error: 21.6631 - val_mean_absolute_error: 3.0466\n",
      "Epoch 23/75\n",
      "404/404 [==============================] - 0s 119us/sample - loss: 9.3051 - mean_squared_error: 9.3051 - mean_absolute_error: 2.1774 - val_loss: 24.0591 - val_mean_squared_error: 24.0591 - val_mean_absolute_error: 3.2131\n",
      "Epoch 24/75\n",
      "404/404 [==============================] - 0s 121us/sample - loss: 9.2772 - mean_squared_error: 9.2772 - mean_absolute_error: 2.1789 - val_loss: 23.2305 - val_mean_squared_error: 23.2305 - val_mean_absolute_error: 3.1710\n",
      "Epoch 25/75\n",
      "404/404 [==============================] - 0s 121us/sample - loss: 9.1743 - mean_squared_error: 9.1743 - mean_absolute_error: 2.1601 - val_loss: 21.9080 - val_mean_squared_error: 21.9080 - val_mean_absolute_error: 3.0510\n",
      "Epoch 26/75\n",
      "404/404 [==============================] - 0s 123us/sample - loss: 8.8758 - mean_squared_error: 8.8758 - mean_absolute_error: 2.1332 - val_loss: 21.6734 - val_mean_squared_error: 21.6734 - val_mean_absolute_error: 3.0223\n",
      "Epoch 27/75\n",
      "404/404 [==============================] - 0s 118us/sample - loss: 8.9338 - mean_squared_error: 8.9338 - mean_absolute_error: 2.1433 - val_loss: 22.3523 - val_mean_squared_error: 22.3523 - val_mean_absolute_error: 3.0521\n",
      "Epoch 28/75\n",
      "404/404 [==============================] - 0s 124us/sample - loss: 8.8284 - mean_squared_error: 8.8284 - mean_absolute_error: 2.1321 - val_loss: 20.4861 - val_mean_squared_error: 20.4861 - val_mean_absolute_error: 2.9221\n",
      "Epoch 29/75\n",
      "404/404 [==============================] - 0s 120us/sample - loss: 8.6096 - mean_squared_error: 8.6096 - mean_absolute_error: 2.1099 - val_loss: 21.4231 - val_mean_squared_error: 21.4230 - val_mean_absolute_error: 2.9470\n",
      "Epoch 30/75\n",
      "404/404 [==============================] - 0s 116us/sample - loss: 8.4668 - mean_squared_error: 8.4668 - mean_absolute_error: 2.0781 - val_loss: 22.4176 - val_mean_squared_error: 22.4176 - val_mean_absolute_error: 3.0781\n",
      "Epoch 31/75\n",
      "404/404 [==============================] - 0s 109us/sample - loss: 8.3459 - mean_squared_error: 8.3459 - mean_absolute_error: 2.0662 - val_loss: 22.2878 - val_mean_squared_error: 22.2878 - val_mean_absolute_error: 3.0492\n",
      "Epoch 32/75\n",
      "404/404 [==============================] - 0s 127us/sample - loss: 8.3296 - mean_squared_error: 8.3296 - mean_absolute_error: 2.0703 - val_loss: 20.9372 - val_mean_squared_error: 20.9372 - val_mean_absolute_error: 2.9006\n",
      "Epoch 33/75\n",
      "404/404 [==============================] - 0s 127us/sample - loss: 8.0794 - mean_squared_error: 8.0794 - mean_absolute_error: 2.0197 - val_loss: 21.8713 - val_mean_squared_error: 21.8713 - val_mean_absolute_error: 3.0058\n",
      "Epoch 34/75\n",
      "404/404 [==============================] - 0s 116us/sample - loss: 8.1155 - mean_squared_error: 8.1155 - mean_absolute_error: 2.0497 - val_loss: 21.3948 - val_mean_squared_error: 21.3948 - val_mean_absolute_error: 2.9625\n",
      "Epoch 35/75\n",
      "404/404 [==============================] - 0s 121us/sample - loss: 8.0476 - mean_squared_error: 8.0476 - mean_absolute_error: 2.0029 - val_loss: 20.8200 - val_mean_squared_error: 20.8200 - val_mean_absolute_error: 2.9666\n",
      "Epoch 36/75\n",
      "404/404 [==============================] - 0s 118us/sample - loss: 7.7240 - mean_squared_error: 7.7240 - mean_absolute_error: 1.9707 - val_loss: 20.6477 - val_mean_squared_error: 20.6477 - val_mean_absolute_error: 2.8871\n",
      "Epoch 37/75\n",
      "404/404 [==============================] - 0s 121us/sample - loss: 7.7439 - mean_squared_error: 7.7439 - mean_absolute_error: 1.9712 - val_loss: 22.3121 - val_mean_squared_error: 22.3121 - val_mean_absolute_error: 3.0742\n",
      "Epoch 38/75\n",
      "404/404 [==============================] - 0s 119us/sample - loss: 7.7917 - mean_squared_error: 7.7917 - mean_absolute_error: 2.0056 - val_loss: 21.5353 - val_mean_squared_error: 21.5353 - val_mean_absolute_error: 2.9606\n",
      "Epoch 39/75\n",
      "404/404 [==============================] - 0s 114us/sample - loss: 7.3652 - mean_squared_error: 7.3652 - mean_absolute_error: 1.9643 - val_loss: 19.5255 - val_mean_squared_error: 19.5255 - val_mean_absolute_error: 2.7906\n",
      "Epoch 40/75\n",
      "404/404 [==============================] - 0s 123us/sample - loss: 7.2703 - mean_squared_error: 7.2703 - mean_absolute_error: 1.9180 - val_loss: 20.8487 - val_mean_squared_error: 20.8487 - val_mean_absolute_error: 2.9443\n",
      "Epoch 41/75\n",
      "404/404 [==============================] - 0s 126us/sample - loss: 7.2591 - mean_squared_error: 7.2591 - mean_absolute_error: 1.9227 - val_loss: 19.4610 - val_mean_squared_error: 19.4610 - val_mean_absolute_error: 2.7798\n",
      "Epoch 42/75\n",
      "404/404 [==============================] - 0s 116us/sample - loss: 7.1782 - mean_squared_error: 7.1782 - mean_absolute_error: 1.9165 - val_loss: 20.1648 - val_mean_squared_error: 20.1648 - val_mean_absolute_error: 2.9079\n",
      "Epoch 43/75\n",
      "404/404 [==============================] - 0s 115us/sample - loss: 7.1003 - mean_squared_error: 7.1003 - mean_absolute_error: 1.8954 - val_loss: 19.8490 - val_mean_squared_error: 19.8490 - val_mean_absolute_error: 2.7701\n",
      "Epoch 44/75\n",
      "404/404 [==============================] - 0s 113us/sample - loss: 6.9364 - mean_squared_error: 6.9364 - mean_absolute_error: 1.8907 - val_loss: 19.5947 - val_mean_squared_error: 19.5947 - val_mean_absolute_error: 2.7423\n",
      "Epoch 45/75\n",
      "404/404 [==============================] - 0s 111us/sample - loss: 7.0170 - mean_squared_error: 7.0170 - mean_absolute_error: 1.8731 - val_loss: 20.9839 - val_mean_squared_error: 20.9839 - val_mean_absolute_error: 2.8906\n",
      "Epoch 46/75\n",
      "404/404 [==============================] - 0s 108us/sample - loss: 6.9905 - mean_squared_error: 6.9905 - mean_absolute_error: 1.8901 - val_loss: 18.9027 - val_mean_squared_error: 18.9027 - val_mean_absolute_error: 2.7289\n",
      "Epoch 47/75\n",
      "404/404 [==============================] - 0s 126us/sample - loss: 6.6536 - mean_squared_error: 6.6536 - mean_absolute_error: 1.8569 - val_loss: 20.4697 - val_mean_squared_error: 20.4697 - val_mean_absolute_error: 2.8711\n",
      "Epoch 48/75\n",
      "404/404 [==============================] - 0s 112us/sample - loss: 6.8830 - mean_squared_error: 6.8830 - mean_absolute_error: 1.8998 - val_loss: 19.6047 - val_mean_squared_error: 19.6047 - val_mean_absolute_error: 2.7693\n",
      "Epoch 49/75\n",
      "404/404 [==============================] - 0s 108us/sample - loss: 6.7496 - mean_squared_error: 6.7496 - mean_absolute_error: 1.8818 - val_loss: 18.7744 - val_mean_squared_error: 18.7744 - val_mean_absolute_error: 2.6753\n",
      "Epoch 50/75\n",
      "404/404 [==============================] - 0s 111us/sample - loss: 6.4977 - mean_squared_error: 6.4977 - mean_absolute_error: 1.8113 - val_loss: 18.7816 - val_mean_squared_error: 18.7816 - val_mean_absolute_error: 2.7092\n",
      "Epoch 51/75\n",
      "404/404 [==============================] - 0s 117us/sample - loss: 6.5616 - mean_squared_error: 6.5616 - mean_absolute_error: 1.8439 - val_loss: 18.9116 - val_mean_squared_error: 18.9116 - val_mean_absolute_error: 2.7188\n",
      "Epoch 52/75\n",
      "404/404 [==============================] - 0s 113us/sample - loss: 6.3857 - mean_squared_error: 6.3857 - mean_absolute_error: 1.8336 - val_loss: 18.8488 - val_mean_squared_error: 18.8488 - val_mean_absolute_error: 2.8103\n",
      "Epoch 53/75\n",
      "404/404 [==============================] - 0s 103us/sample - loss: 6.7275 - mean_squared_error: 6.7275 - mean_absolute_error: 1.8541 - val_loss: 18.7869 - val_mean_squared_error: 18.7869 - val_mean_absolute_error: 2.6803\n",
      "Epoch 54/75\n",
      "404/404 [==============================] - 0s 102us/sample - loss: 6.4503 - mean_squared_error: 6.4503 - mean_absolute_error: 1.8333 - val_loss: 18.7073 - val_mean_squared_error: 18.7073 - val_mean_absolute_error: 2.7214\n",
      "Epoch 55/75\n",
      "404/404 [==============================] - 0s 108us/sample - loss: 6.1881 - mean_squared_error: 6.1881 - mean_absolute_error: 1.7753 - val_loss: 18.0559 - val_mean_squared_error: 18.0559 - val_mean_absolute_error: 2.6687\n",
      "Epoch 56/75\n",
      "404/404 [==============================] - 0s 116us/sample - loss: 6.1032 - mean_squared_error: 6.1032 - mean_absolute_error: 1.7782 - val_loss: 18.5559 - val_mean_squared_error: 18.5559 - val_mean_absolute_error: 2.7389\n",
      "Epoch 57/75\n",
      "404/404 [==============================] - 0s 122us/sample - loss: 6.1533 - mean_squared_error: 6.1533 - mean_absolute_error: 1.7992 - val_loss: 20.0497 - val_mean_squared_error: 20.0497 - val_mean_absolute_error: 2.8546\n",
      "Epoch 58/75\n",
      "404/404 [==============================] - 0s 112us/sample - loss: 6.3181 - mean_squared_error: 6.3181 - mean_absolute_error: 1.7939 - val_loss: 21.1362 - val_mean_squared_error: 21.1362 - val_mean_absolute_error: 2.9192\n",
      "Epoch 59/75\n",
      "404/404 [==============================] - 0s 110us/sample - loss: 6.1138 - mean_squared_error: 6.1139 - mean_absolute_error: 1.7940 - val_loss: 18.4753 - val_mean_squared_error: 18.4753 - val_mean_absolute_error: 2.7139\n",
      "Epoch 60/75\n",
      "404/404 [==============================] - 0s 135us/sample - loss: 5.9679 - mean_squared_error: 5.9680 - mean_absolute_error: 1.7563 - val_loss: 18.0464 - val_mean_squared_error: 18.0464 - val_mean_absolute_error: 2.6161\n",
      "Epoch 61/75\n",
      "404/404 [==============================] - 0s 113us/sample - loss: 5.8748 - mean_squared_error: 5.8748 - mean_absolute_error: 1.7332 - val_loss: 17.9191 - val_mean_squared_error: 17.9191 - val_mean_absolute_error: 2.6677\n",
      "Epoch 62/75\n",
      "404/404 [==============================] - 0s 112us/sample - loss: 6.0149 - mean_squared_error: 6.0149 - mean_absolute_error: 1.7568 - val_loss: 17.7348 - val_mean_squared_error: 17.7348 - val_mean_absolute_error: 2.6440\n",
      "Epoch 63/75\n",
      "404/404 [==============================] - 0s 111us/sample - loss: 5.8141 - mean_squared_error: 5.8141 - mean_absolute_error: 1.7056 - val_loss: 17.7310 - val_mean_squared_error: 17.7310 - val_mean_absolute_error: 2.6412\n",
      "Epoch 64/75\n",
      "404/404 [==============================] - 0s 115us/sample - loss: 5.6576 - mean_squared_error: 5.6576 - mean_absolute_error: 1.6948 - val_loss: 19.0621 - val_mean_squared_error: 19.0621 - val_mean_absolute_error: 2.7989\n",
      "Epoch 65/75\n",
      "404/404 [==============================] - 0s 104us/sample - loss: 5.6624 - mean_squared_error: 5.6624 - mean_absolute_error: 1.7285 - val_loss: 17.8923 - val_mean_squared_error: 17.8923 - val_mean_absolute_error: 2.6712\n",
      "Epoch 66/75\n",
      "404/404 [==============================] - 0s 107us/sample - loss: 5.5544 - mean_squared_error: 5.5544 - mean_absolute_error: 1.6960 - val_loss: 17.4197 - val_mean_squared_error: 17.4197 - val_mean_absolute_error: 2.6345\n",
      "Epoch 67/75\n",
      "404/404 [==============================] - 0s 115us/sample - loss: 5.5529 - mean_squared_error: 5.5529 - mean_absolute_error: 1.6818 - val_loss: 18.7497 - val_mean_squared_error: 18.7497 - val_mean_absolute_error: 2.7342\n",
      "Epoch 68/75\n",
      "404/404 [==============================] - 0s 113us/sample - loss: 5.7783 - mean_squared_error: 5.7783 - mean_absolute_error: 1.7468 - val_loss: 18.7427 - val_mean_squared_error: 18.7427 - val_mean_absolute_error: 2.7730\n",
      "Epoch 69/75\n",
      "404/404 [==============================] - 0s 111us/sample - loss: 5.3547 - mean_squared_error: 5.3547 - mean_absolute_error: 1.6704 - val_loss: 16.8548 - val_mean_squared_error: 16.8548 - val_mean_absolute_error: 2.5751\n",
      "Epoch 70/75\n",
      "404/404 [==============================] - 0s 113us/sample - loss: 5.8205 - mean_squared_error: 5.8205 - mean_absolute_error: 1.7614 - val_loss: 16.8425 - val_mean_squared_error: 16.8425 - val_mean_absolute_error: 2.5680\n",
      "Epoch 71/75\n",
      "404/404 [==============================] - 0s 116us/sample - loss: 5.6375 - mean_squared_error: 5.6375 - mean_absolute_error: 1.6923 - val_loss: 17.3704 - val_mean_squared_error: 17.3704 - val_mean_absolute_error: 2.6661\n",
      "Epoch 72/75\n",
      "404/404 [==============================] - 0s 129us/sample - loss: 5.5627 - mean_squared_error: 5.5627 - mean_absolute_error: 1.7159 - val_loss: 17.0746 - val_mean_squared_error: 17.0746 - val_mean_absolute_error: 2.6118\n",
      "Epoch 73/75\n",
      "404/404 [==============================] - 0s 124us/sample - loss: 5.5444 - mean_squared_error: 5.5444 - mean_absolute_error: 1.6658 - val_loss: 15.9957 - val_mean_squared_error: 15.9957 - val_mean_absolute_error: 2.5361\n",
      "Epoch 74/75\n",
      "404/404 [==============================] - 0s 115us/sample - loss: 5.4952 - mean_squared_error: 5.4952 - mean_absolute_error: 1.7219 - val_loss: 17.1503 - val_mean_squared_error: 17.1503 - val_mean_absolute_error: 2.6107\n",
      "Epoch 75/75\n",
      "404/404 [==============================] - 0s 115us/sample - loss: 5.3009 - mean_squared_error: 5.3009 - mean_absolute_error: 1.6800 - val_loss: 16.3278 - val_mean_squared_error: 16.3278 - val_mean_absolute_error: 2.5888\n"
     ]
    },
    {
     "data": {
      "text/plain": [
       "<tensorflow.python.keras.callbacks.History at 0x7f9c98b785f8>"
      ]
     },
     "execution_count": 4,
     "metadata": {},
     "output_type": "execute_result"
    }
   ],
   "source": [
    "from tensorflow import keras\n",
    "from tensorflow.keras.models import Sequential\n",
    "from tensorflow.keras.layers import Dense\n",
    "\n",
    "# Important Hyperparameters\n",
    "inputs = x_train.shape[1]\n",
    "epochs = 75\n",
    "batch_size = 10\n",
    "\n",
    "\n",
    "# Create Model\n",
    "model = Sequential()\n",
    "model.add(Dense(64, activation='relu', input_shape=(inputs,)))\n",
    "model.add(Dense(64, activation='relu'))\n",
    "model.add(Dense(1))\n",
    "\n",
    "# Compile Model\n",
    "model.compile(optimizer='adam', loss='mse', metrics=['mse', 'mae'])\n",
    "\n",
    "# Fit Model\n",
    "model.fit(x_train, y_train, \n",
    "          validation_data=(x_test,y_test), \n",
    "          epochs=epochs, \n",
    "          batch_size=batch_size\n",
    "         )"
   ]
  },
  {
   "cell_type": "markdown",
   "metadata": {
    "colab_type": "text",
    "id": "sYJ8t_ezHP4W"
   },
   "source": [
    "### Hyperparameter Tuning Approaches:\n",
    "\n",
    "#### 1) Babysitting AKA \"Grad Student Descent\".\n",
    "\n",
    "If you fiddled with any hyperparameters yesterday, this is basically what you did. This approach is 100% manual and is pretty common among researchers where finding that 1 exact specification that jumps your model to a level of accuracy never seen before is the difference between publishing and not publishing a paper. Of course the professors don't do this themselves, that's grunt work. This is also known as the fiddle with hyperparameters until you run out of time method.\n",
    "\n",
    "#### 2) Grid Search\n",
    "\n",
    "Grid Search is the Grad Student galaxy brain realization of: why don't I just specify all the experiments I want to run and let the computer try every possible combination of them while I go and grab lunch. This has a specific downside in that if I specify 5 hyperparameters with 5 options each then I've just created 5^5 combinations of hyperparameters to check. Which means that I have to train 3125 different versions of my model Then if I use 5-fold Cross Validation on that then my model has to run 15,525 times. This is the brute-force method of hyperparameter tuning, but it can be very profitable if done wisely. \n",
    "\n",
    "When using Grid Search here's what I suggest: don't use it to test combinations of different hyperparameters, only use it to test different specifications of **a single** hyperparameter. It's rare that combinations between different hyperparameters lead to big performance gains. You'll get 90-95% of the way there if you just Grid Search one parameter and take the best result, then retain that best result while you test another, and then retain the best specification from that while you train another. This at least makes the situation much more manageable and leads to pretty good results. \n",
    "\n",
    "#### 3) Random Search\n",
    "\n",
    "Do Grid Search for a couple of hours and you'll say to yourself - \"There's got to be a better way.\" Enter Random Search. For Random search you specify a hyperparameter space and it picks specifications from that randomly, tries them out, gives you the best results and says - That's going to have to be good enough, go home and spend time with your family. \n",
    "\n",
    "Grid Search treats every parameter as if it was equally important, but this just isn't the case, some are known to move the needle a lot more than others (we'll talk about that in a minute). Random Search allows searching to be specified along the most important parameter and experiments less along the dimensions of less important hyperparameters. The downside of Random search is that it won't find the absolute best hyperparameters, but it is much less costly to perform than Grid Search. \n",
    "\n",
    "#### 4) Bayesian Methods\n",
    "\n",
    "One thing that can make more manual methods like babysitting and gridsearch effective is that as the experimenter sees results he can then make updates to his future searches taking into account the results of past specifications. If only we could hyperparameter tune our hyperparameter tuning. Well, we kind of can. Enter Bayesian Optimization. Neural Networks are like an optimization problem within an optimization problem, and Bayesian Optimization is a search strategy that tries to take into account the results of past searches in order to improve future ones. This is the most advanced method but can be a little bit tricky to implement, but there are some early steps with `hyperas` which is Bayesian optimization wrapper for `keras`. "
   ]
  },
  {
   "cell_type": "markdown",
   "metadata": {
    "colab_type": "text",
    "id": "HfQ7D043OMMn"
   },
   "source": [
    "## What Hyperparameters are there to test?\n",
    "\n",
    "- batch_size\n",
    "- training epochs\n",
    "- optimization algorithms\n",
    "- learning rate\n",
    "- momentum\n",
    "- activation functions\n",
    "- dropout regularization\n",
    "- number of neurons in the hidden layer\n",
    "\n",
    "There are more, but these are the most important."
   ]
  },
  {
   "cell_type": "markdown",
   "metadata": {},
   "source": [
    "## Follow Along"
   ]
  },
  {
   "cell_type": "markdown",
   "metadata": {
    "colab_type": "text",
    "id": "Mri5-kXzVKAa"
   },
   "source": [
    "### Batch Size\n",
    "\n",
    "Batch size determines how many observations the model is shown before it calculates loss/error and updates the model weights via gradient descent. You're looking for a sweet spot here where you're showing it enough observations that you have enough information to updates the weights, but not such a large batch size that you don't get a lot of weight update iterations performed in a given epoch. Feed-forward Neural Networks aren't as sensitive to bach_size as other networks, but it is still an important hyperparameter to tune. Smaller batch sizes will also take longer to train. "
   ]
  },
  {
   "cell_type": "code",
   "execution_count": 5,
   "metadata": {
    "colab": {
     "base_uri": "https://localhost:8080/",
     "height": 13561
    },
    "colab_type": "code",
    "id": "2smXfriNAGn7",
    "outputId": "ae996575-78e2-43fb-9dbe-5d44aaf0b430"
   },
   "outputs": [
    {
     "name": "stderr",
     "output_type": "stream",
     "text": [
      "/Users/jonathansokoll/anaconda3/envs/U4-S2-NNF/lib/python3.7/site-packages/sklearn/model_selection/_split.py:1978: FutureWarning: The default value of cv will change from 3 to 5 in version 0.22. Specify it explicitly to silence this warning.\n",
      "  warnings.warn(CV_WARNING, FutureWarning)\n",
      "W0220 11:44:05.136412 4487658816 deprecation.py:323] From /Users/jonathansokoll/anaconda3/envs/U4-S2-NNF/lib/python3.7/site-packages/tensorflow/python/ops/nn_impl.py:180: add_dispatch_support.<locals>.wrapper (from tensorflow.python.ops.array_ops) is deprecated and will be removed in a future version.\n",
      "Instructions for updating:\n",
      "Use tf.where in 2.0, which has the same broadcast rule as np.where\n"
     ]
    },
    {
     "name": "stdout",
     "output_type": "stream",
     "text": [
      "Best: 0.6328125 using {'batch_size': 40, 'epochs': 20}\n",
      "Means: 0.62890625, Stdev: 0.022326078384742508 with: {'batch_size': 10, 'epochs': 20}\n",
      "Means: 0.6002604166666666, Stdev: 0.039878627164358214 with: {'batch_size': 20, 'epochs': 20}\n",
      "Means: 0.6328125, Stdev: 0.05221337931188391 with: {'batch_size': 40, 'epochs': 20}\n",
      "Means: 0.6158854166666666, Stdev: 0.04400194075186406 with: {'batch_size': 60, 'epochs': 20}\n",
      "Means: 0.58203125, Stdev: 0.024910320924100247 with: {'batch_size': 80, 'epochs': 20}\n",
      "Means: 0.5013020833333334, Stdev: 0.04235274991481925 with: {'batch_size': 100, 'epochs': 20}\n"
     ]
    }
   ],
   "source": [
    "import numpy\n",
    "import pandas as pd\n",
    "from sklearn.model_selection import GridSearchCV\n",
    "from tensorflow.keras.models import Sequential\n",
    "from tensorflow.keras.layers import Dense\n",
    "from tensorflow.keras.wrappers.scikit_learn import KerasClassifier\n",
    "\n",
    "# fix random seed for reproducibility\n",
    "seed = 7\n",
    "numpy.random.seed(seed)\n",
    "\n",
    "# load dataset\n",
    "url =\"https://raw.githubusercontent.com/jbrownlee/Datasets/master/pima-indians-diabetes.data.csv\"\n",
    "\n",
    "dataset = pd.read_csv(url, header=None).values\n",
    "\n",
    "# split into input (X) and output (Y) variables\n",
    "X = dataset[:,0:8]\n",
    "Y = dataset[:,8]\n",
    "\n",
    "# Function to create model, required for KerasClassifier\n",
    "def create_model():\n",
    "    # create model\n",
    "    model = Sequential()\n",
    "    model.add(Dense(12, input_dim=8, activation='relu'))\n",
    "    model.add(Dense(1, activation='sigmoid'))\n",
    "    # Compile model\n",
    "    model.compile(loss='binary_crossentropy', optimizer='adam', metrics=['accuracy'])\n",
    "    return model\n",
    "\n",
    "# create model\n",
    "model = KerasClassifier(build_fn=create_model, verbose=0)\n",
    "\n",
    "# define the grid search parameters\n",
    "# batch_size = [10, 20, 40, 60, 80, 100]\n",
    "# param_grid = dict(batch_size=batch_size, epochs=epochs)\n",
    "\n",
    "# define the grid search parameters\n",
    "param_grid = {'batch_size': [10, 20, 40, 60, 80, 100],\n",
    "              'epochs': [20]}\n",
    "\n",
    "# Create Grid Search\n",
    "grid = GridSearchCV(estimator=model, param_grid=param_grid, n_jobs=-1)\n",
    "grid_result = grid.fit(X, Y)\n",
    "\n",
    "# Report Results\n",
    "print(f\"Best: {grid_result.best_score_} using {grid_result.best_params_}\")\n",
    "means = grid_result.cv_results_['mean_test_score']\n",
    "stds = grid_result.cv_results_['std_test_score']\n",
    "params = grid_result.cv_results_['params']\n",
    "for mean, stdev, param in zip(means, stds, params):\n",
    "    print(f\"Means: {mean}, Stdev: {stdev} with: {param}\") "
   ]
  },
  {
   "cell_type": "markdown",
   "metadata": {
    "colab_type": "text",
    "id": "pmABfjlvXbqi"
   },
   "source": [
    "### Epochs\n",
    "\n",
    "The number of training epochs has a large and direct affect on the accuracy, However, more epochs is almost always going to better than less epochs. This means that if you tune this parameter at the beginning and try and maintain the same value all throughout your training, you're going to be waiting a long time for each iteration of GridSearch. I suggest picking a fixed moderate # of epochs all throughout your training and then Grid Searching this parameter at the very end. \n",
    "\n",
    "As an alternative to training with a fixed number of epochs, you can use early stopping. This method will halt training after training after you have achieved your best model based on a metric of your choice. Check out this this quick post on implementing [EarlyStopping in Keras](https://chrisalbon.com/deep_learning/keras/neural_network_early_stopping/) by Chris Albon."
   ]
  },
  {
   "cell_type": "code",
   "execution_count": 6,
   "metadata": {
    "colab": {
     "base_uri": "https://localhost:8080/",
     "height": 26329
    },
    "colab_type": "code",
    "id": "bAmxP3N7TmFh",
    "outputId": "3ddb08c4-51ac-4eaa-ff39-143397024544"
   },
   "outputs": [
    {
     "name": "stdout",
     "output_type": "stream",
     "text": [
      "Best: 0.7278645833333334 using {'batch_size': 20, 'epochs': 200}\n",
      "Means: 0.6171875, Stdev: 0.0229993772560621 with: {'batch_size': 20, 'epochs': 20}\n",
      "Means: 0.6497395833333334, Stdev: 0.0403855792168511 with: {'batch_size': 20, 'epochs': 40}\n",
      "Means: 0.6497395833333334, Stdev: 0.024359748611809513 with: {'batch_size': 20, 'epochs': 60}\n",
      "Means: 0.7278645833333334, Stdev: 0.027125868041666223 with: {'batch_size': 20, 'epochs': 200}\n"
     ]
    }
   ],
   "source": [
    "# define the grid search parameters\n",
    "param_grid = {'batch_size': [20],\n",
    "              'epochs': [20, 40, 60,200]}\n",
    "\n",
    "# Create Grid Search\n",
    "grid = GridSearchCV(estimator=model, param_grid=param_grid, n_jobs=1)\n",
    "grid_result = grid.fit(X, Y)\n",
    "\n",
    "# Report Results\n",
    "print(f\"Best: {grid_result.best_score_} using {grid_result.best_params_}\")\n",
    "means = grid_result.cv_results_['mean_test_score']\n",
    "stds = grid_result.cv_results_['std_test_score']\n",
    "params = grid_result.cv_results_['params']\n",
    "for mean, stdev, param in zip(means, stds, params):\n",
    "    print(f\"Means: {mean}, Stdev: {stdev} with: {param}\")"
   ]
  },
  {
   "cell_type": "markdown",
   "metadata": {
    "colab_type": "text",
    "id": "EKcuY6OiaLfz"
   },
   "source": [
    "### Optimizer\n",
    "\n",
    "Remember that there's a different optimizers [optimizers](https://keras.io/optimizers/). At some point, take some time to read up on them a little bit. \"adam\" usually gives the best results. The thing to know about choosing an optimizer is that different optimizers have different hyperparameters like learning rate, momentum, etc. So based on the optimizer you choose you might also have to tune the learning rate and momentum of those optimizers after that. "
   ]
  },
  {
   "cell_type": "markdown",
   "metadata": {
    "colab_type": "text",
    "id": "DG3wq5iOaLig"
   },
   "source": [
    "### Learning Rate\n",
    "\n",
    "Remember that the Learning Rate is a hyperparameter that is specific to your gradient-descent based optimizer selection. A learning rate that is too high will cause divergent behavior, but a Learning Rate that is too low will fail to converge, again, you're looking for the sweet spot. I would start out tuning learning rates by orders of magnitude: [.001, .01, .1, .2, .3, .5] etc. I wouldn't go above .5, but you can try it and see what the behavior is like. \n",
    "\n",
    "Once you have narrowed it down, make the window even smaller and try it again. If after running the above specification your model reports that .1 is the best optimizer, then you should probably try things like [.05, .08, .1, .12, .15] to try and narrow it down. \n",
    "\n",
    "It can also be good to tune the number of epochs in combination with the learning rate since the number of iterations that you allow the learning rate to reach the minimum can determine if you have let it run long enough to converge to the minimum. \n",
    "\n",
    "In addition to tuning a static learning rate, you can also use a dynamic learning rate via a `LearningRateScheduler`. The choice of how the rate is scheduled is itself a hyperparameter. Common choices are expontial decay, time based decay, and step decay. "
   ]
  },
  {
   "cell_type": "markdown",
   "metadata": {
    "colab_type": "text",
    "id": "gNTBUWd1aLlA"
   },
   "source": [
    "### Momentum\n",
    "\n",
    "Momentum is a hyperparameter that is more commonly associated with Stochastic Gradient Descent. SGD is a common optimizer because it's what people understand and know, but I doubt it will get you the best results, you can try hyperparameter tuning its attributes and see if you can beat the performance from adam. Momentum is a property that decides the willingness of an optimizer to overshoot the minimum. Imagine a ball rolling down one side of a bowl and then up the opposite side a little bit before settling back to the bottom. The purpose of momentum is to try and escale local minima."
   ]
  },
  {
   "cell_type": "markdown",
   "metadata": {
    "colab_type": "text",
    "id": "xnEG-bCJaLnZ"
   },
   "source": [
    "### Activation Functions\n",
    "\n",
    "We've talked about this a little bit, typically you'l want to use ReLU for hidden layers and either Sigmoid, or Softmax for output layers of binary and multi-class classification implementations respectively, but try other activation functions and see if you can get any better results with sigmoid or tanh or something. There are a lot of activation functions that we haven't really talked about. Maybe you'll get good results with them. Maybe you won't. :) <https://keras.io/activations/>"
   ]
  },
  {
   "cell_type": "markdown",
   "metadata": {
    "colab_type": "text",
    "id": "oul9sPq-dU-h"
   },
   "source": [
    "### Network Weight Initialization\n",
    "\n",
    "You saw how big of an effect the way that we initialize our network's weights can have on our results. There are **a lot** of what are called initialization modes. I don't understand all of them, but they can have a big affect on your model's initial accuracy. Your model will get further with less epochs if you initialize it with weights that are well suited to the problem you're trying to solve.\n",
    "\n",
    "`init_mode = ['uniform', 'lecun_uniform', 'normal', 'zero', 'glorot_normal', 'glorot_uniform', 'he_normal', 'he_uniform']`"
   ]
  },
  {
   "cell_type": "markdown",
   "metadata": {
    "colab_type": "text",
    "id": "bqtEuxeQaLqE"
   },
   "source": [
    "### Dropout Regularization and the Weight Constraint\n",
    "\n",
    "the Dropout Regularization value is a percentage of neurons that you want to be randomly deactivated during training. The weight constraint is a second regularization parameter that works in tandem with dropout regularization. You should tune these two values at the same time. \n",
    "\n",
    "Using dropout on visible vs hidden layers might have a different effect. Using dropout on hidden layers might not have any effect while using dropout on hidden layers might have a substantial effect. You don't necessarily need to turn use dropout unless you see that your model has overfitting and generalizability problems."
   ]
  },
  {
   "cell_type": "markdown",
   "metadata": {
    "colab_type": "text",
    "id": "P2c5Cv6oaLtO"
   },
   "source": [
    "### Neurons in Hidden Layer \n",
    "\n",
    "Remember that when we only had a single perceptron our model was only able to fit to linearly separable data, but as we have added layers and nodes to those layers our network has become a powerhouse of fitting nonlinearity in data. The larger the network and the more nodes generally the stronger the network's capacity to fit nonlinear patterns in data. The more nodes and layers the longer it will take to train a network, and higher the probability of overfitting. The larger your network gets the more you'll need dropout regularization or other regularization techniques to keep it in check. \n",
    "\n",
    "Typically depth (more layers) is more important than width (more nodes) for neural networks. This is part of why Deep Learning is so highly touted. Certain deep learning architectures have truly been huge breakthroughs for certain machine learning tasks. \n",
    "\n",
    "You might borrow ideas from other network architectures. For example if I was doing image recognition and I wasn't taking cues from state of the art architectures like resnet, alexnet, googlenet, etc. Then I'm probably going to have to do a lot more experimentation on my own before I find something that works.\n",
    "\n",
    "There are some heuristics, but I am highly skeptical of them. I think you're better off experimenting on your own and forming your own intuition for these kinds of problems. \n",
    "\n",
    "- https://machinelearningmastery.com/how-to-configure-the-number-of-layers-and-nodes-in-a-neural-network/"
   ]
  },
  {
   "cell_type": "markdown",
   "metadata": {},
   "source": [
    "## Challenge\n",
    "You will be expected to tune several hyperparameters in today's module project. "
   ]
  },
  {
   "cell_type": "markdown",
   "metadata": {},
   "source": [
    "# Experiment Tracking Framework (Learn)\n",
    "<a id=\"p2\"></a>"
   ]
  },
  {
   "cell_type": "markdown",
   "metadata": {},
   "source": [
    "## Overview\n",
    "\n",
    "You will notice quickly that managing the results of all the experiments you are running becomes challenging. Which set of parameters did the best? Are my results today different than my results yesterday? Although we use Ipython Notebooks to work, the format is not well suited to logging experimental results. Enter experiment tracking frameworks like [Comet.ml](https://comet.ml) and [Weights and Biases](https://wandb.ai/).\n",
    "\n",
    "Those tools will help you track your experiments, store the results, and the code associated with those experiments. Experimental results can also be readily visualized to see changes in performance across any metric you care about. Data is sent to the tool as each epoch is completed, so you can also see if your model is converging. Let's check out Weights & Biases today. "
   ]
  },
  {
   "cell_type": "markdown",
   "metadata": {},
   "source": [
    "## Follow Along\n",
    "\n",
    "Make sure you login into `wandb` in the terminal before running the next cell. "
   ]
  },
  {
   "cell_type": "code",
   "execution_count": 2,
   "metadata": {},
   "outputs": [
    {
     "name": "stdout",
     "output_type": "stream",
     "text": [
      "Requirement already satisfied: wandb in /Users/jonathansokoll/anaconda3/lib/python3.7/site-packages (0.8.18)\n",
      "Requirement already satisfied: shortuuid>=0.5.0 in /Users/jonathansokoll/anaconda3/lib/python3.7/site-packages (from wandb) (0.5.0)\n",
      "Requirement already satisfied: six>=1.10.0 in /Users/jonathansokoll/anaconda3/lib/python3.7/site-packages (from wandb) (1.12.0)\n",
      "Requirement already satisfied: psutil>=5.0.0 in /Users/jonathansokoll/anaconda3/lib/python3.7/site-packages (from wandb) (5.6.1)\n",
      "Requirement already satisfied: GitPython>=1.0.0 in /Users/jonathansokoll/anaconda3/lib/python3.7/site-packages (from wandb) (3.0.5)\n",
      "Requirement already satisfied: gql>=0.1.0 in /Users/jonathansokoll/anaconda3/lib/python3.7/site-packages (from wandb) (0.1.0)\n",
      "Requirement already satisfied: graphql-core<3.0.0 in /Users/jonathansokoll/anaconda3/lib/python3.7/site-packages (from wandb) (2.2.1)\n",
      "Requirement already satisfied: python-dateutil>=2.6.1 in /Users/jonathansokoll/anaconda3/lib/python3.7/site-packages (from wandb) (2.8.0)\n",
      "Requirement already satisfied: docker-pycreds>=0.4.0 in /Users/jonathansokoll/anaconda3/lib/python3.7/site-packages (from wandb) (0.4.0)\n",
      "Requirement already satisfied: watchdog>=0.8.3 in /Users/jonathansokoll/anaconda3/lib/python3.7/site-packages (from wandb) (0.9.0)\n",
      "Requirement already satisfied: sentry-sdk>=0.4.0 in /Users/jonathansokoll/anaconda3/lib/python3.7/site-packages (from wandb) (0.13.5)\n",
      "Requirement already satisfied: subprocess32>=3.5.3 in /Users/jonathansokoll/anaconda3/lib/python3.7/site-packages (from wandb) (3.5.4)\n",
      "Requirement already satisfied: configparser>=3.8.1 in /Users/jonathansokoll/anaconda3/lib/python3.7/site-packages (from wandb) (4.0.2)\n",
      "Requirement already satisfied: requests>=2.0.0 in /Users/jonathansokoll/anaconda3/lib/python3.7/site-packages (from wandb) (2.22.0)\n",
      "Requirement already satisfied: nvidia-ml-py3>=7.352.0 in /Users/jonathansokoll/anaconda3/lib/python3.7/site-packages (from wandb) (7.352.0)\n",
      "Requirement already satisfied: Click>=7.0 in /Users/jonathansokoll/anaconda3/lib/python3.7/site-packages (from wandb) (7.0)\n",
      "Requirement already satisfied: gitdb2>=2.0.0 in /Users/jonathansokoll/anaconda3/lib/python3.7/site-packages (from GitPython>=1.0.0->wandb) (2.0.6)\n",
      "Requirement already satisfied: promise>=0.4.0 in /Users/jonathansokoll/anaconda3/lib/python3.7/site-packages (from gql>=0.1.0->wandb) (2.2.1)\n",
      "Requirement already satisfied: rx<3,>=1.6 in /Users/jonathansokoll/anaconda3/lib/python3.7/site-packages (from graphql-core<3.0.0->wandb) (1.6.1)\n",
      "Requirement already satisfied: PyYAML>=3.10 in /Users/jonathansokoll/anaconda3/lib/python3.7/site-packages (from watchdog>=0.8.3->wandb) (5.1)\n",
      "Requirement already satisfied: argh>=0.24.1 in /Users/jonathansokoll/anaconda3/lib/python3.7/site-packages (from watchdog>=0.8.3->wandb) (0.26.2)\n",
      "Requirement already satisfied: pathtools>=0.1.1 in /Users/jonathansokoll/anaconda3/lib/python3.7/site-packages (from watchdog>=0.8.3->wandb) (0.1.2)\n",
      "Requirement already satisfied: urllib3>=1.10.0 in /Users/jonathansokoll/anaconda3/lib/python3.7/site-packages (from sentry-sdk>=0.4.0->wandb) (1.24.1)\n",
      "Requirement already satisfied: certifi in /Users/jonathansokoll/anaconda3/lib/python3.7/site-packages (from sentry-sdk>=0.4.0->wandb) (2019.3.9)\n",
      "Requirement already satisfied: chardet<3.1.0,>=3.0.2 in /Users/jonathansokoll/anaconda3/lib/python3.7/site-packages (from requests>=2.0.0->wandb) (3.0.4)\n",
      "Requirement already satisfied: idna<2.9,>=2.5 in /Users/jonathansokoll/anaconda3/lib/python3.7/site-packages (from requests>=2.0.0->wandb) (2.8)\n",
      "Requirement already satisfied: smmap2>=2.0.0 in /Users/jonathansokoll/anaconda3/lib/python3.7/site-packages (from gitdb2>=2.0.0->GitPython>=1.0.0->wandb) (2.0.5)\n"
     ]
    }
   ],
   "source": [
    "# Hopefully this already installed! :D \n",
    "!pip install wandb"
   ]
  },
  {
   "cell_type": "code",
   "execution_count": 8,
   "metadata": {},
   "outputs": [
    {
     "name": "stdout",
     "output_type": "stream",
     "text": [
      "\u001b[34m\u001b[1mwandb\u001b[0m: Appending key for api.wandb.ai to your netrc file: /Users/jonathansokoll/.netrc\n",
      "\u001b[32mSuccessfully logged in to Weights & Biases!\u001b[0m\n"
     ]
    }
   ],
   "source": [
    "!wandb login 247987b3dbbed0f189e1a59f756740f6abdbaae9"
   ]
  },
  {
   "cell_type": "code",
   "execution_count": 9,
   "metadata": {},
   "outputs": [],
   "source": [
    "import wandb\n",
    "from wandb.keras import WandbCallback"
   ]
  },
  {
   "cell_type": "code",
   "execution_count": 10,
   "metadata": {
    "colab": {
     "base_uri": "https://localhost:8080/",
     "height": 1750
    },
    "colab_type": "code",
    "id": "GMXVfmzXp1Oo",
    "outputId": "b05e251e-508f-46e6-865b-f869ae2a5dc4"
   },
   "outputs": [
    {
     "data": {
      "text/html": [
       "\n",
       "        Notebook configured with <a href=\"https://wandb.com\" target=\"_blank\">W&B</a>. You can <a href=\"https://app.wandb.ai/ds8/ds10_inclass/runs/z43h5kad\" target=\"_blank\">open</a> the run page, or call <code>%%wandb</code>\n",
       "        in a cell containing your training loop to display live results.  Learn more in our <a href=\"https://docs.wandb.com/docs/integrations/jupyter.html\" target=\"_blank\">docs</a>.\n",
       "    "
      ],
      "text/plain": [
       "<IPython.core.display.HTML object>"
      ]
     },
     "metadata": {},
     "output_type": "display_data"
    },
    {
     "name": "stderr",
     "output_type": "stream",
     "text": [
      "E0220 12:52:00.774079 4487658816 jupyter.py:96] Failed to query for notebook name, you can set it manually with the WANDB_NOTEBOOK_NAME environment variable\n",
      "wandb: Wandb version 0.8.27 is available!  To upgrade, please run:\n",
      "wandb:  $ pip install wandb --upgrade\n"
     ]
    },
    {
     "name": "stdout",
     "output_type": "stream",
     "text": [
      "Train on 270 samples, validate on 134 samples\n",
      "Epoch 1/50\n",
      "270/270 [==============================] - 1s 4ms/sample - loss: 491.1899 - mean_squared_error: 491.1899 - mean_absolute_error: 20.4200 - val_loss: 474.5844 - val_mean_squared_error: 474.5845 - val_mean_absolute_error: 19.6124\n",
      "Epoch 2/50\n",
      "270/270 [==============================] - 0s 327us/sample - loss: 226.4715 - mean_squared_error: 226.4716 - mean_absolute_error: 12.6635 - val_loss: 98.7030 - val_mean_squared_error: 98.7030 - val_mean_absolute_error: 7.4097\n",
      "Epoch 3/50\n",
      "270/270 [==============================] - 0s 309us/sample - loss: 49.7104 - mean_squared_error: 49.7104 - mean_absolute_error: 5.2142 - val_loss: 57.8508 - val_mean_squared_error: 57.8508 - val_mean_absolute_error: 5.3945\n",
      "Epoch 4/50\n",
      "270/270 [==============================] - 0s 319us/sample - loss: 27.5503 - mean_squared_error: 27.5503 - mean_absolute_error: 3.6995 - val_loss: 37.6378 - val_mean_squared_error: 37.6378 - val_mean_absolute_error: 4.1607\n",
      "Epoch 5/50\n",
      "270/270 [==============================] - 0s 257us/sample - loss: 20.3496 - mean_squared_error: 20.3496 - mean_absolute_error: 3.0997 - val_loss: 31.6903 - val_mean_squared_error: 31.6903 - val_mean_absolute_error: 3.7622\n",
      "Epoch 6/50\n",
      "270/270 [==============================] - 0s 209us/sample - loss: 16.9652 - mean_squared_error: 16.9652 - mean_absolute_error: 2.9104 - val_loss: 28.3726 - val_mean_squared_error: 28.3726 - val_mean_absolute_error: 3.4961\n",
      "Epoch 7/50\n",
      "270/270 [==============================] - 0s 234us/sample - loss: 14.5475 - mean_squared_error: 14.5475 - mean_absolute_error: 2.7307 - val_loss: 25.4685 - val_mean_squared_error: 25.4685 - val_mean_absolute_error: 3.2899\n",
      "Epoch 8/50\n",
      "270/270 [==============================] - 0s 289us/sample - loss: 13.2948 - mean_squared_error: 13.2948 - mean_absolute_error: 2.6245 - val_loss: 22.7612 - val_mean_squared_error: 22.7612 - val_mean_absolute_error: 3.1157\n",
      "Epoch 9/50\n",
      "270/270 [==============================] - 0s 288us/sample - loss: 12.1578 - mean_squared_error: 12.1578 - mean_absolute_error: 2.5783 - val_loss: 21.6595 - val_mean_squared_error: 21.6595 - val_mean_absolute_error: 3.1078\n",
      "Epoch 10/50\n",
      "270/270 [==============================] - 0s 375us/sample - loss: 10.6905 - mean_squared_error: 10.6905 - mean_absolute_error: 2.4501 - val_loss: 20.6037 - val_mean_squared_error: 20.6037 - val_mean_absolute_error: 2.9369\n",
      "Epoch 11/50\n",
      "270/270 [==============================] - 0s 301us/sample - loss: 10.0896 - mean_squared_error: 10.0896 - mean_absolute_error: 2.3863 - val_loss: 19.4841 - val_mean_squared_error: 19.4841 - val_mean_absolute_error: 2.9259\n",
      "Epoch 12/50\n",
      "270/270 [==============================] - 0s 284us/sample - loss: 9.3110 - mean_squared_error: 9.3110 - mean_absolute_error: 2.3285 - val_loss: 18.7943 - val_mean_squared_error: 18.7943 - val_mean_absolute_error: 2.9276\n",
      "Epoch 13/50\n",
      "270/270 [==============================] - 0s 277us/sample - loss: 8.9765 - mean_squared_error: 8.9765 - mean_absolute_error: 2.2546 - val_loss: 18.3585 - val_mean_squared_error: 18.3585 - val_mean_absolute_error: 2.8569\n",
      "Epoch 14/50\n",
      "270/270 [==============================] - 0s 267us/sample - loss: 8.4589 - mean_squared_error: 8.4589 - mean_absolute_error: 2.1919 - val_loss: 18.0038 - val_mean_squared_error: 18.0038 - val_mean_absolute_error: 2.8364\n",
      "Epoch 15/50\n",
      "270/270 [==============================] - 0s 367us/sample - loss: 8.1351 - mean_squared_error: 8.1351 - mean_absolute_error: 2.1780 - val_loss: 17.8796 - val_mean_squared_error: 17.8796 - val_mean_absolute_error: 2.8217\n",
      "Epoch 16/50\n",
      "270/270 [==============================] - 0s 316us/sample - loss: 8.0534 - mean_squared_error: 8.0534 - mean_absolute_error: 2.1471 - val_loss: 17.2044 - val_mean_squared_error: 17.2044 - val_mean_absolute_error: 2.8043\n",
      "Epoch 17/50\n",
      "270/270 [==============================] - 0s 235us/sample - loss: 7.8127 - mean_squared_error: 7.8127 - mean_absolute_error: 2.0563 - val_loss: 16.9939 - val_mean_squared_error: 16.9939 - val_mean_absolute_error: 2.7888\n",
      "Epoch 18/50\n",
      "270/270 [==============================] - 0s 211us/sample - loss: 7.4842 - mean_squared_error: 7.4842 - mean_absolute_error: 2.0436 - val_loss: 16.8643 - val_mean_squared_error: 16.8643 - val_mean_absolute_error: 2.7729\n",
      "Epoch 19/50\n",
      "270/270 [==============================] - 0s 158us/sample - loss: 7.3700 - mean_squared_error: 7.3700 - mean_absolute_error: 2.0470 - val_loss: 16.9318 - val_mean_squared_error: 16.9318 - val_mean_absolute_error: 2.8031\n",
      "Epoch 20/50\n",
      "270/270 [==============================] - 0s 281us/sample - loss: 6.9113 - mean_squared_error: 6.9113 - mean_absolute_error: 1.9556 - val_loss: 16.4282 - val_mean_squared_error: 16.4282 - val_mean_absolute_error: 2.7332\n",
      "Epoch 21/50\n",
      "270/270 [==============================] - 0s 316us/sample - loss: 6.7439 - mean_squared_error: 6.7439 - mean_absolute_error: 1.9169 - val_loss: 16.0123 - val_mean_squared_error: 16.0123 - val_mean_absolute_error: 2.6958\n",
      "Epoch 22/50\n",
      "270/270 [==============================] - 0s 202us/sample - loss: 6.5735 - mean_squared_error: 6.5735 - mean_absolute_error: 1.8887 - val_loss: 16.3224 - val_mean_squared_error: 16.3223 - val_mean_absolute_error: 2.7506\n",
      "Epoch 23/50\n",
      "270/270 [==============================] - 0s 304us/sample - loss: 6.3392 - mean_squared_error: 6.3392 - mean_absolute_error: 1.8416 - val_loss: 15.9618 - val_mean_squared_error: 15.9618 - val_mean_absolute_error: 2.6678\n",
      "Epoch 24/50\n",
      "270/270 [==============================] - 0s 205us/sample - loss: 6.5204 - mean_squared_error: 6.5204 - mean_absolute_error: 1.8585 - val_loss: 16.0026 - val_mean_squared_error: 16.0026 - val_mean_absolute_error: 2.7175\n",
      "Epoch 25/50\n",
      "270/270 [==============================] - 0s 338us/sample - loss: 6.1195 - mean_squared_error: 6.1195 - mean_absolute_error: 1.8211 - val_loss: 15.7538 - val_mean_squared_error: 15.7538 - val_mean_absolute_error: 2.6794\n",
      "Epoch 26/50\n",
      "270/270 [==============================] - 0s 338us/sample - loss: 6.1828 - mean_squared_error: 6.1828 - mean_absolute_error: 1.8110 - val_loss: 15.6701 - val_mean_squared_error: 15.6701 - val_mean_absolute_error: 2.6623\n",
      "Epoch 27/50\n",
      "270/270 [==============================] - 0s 247us/sample - loss: 5.8738 - mean_squared_error: 5.8738 - mean_absolute_error: 1.7754 - val_loss: 15.8865 - val_mean_squared_error: 15.8865 - val_mean_absolute_error: 2.6871\n",
      "Epoch 28/50\n",
      "270/270 [==============================] - 0s 309us/sample - loss: 6.0861 - mean_squared_error: 6.0861 - mean_absolute_error: 1.8082 - val_loss: 15.5809 - val_mean_squared_error: 15.5809 - val_mean_absolute_error: 2.6634\n",
      "Epoch 29/50\n",
      "270/270 [==============================] - 0s 186us/sample - loss: 5.8511 - mean_squared_error: 5.8511 - mean_absolute_error: 1.7965 - val_loss: 15.7529 - val_mean_squared_error: 15.7529 - val_mean_absolute_error: 2.6865\n",
      "Epoch 30/50\n",
      "270/270 [==============================] - 0s 209us/sample - loss: 5.7462 - mean_squared_error: 5.7462 - mean_absolute_error: 1.7691 - val_loss: 15.9375 - val_mean_squared_error: 15.9375 - val_mean_absolute_error: 2.7131\n",
      "Epoch 31/50\n",
      "270/270 [==============================] - 0s 209us/sample - loss: 5.4919 - mean_squared_error: 5.4919 - mean_absolute_error: 1.7240 - val_loss: 15.6661 - val_mean_squared_error: 15.6661 - val_mean_absolute_error: 2.6742\n",
      "Epoch 32/50\n",
      "270/270 [==============================] - 0s 246us/sample - loss: 5.6389 - mean_squared_error: 5.6389 - mean_absolute_error: 1.7932 - val_loss: 15.6732 - val_mean_squared_error: 15.6732 - val_mean_absolute_error: 2.6618\n",
      "Epoch 33/50\n",
      "270/270 [==============================] - 0s 455us/sample - loss: 5.4423 - mean_squared_error: 5.4423 - mean_absolute_error: 1.6638 - val_loss: 15.4391 - val_mean_squared_error: 15.4391 - val_mean_absolute_error: 2.6226\n",
      "Epoch 34/50\n",
      "270/270 [==============================] - 0s 219us/sample - loss: 5.2330 - mean_squared_error: 5.2330 - mean_absolute_error: 1.6383 - val_loss: 15.6708 - val_mean_squared_error: 15.6708 - val_mean_absolute_error: 2.6860\n",
      "Epoch 35/50\n",
      "270/270 [==============================] - 0s 205us/sample - loss: 5.2104 - mean_squared_error: 5.2104 - mean_absolute_error: 1.6484 - val_loss: 16.1354 - val_mean_squared_error: 16.1354 - val_mean_absolute_error: 2.6915\n",
      "Epoch 36/50\n",
      "270/270 [==============================] - 0s 250us/sample - loss: 5.7245 - mean_squared_error: 5.7245 - mean_absolute_error: 1.7634 - val_loss: 15.3560 - val_mean_squared_error: 15.3560 - val_mean_absolute_error: 2.6087\n",
      "Epoch 37/50\n",
      "270/270 [==============================] - 0s 163us/sample - loss: 5.7866 - mean_squared_error: 5.7866 - mean_absolute_error: 1.7501 - val_loss: 15.8228 - val_mean_squared_error: 15.8228 - val_mean_absolute_error: 2.6418\n",
      "Epoch 38/50\n",
      "270/270 [==============================] - 0s 210us/sample - loss: 5.3827 - mean_squared_error: 5.3827 - mean_absolute_error: 1.6835 - val_loss: 15.2451 - val_mean_squared_error: 15.2451 - val_mean_absolute_error: 2.6044\n",
      "Epoch 39/50\n",
      "270/270 [==============================] - 0s 137us/sample - loss: 4.6067 - mean_squared_error: 4.6067 - mean_absolute_error: 1.5553 - val_loss: 15.3912 - val_mean_squared_error: 15.3912 - val_mean_absolute_error: 2.6231\n",
      "Epoch 40/50\n",
      "270/270 [==============================] - 0s 197us/sample - loss: 4.6718 - mean_squared_error: 4.6718 - mean_absolute_error: 1.5883 - val_loss: 15.2053 - val_mean_squared_error: 15.2053 - val_mean_absolute_error: 2.5979\n",
      "Epoch 41/50\n",
      "270/270 [==============================] - 0s 142us/sample - loss: 4.6486 - mean_squared_error: 4.6486 - mean_absolute_error: 1.5943 - val_loss: 15.6094 - val_mean_squared_error: 15.6094 - val_mean_absolute_error: 2.6857\n",
      "Epoch 42/50\n",
      "270/270 [==============================] - 0s 207us/sample - loss: 4.4137 - mean_squared_error: 4.4137 - mean_absolute_error: 1.5381 - val_loss: 14.9085 - val_mean_squared_error: 14.9085 - val_mean_absolute_error: 2.5702\n",
      "Epoch 43/50\n",
      "270/270 [==============================] - 0s 139us/sample - loss: 4.4267 - mean_squared_error: 4.4267 - mean_absolute_error: 1.5026 - val_loss: 15.3219 - val_mean_squared_error: 15.3219 - val_mean_absolute_error: 2.6292\n",
      "Epoch 44/50\n",
      "270/270 [==============================] - 0s 135us/sample - loss: 4.5180 - mean_squared_error: 4.5180 - mean_absolute_error: 1.5735 - val_loss: 16.0550 - val_mean_squared_error: 16.0550 - val_mean_absolute_error: 2.7247\n",
      "Epoch 45/50\n",
      "270/270 [==============================] - 0s 132us/sample - loss: 4.6062 - mean_squared_error: 4.6062 - mean_absolute_error: 1.5531 - val_loss: 15.3698 - val_mean_squared_error: 15.3698 - val_mean_absolute_error: 2.6433\n",
      "Epoch 46/50\n",
      "270/270 [==============================] - 0s 147us/sample - loss: 4.1318 - mean_squared_error: 4.1318 - mean_absolute_error: 1.5305 - val_loss: 15.4598 - val_mean_squared_error: 15.4598 - val_mean_absolute_error: 2.6351\n",
      "Epoch 47/50\n",
      "270/270 [==============================] - 0s 140us/sample - loss: 4.3037 - mean_squared_error: 4.3037 - mean_absolute_error: 1.5147 - val_loss: 15.3064 - val_mean_squared_error: 15.3064 - val_mean_absolute_error: 2.6262\n",
      "Epoch 48/50\n",
      "270/270 [==============================] - 0s 163us/sample - loss: 4.4908 - mean_squared_error: 4.4908 - mean_absolute_error: 1.5789 - val_loss: 15.0202 - val_mean_squared_error: 15.0202 - val_mean_absolute_error: 2.6136\n",
      "Epoch 49/50\n",
      "270/270 [==============================] - 0s 211us/sample - loss: 4.0274 - mean_squared_error: 4.0274 - mean_absolute_error: 1.4974 - val_loss: 14.7885 - val_mean_squared_error: 14.7885 - val_mean_absolute_error: 2.5754\n",
      "Epoch 50/50\n",
      "270/270 [==============================] - 0s 206us/sample - loss: 3.8826 - mean_squared_error: 3.8826 - mean_absolute_error: 1.4367 - val_loss: 14.7749 - val_mean_squared_error: 14.7749 - val_mean_absolute_error: 2.5680\n"
     ]
    },
    {
     "data": {
      "text/plain": [
       "<tensorflow.python.keras.callbacks.History at 0x7f9c79a29b00>"
      ]
     },
     "execution_count": 10,
     "metadata": {},
     "output_type": "execute_result"
    }
   ],
   "source": [
    "# entity = 'ds8'\n",
    "# project = 'ds10_inclass'\n",
    "\n",
    "wandb.init(project=wandb_project, entity=wandb_group) #Initializes and Experiment\n",
    "\n",
    "# Important Hyperparameters\n",
    "X =  x_train\n",
    "y =  y_train\n",
    "\n",
    "inputs = X.shape[1]\n",
    "wandb.config.epochs = 50\n",
    "wandb.config.batch_size = 10\n",
    "\n",
    "# Create Model\n",
    "model = Sequential()\n",
    "model.add(Dense(64, activation='relu', input_shape=(inputs,)))\n",
    "model.add(Dense(64, activation='relu'))\n",
    "model.add(Dense(64, activation='relu'))\n",
    "model.add(Dense(1))\n",
    "# Compile Model\n",
    "model.compile(optimizer='adam', loss='mse', metrics=['mse', 'mae'])\n",
    "\n",
    "# Fit Model\n",
    "model.fit(X, y, \n",
    "          validation_split=0.33, \n",
    "          epochs=wandb.config.epochs, \n",
    "          batch_size=wandb.config.batch_size, \n",
    "          callbacks=[WandbCallback()]\n",
    "         )"
   ]
  },
  {
   "cell_type": "markdown",
   "metadata": {},
   "source": [
    "## Challenge\n",
    "\n",
    "You will be expected to use Weights & Biases to try to tune your model during your module assignment today. "
   ]
  },
  {
   "cell_type": "markdown",
   "metadata": {
    "toc-hr-collapsed": false
   },
   "source": [
    "# Hyperparameters with RandomSearchCV (Learn)"
   ]
  },
  {
   "cell_type": "markdown",
   "metadata": {},
   "source": [
    "## Overview\n",
    "\n",
    "Basically `GridSearchCV` takes forever. You'll want to adopt a slightly more sophiscated strategy."
   ]
  },
  {
   "cell_type": "markdown",
   "metadata": {},
   "source": [
    "## Follow Along"
   ]
  },
  {
   "cell_type": "code",
   "execution_count": 8,
   "metadata": {},
   "outputs": [],
   "source": [
    "sweep_config = {\n",
    "    'method': 'random',\n",
    "    'parameters': {\n",
    "        'learning_rate': {'distribution': 'normal'},\n",
    "        'epochs': {'distribution': 'uniform',\n",
    "                    'min': 100,\n",
    "                    'max': 1000},\n",
    "        'batch_size': {'distribution': 'uniform',\n",
    "            'min': 10,\n",
    "            'max': 400}\n",
    "    }\n",
    "}"
   ]
  },
  {
   "cell_type": "code",
   "execution_count": 9,
   "metadata": {},
   "outputs": [
    {
     "ename": "AttributeError",
     "evalue": "module 'wandb' has no attribute 'sweeps'",
     "output_type": "error",
     "traceback": [
      "\u001b[0;31m---------------------------------------------------------------------------\u001b[0m",
      "\u001b[0;31mAttributeError\u001b[0m                            Traceback (most recent call last)",
      "\u001b[0;32m<ipython-input-9-0482324e33c7>\u001b[0m in \u001b[0;36m<module>\u001b[0;34m\u001b[0m\n\u001b[1;32m      1\u001b[0m \u001b[0;32mimport\u001b[0m \u001b[0mwandb\u001b[0m\u001b[0;34m\u001b[0m\u001b[0;34m\u001b[0m\u001b[0m\n\u001b[1;32m      2\u001b[0m \u001b[0;34m\u001b[0m\u001b[0m\n\u001b[0;32m----> 3\u001b[0;31m \u001b[0msweep_id\u001b[0m \u001b[0;34m=\u001b[0m \u001b[0mwandb\u001b[0m\u001b[0;34m.\u001b[0m\u001b[0msweeps\u001b[0m\u001b[0;34m(\u001b[0m\u001b[0msweep_config\u001b[0m\u001b[0;34m)\u001b[0m\u001b[0;34m\u001b[0m\u001b[0;34m\u001b[0m\u001b[0m\n\u001b[0m",
      "\u001b[0;31mAttributeError\u001b[0m: module 'wandb' has no attribute 'sweeps'"
     ]
    }
   ],
   "source": [
    "import wandb\n",
    "\n",
    "sweep_id = wandb.sweeps(sweep_config)"
   ]
  },
  {
   "cell_type": "code",
   "execution_count": 11,
   "metadata": {},
   "outputs": [],
   "source": [
    "import wandb\n",
    "from wandb.keras import WandbCallback\n",
    "#Initializes and Experiment\n",
    "\n",
    "from tensorflow.keras.optimizers import Adam\n",
    "\n",
    "# Important Hyperparameters\n",
    "X =  x_train\n",
    "y =  y_train\n",
    "\n",
    "inputs = X.shape[1]\n",
    "\n",
    "def train():\n",
    "    \n",
    "    wandb.init(project=wandb_project, entity=wandb_group)\n",
    "    \n",
    "    config = wandb.config\n",
    "\n",
    "    # Create Model\n",
    "    model = Sequential()\n",
    "    model.add(Dense(64, activation='relu', input_shape=(inputs,)))\n",
    "    model.add(Dense(64, activation='relu'))\n",
    "    model.add(Dense(64, activation='relu'))\n",
    "    model.add(Dense(1))\n",
    "\n",
    "    # Optimizer \n",
    "    adam = Adam(learning_rate=config.learning_rate)\n",
    "\n",
    "    # Compile Model\n",
    "    model.compile(optimizer=adam, loss='mse', metrics=['mse', 'mae'])\n",
    "\n",
    "    # Fit Model\n",
    "    model.fit(X, y, \n",
    "              validation_split=0.33, \n",
    "              epochs=config.epochs, \n",
    "              batch_size=config.batch_size, \n",
    "              callbacks=[WandbCallback()]\n",
    "             )"
   ]
  },
  {
   "cell_type": "code",
   "execution_count": null,
   "metadata": {},
   "outputs": [
    {
     "name": "stdout",
     "output_type": "stream",
     "text": [
      "wandb: Agent Starting Run: 2g77kp6k with config:\n",
      "\tbatch_size: 308.503347845309\n",
      "\tepochs: 704.9395850579006\n",
      "\tlearning_rate: 1.480005523005428\n",
      "wandb: Agent Started Run: 2g77kp6k\n"
     ]
    },
    {
     "data": {
      "text/html": [
       "\n",
       "                Logging results to <a href=\"https://wandb.com\" target=\"_blank\">Weights & Biases</a> <a href=\"https://docs.wandb.com/integrations/jupyter.html\" target=\"_blank\">(Documentation)</a>.<br/>\n",
       "                Project page: <a href=\"https://app.wandb.ai/lambda-ds7/boston\" target=\"_blank\">https://app.wandb.ai/lambda-ds7/boston</a><br/>\n",
       "                Run page: <a href=\"https://app.wandb.ai/lambda-ds7/boston/runs/t4w9l4ye\" target=\"_blank\">https://app.wandb.ai/lambda-ds7/boston/runs/t4w9l4ye</a><br/>\n",
       "            "
      ],
      "text/plain": [
       "<IPython.core.display.HTML object>"
      ]
     },
     "metadata": {},
     "output_type": "display_data"
    }
   ],
   "source": [
    "wandb.agent(sweep_id, function=train)"
   ]
  },
  {
   "cell_type": "markdown",
   "metadata": {},
   "source": [
    "## Challenge\n",
    "\n",
    "Try to apply RandomSearchCV to your module project today. "
   ]
  },
  {
   "cell_type": "markdown",
   "metadata": {},
   "source": [
    "# Review\n",
    "* <a href=\"#p1\">Part 1</a>: Describe the major hyperparemeters to tune\n",
    "    - Activation Functions\n",
    "    - Optimizer\n",
    "    - Number of Layers\n",
    "    - Number of Neurons\n",
    "    - Batch Size\n",
    "    - Dropout Regulaization\n",
    "    - Learning Rate\n",
    "    - Number of Epochs\n",
    "    - and many more\n",
    "* <a href=\"#p2\">Part 2</a>: Implement an experiment tracking framework\n",
    "    - Weights & Biases\n",
    "    - Comet.ml\n",
    "    - By Hand / GridSearch\n",
    "* <a href=\"#p3\">Part 3</a>: Search the hyperparameter space using RandomSearch\n",
    "    - Sklearn still useful (haha)\n",
    "    - Integration with Wieghts & Biases\n",
    "* <a href=\"#p4\">Part 4</a>: Discuss emerging hyperparameter tuning strategies\n",
    "    - Bayesian Optimization\n",
    "    - Hyperopt\n",
    "    - Genetic Evolution"
   ]
  },
  {
   "cell_type": "markdown",
   "metadata": {},
   "source": [
    "# Sources"
   ]
  },
  {
   "cell_type": "markdown",
   "metadata": {},
   "source": [
    "## Additional Reading\n",
    "- https://machinelearningmastery.com/grid-search-hyperparameters-deep-learning-models-python-keras/\n",
    "- https://blog.floydhub.com/guide-to-hyperparameters-search-for-deep-learning-models/\n",
    "- https://machinelearningmastery.com/dropout-regularization-deep-learning-models-keras/\n",
    "- https://machinelearningmastery.com/introduction-to-weight-constraints-to-reduce-generalization-error-in-deep-learning/\n",
    "- https://machinelearningmastery.com/how-to-configure-the-number-of-layers-and-nodes-in-a-neural-network/"
   ]
  }
 ],
 "metadata": {
  "kernelspec": {
   "display_name": "U4-S2-NNF (Python 3.7)",
   "language": "python",
   "name": "u4-s2-nnf"
  },
  "language_info": {
   "codemirror_mode": {
    "name": "ipython",
    "version": 3
   },
   "file_extension": ".py",
   "mimetype": "text/x-python",
   "name": "python",
   "nbconvert_exporter": "python",
   "pygments_lexer": "ipython3",
   "version": "3.7.3"
  }
 },
 "nbformat": 4,
 "nbformat_minor": 4
}
